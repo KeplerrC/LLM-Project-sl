{
 "cells": [
  {
   "cell_type": "markdown",
   "id": "def4f351",
   "metadata": {},
   "source": [
    "pip install langchain==0.0.292\n",
    "pip install gradio==4.4.0\n",
    "pip install chromadb==0.4.15\n",
    "pip install sentence-transformers==2.2.2\n",
    "pip install unstructured==0.10.30\n",
    "pip install markdown==3.3.7"
   ]
  },
  {
   "cell_type": "code",
   "execution_count": 1,
   "id": "2c39f527-f28d-4bbc-87dc-e0206754af76",
   "metadata": {
    "ExecutionIndicator": {
     "show": true
    },
    "execution": {
     "iopub.execute_input": "2024-01-21T04:47:15.086988Z",
     "iopub.status.busy": "2024-01-21T04:47:15.086342Z",
     "iopub.status.idle": "2024-01-21T04:47:15.097459Z",
     "shell.execute_reply": "2024-01-21T04:47:15.096120Z",
     "shell.execute_reply.started": "2024-01-21T04:47:15.086910Z"
    },
    "tags": []
   },
   "outputs": [],
   "source": [
    "import os\n",
    "\n",
    "dir_path = \"/mnt/workspace/bs_challenge_financial_14b_dataset/pdf_txt_file\"\n",
    "files = os.listdir(dir_path)"
   ]
  },
  {
   "cell_type": "code",
   "execution_count": 2,
   "id": "7567bccb-a70f-4ebb-9370-c8dbeca5071c",
   "metadata": {
    "ExecutionIndicator": {
     "show": true
    },
    "execution": {
     "iopub.execute_input": "2024-01-21T04:47:15.099146Z",
     "iopub.status.busy": "2024-01-21T04:47:15.098711Z",
     "iopub.status.idle": "2024-01-21T04:47:15.520429Z",
     "shell.execute_reply": "2024-01-21T04:47:15.519751Z",
     "shell.execute_reply.started": "2024-01-21T04:47:15.099121Z"
    },
    "tags": []
   },
   "outputs": [],
   "source": [
    "import re\n",
    "\n",
    "pattern = \".*股份有限公司\\n\"\n",
    "for item in files:\n",
    "    with open(os.path.join(dir_path, item), \"r\") as f:\n",
    "        lst = f.readlines()\n",
    "        for line in lst:\n",
    "            if re.match(pattern, line):\n",
    "                name = line.strip()\n",
    "                if \"：\" in name:\n",
    "                    name = name.split(\"：\")[-1]\n",
    "                break\n",
    "    try:\n",
    "        with open(\"financial_dataset/{}.txt\".format(name), \"w\") as f:\n",
    "            for line in lst:\n",
    "                f.write(line)\n",
    "        \n",
    "    except Exception as e:\n",
    "        print(e)\n",
    "        continue"
   ]
  },
  {
   "cell_type": "code",
   "execution_count": 3,
   "id": "19904944-f924-472c-8189-d0d257589303",
   "metadata": {
    "ExecutionIndicator": {
     "show": true
    },
    "execution": {
     "iopub.execute_input": "2024-01-21T04:47:15.521941Z",
     "iopub.status.busy": "2024-01-21T04:47:15.521338Z",
     "iopub.status.idle": "2024-01-21T04:47:15.529586Z",
     "shell.execute_reply": "2024-01-21T04:47:15.528923Z",
     "shell.execute_reply.started": "2024-01-21T04:47:15.521908Z"
    },
    "tags": []
   },
   "outputs": [
    {
     "data": {
      "text/plain": [
       "['江苏爱康太阳能科技股份有限公司.txt',\n",
       " '浙江亚厦装饰股份有限公司.txt',\n",
       " '厦门安妮股份有限公司.txt',\n",
       " ' 浙江富春江环保热电股份有限公司.txt',\n",
       " '深圳可立克科技股份有限公司.txt',\n",
       " '浙江贝因美科工贸股份有限公司.txt',\n",
       " '江苏旷达汽车织物集团股份有限公司.txt',\n",
       " '（八）2019年 4月整体变更为股份有限公司.txt',\n",
       " '宁波立立电子股份有限公司.txt',\n",
       " '新疆金风科技股份有限公司.txt',\n",
       " '本公司是经国家经济贸易委员会《关于同意设立安徽天源科技股份有限公司.txt',\n",
       " '国元证券股份有限公司.txt',\n",
       " '湖南南岭民用爆破器材股份有限公司.txt',\n",
       " '国电电力发展股份有限公司.txt',\n",
       " '云南沃森生物技术股份有限公司.txt',\n",
       " '西安启源机电装备股份有限公司.txt',\n",
       " '威龙葡萄酒股份有限公司.txt',\n",
       " '四川高金食品股份有限公司.txt',\n",
       " '浙江百达精工股份有限公司.txt',\n",
       " '武汉兴图新科电子股份有限公司.txt',\n",
       " '海尔施生物医药股份有限公司.txt',\n",
       " '华瑞电器股份有限公司.txt',\n",
       " '东北证券股份有限公司.txt',\n",
       " '人、 指 深圳信立泰药业股份有限公司.txt',\n",
       " '天津力生制药股份有限公司.txt',\n",
       " '金石资源集团股份有限公司.txt',\n",
       " '浙江步森服饰股份有限公司.txt',\n",
       " '自浙江金卡高科技股份有限公司.txt',\n",
       " '指 海南双成药业股份有限公司.txt',\n",
       " '师事务所（特殊普通合伙）（以下简称“致同”）为华达汽车科技股份有限公司.txt',\n",
       " '青岛银行股份有限公司.txt',\n",
       " '北京银行股份有限公司.txt',\n",
       " '大连派思燃气系统股份有限公司.txt',\n",
       " ' 华林证券股份有限公司.txt',\n",
       " '新疆浩源天然气股份有限公司.txt',\n",
       " '华泰证券股份有限公司.txt',\n",
       " '烟台杰瑞石油服务集团股份有限公司.txt',\n",
       " '苏州海陆重工股份有限公司.txt',\n",
       " '大博医疗科技股份有限公司.txt',\n",
       " '深圳市超频三科技股份有限公司.txt',\n",
       " '青海互助青稞酒股份有限公司.txt',\n",
       " '杭州中恒电气股份有限公司.txt',\n",
       " '联化科技股份有限公司.txt',\n",
       " '东港安全印刷股份有限公司.txt',\n",
       " '中信建投证券股份有限公司.txt',\n",
       " '3、2021年 5月，整体变更为股份有限公司.txt',\n",
       " '中国铁路通信信号股份有限公司.txt',\n",
       " '东吴证券股份有限公司.txt',\n",
       " '江苏天瑞仪器股份有限公司.txt',\n",
       " '州光弘科技股份有限公司.txt',\n",
       " ' 常熟风范电力设备股份有限公司.txt',\n",
       " '7、上海真兰燃气设备股份有限公司.txt',\n",
       " '浙江开尔新材料股份有限公司.txt',\n",
       " '如若由于深圳市铁汉园林绿化有限公司以净资产折股整体变更为股份有限公司.txt',\n",
       " '内蒙古君正能源化工股份有限公司.txt',\n",
       " '瑞达期货股份有限公司.txt',\n",
       " '安信证券股份有限公司.txt',\n",
       " '武汉力源信息技术股份有限公司.txt',\n",
       " '东莞勤上光电股份有限公司.txt',\n",
       " '成都华气厚普机电设备股份有限公司.txt',\n",
       " '贵州永吉印务股份有限公司.txt',\n",
       " '深圳市建筑科学研究院股份有限公司.txt',\n",
       " '中国银河证券股份有限公司.txt',\n",
       " '海看网络科技（山东）股份有限公司.txt',\n",
       " '湖南国科微电子股份有限公司.txt',\n",
       " '珠海健帆生物科技股份有限公司.txt',\n",
       " '中国国际金融股份有限公司.txt',\n",
       " ' 广东银禧科技股份有限公司.txt',\n",
       " '浙江双飞无油轴承股份有限公司.txt',\n",
       " '读者出版传媒股份有限公司.txt',\n",
       " '上海华铭智能终端设备股份有限公司.txt',\n",
       " '北京天宜上佳高新材料股份有限公司.txt',\n",
       " '上海宏英智能科技股份有限公司.txt',\n",
       " '兰州海默科技股份有限公司.txt',\n",
       " '昇兴集团股份有限公司.txt',\n",
       " '汉嘉设计集团股份有限公司.txt',\n",
       " ' 中信建投证券股份有限公司.txt',\n",
       " '北京七星华创电子股份有限公司.txt',\n",
       " '山东国瓷功能材料股份有限公司.txt']"
      ]
     },
     "execution_count": 3,
     "metadata": {},
     "output_type": "execute_result"
    }
   ],
   "source": [
    "import os\n",
    "\n",
    "dir_path = \"financial_dataset\"\n",
    "files = os.listdir(dir_path)\n",
    "files"
   ]
  },
  {
   "cell_type": "code",
   "execution_count": 4,
   "id": "bb152e29-16df-4201-b625-8ef703ec48f4",
   "metadata": {
    "ExecutionIndicator": {
     "show": true
    },
    "execution": {
     "iopub.execute_input": "2024-01-21T04:47:15.530832Z",
     "iopub.status.busy": "2024-01-21T04:47:15.530421Z",
     "iopub.status.idle": "2024-01-21T04:47:15.534388Z",
     "shell.execute_reply": "2024-01-21T04:47:15.533675Z",
     "shell.execute_reply.started": "2024-01-21T04:47:15.530808Z"
    },
    "tags": []
   },
   "outputs": [],
   "source": [
    "new_files = []\n",
    "for item in files:\n",
    "    if len(item) > 20:\n",
    "        continue\n",
    "    else:\n",
    "        if \" \" in item:\n",
    "            continue\n",
    "        if \"、\" in item:\n",
    "            continue\n",
    "        new_files.append(item)"
   ]
  },
  {
   "cell_type": "code",
   "execution_count": 5,
   "id": "1fbfae45-650d-42b9-9f04-bc25f0934988",
   "metadata": {
    "execution": {
     "iopub.execute_input": "2024-01-21T04:47:15.536233Z",
     "iopub.status.busy": "2024-01-21T04:47:15.535828Z",
     "iopub.status.idle": "2024-01-21T04:47:15.541470Z",
     "shell.execute_reply": "2024-01-21T04:47:15.540661Z",
     "shell.execute_reply.started": "2024-01-21T04:47:15.536210Z"
    },
    "tags": []
   },
   "outputs": [
    {
     "data": {
      "text/plain": [
       "['江苏爱康太阳能科技股份有限公司.txt',\n",
       " '浙江亚厦装饰股份有限公司.txt',\n",
       " '厦门安妮股份有限公司.txt',\n",
       " '深圳可立克科技股份有限公司.txt',\n",
       " '浙江贝因美科工贸股份有限公司.txt',\n",
       " '江苏旷达汽车织物集团股份有限公司.txt',\n",
       " '宁波立立电子股份有限公司.txt',\n",
       " '新疆金风科技股份有限公司.txt',\n",
       " '国元证券股份有限公司.txt',\n",
       " '湖南南岭民用爆破器材股份有限公司.txt',\n",
       " '国电电力发展股份有限公司.txt',\n",
       " '云南沃森生物技术股份有限公司.txt',\n",
       " '西安启源机电装备股份有限公司.txt',\n",
       " '威龙葡萄酒股份有限公司.txt',\n",
       " '四川高金食品股份有限公司.txt',\n",
       " '浙江百达精工股份有限公司.txt',\n",
       " '武汉兴图新科电子股份有限公司.txt',\n",
       " '海尔施生物医药股份有限公司.txt',\n",
       " '华瑞电器股份有限公司.txt',\n",
       " '东北证券股份有限公司.txt',\n",
       " '天津力生制药股份有限公司.txt',\n",
       " '金石资源集团股份有限公司.txt',\n",
       " '浙江步森服饰股份有限公司.txt',\n",
       " '自浙江金卡高科技股份有限公司.txt',\n",
       " '青岛银行股份有限公司.txt',\n",
       " '北京银行股份有限公司.txt',\n",
       " '大连派思燃气系统股份有限公司.txt',\n",
       " '新疆浩源天然气股份有限公司.txt',\n",
       " '华泰证券股份有限公司.txt',\n",
       " '烟台杰瑞石油服务集团股份有限公司.txt',\n",
       " '苏州海陆重工股份有限公司.txt',\n",
       " '大博医疗科技股份有限公司.txt',\n",
       " '深圳市超频三科技股份有限公司.txt',\n",
       " '青海互助青稞酒股份有限公司.txt',\n",
       " '杭州中恒电气股份有限公司.txt',\n",
       " '联化科技股份有限公司.txt',\n",
       " '东港安全印刷股份有限公司.txt',\n",
       " '中信建投证券股份有限公司.txt',\n",
       " '中国铁路通信信号股份有限公司.txt',\n",
       " '东吴证券股份有限公司.txt',\n",
       " '江苏天瑞仪器股份有限公司.txt',\n",
       " '州光弘科技股份有限公司.txt',\n",
       " '浙江开尔新材料股份有限公司.txt',\n",
       " '内蒙古君正能源化工股份有限公司.txt',\n",
       " '瑞达期货股份有限公司.txt',\n",
       " '安信证券股份有限公司.txt',\n",
       " '武汉力源信息技术股份有限公司.txt',\n",
       " '东莞勤上光电股份有限公司.txt',\n",
       " '成都华气厚普机电设备股份有限公司.txt',\n",
       " '贵州永吉印务股份有限公司.txt',\n",
       " '深圳市建筑科学研究院股份有限公司.txt',\n",
       " '中国银河证券股份有限公司.txt',\n",
       " '海看网络科技（山东）股份有限公司.txt',\n",
       " '湖南国科微电子股份有限公司.txt',\n",
       " '珠海健帆生物科技股份有限公司.txt',\n",
       " '中国国际金融股份有限公司.txt',\n",
       " '浙江双飞无油轴承股份有限公司.txt',\n",
       " '读者出版传媒股份有限公司.txt',\n",
       " '上海华铭智能终端设备股份有限公司.txt',\n",
       " '北京天宜上佳高新材料股份有限公司.txt',\n",
       " '上海宏英智能科技股份有限公司.txt',\n",
       " '兰州海默科技股份有限公司.txt',\n",
       " '昇兴集团股份有限公司.txt',\n",
       " '汉嘉设计集团股份有限公司.txt',\n",
       " '北京七星华创电子股份有限公司.txt',\n",
       " '山东国瓷功能材料股份有限公司.txt']"
      ]
     },
     "execution_count": 5,
     "metadata": {},
     "output_type": "execute_result"
    }
   ],
   "source": [
    "new_files"
   ]
  },
  {
   "cell_type": "code",
   "execution_count": 22,
   "id": "48d796d9-8eae-4909-a542-40ff92ff76d4",
   "metadata": {
    "ExecutionIndicator": {
     "show": true
    },
    "execution": {
     "iopub.execute_input": "2024-01-21T05:19:32.839147Z",
     "iopub.status.busy": "2024-01-21T05:19:32.838643Z",
     "iopub.status.idle": "2024-01-21T05:21:05.972436Z",
     "shell.execute_reply": "2024-01-21T05:21:05.971422Z",
     "shell.execute_reply.started": "2024-01-21T05:19:32.839116Z"
    },
    "tags": []
   },
   "outputs": [
    {
     "name": "stderr",
     "output_type": "stream",
     "text": [
      "100%|██████████| 20/20 [01:33<00:00,  4.66s/it]\n"
     ]
    }
   ],
   "source": [
    "from tqdm import tqdm\n",
    "from langchain.document_loaders import UnstructuredFileLoader\n",
    "from langchain.document_loaders import UnstructuredMarkdownLoader\n",
    "\n",
    "def get_text(file_lst):\n",
    "    # args：dir_path，目标文件夹路径\n",
    "    docs = []\n",
    "    # 遍历所有目标文件\n",
    "    for one_file in tqdm(file_lst):\n",
    "        file_type = one_file.split('.')[-1]\n",
    "        if file_type == 'txt':\n",
    "            loader = UnstructuredFileLoader(one_file)\n",
    "        else:\n",
    "            # 如果是不符合条件的文件，直接跳过\n",
    "            continue\n",
    "        docs.extend(loader.load())\n",
    "    return docs\n",
    "\n",
    "file_lst = [os.path.join(dir_path, item) for item in new_files[:20]]\n",
    "docs = get_text(file_lst)"
   ]
  },
  {
   "cell_type": "code",
   "execution_count": 23,
   "id": "e9ac8b70-5812-4cdf-85b2-d19e6920cd18",
   "metadata": {
    "ExecutionIndicator": {
     "show": true
    },
    "execution": {
     "iopub.execute_input": "2024-01-21T05:24:07.727587Z",
     "iopub.status.busy": "2024-01-21T05:24:07.727088Z",
     "iopub.status.idle": "2024-01-21T05:24:08.179635Z",
     "shell.execute_reply": "2024-01-21T05:24:08.178867Z",
     "shell.execute_reply.started": "2024-01-21T05:24:07.727556Z"
    },
    "tags": []
   },
   "outputs": [],
   "source": [
    "from langchain.text_splitter import RecursiveCharacterTextSplitter\n",
    "\n",
    "text_splitter = RecursiveCharacterTextSplitter(\n",
    "    chunk_size=350, chunk_overlap=150)\n",
    "split_docs = text_splitter.split_documents(docs)"
   ]
  },
  {
   "cell_type": "code",
   "execution_count": 24,
   "id": "da4a36cf-ac17-4e0a-b3ca-14e1c3237b34",
   "metadata": {
    "execution": {
     "iopub.execute_input": "2024-01-21T05:24:08.773554Z",
     "iopub.status.busy": "2024-01-21T05:24:08.773074Z",
     "iopub.status.idle": "2024-01-21T05:24:08.829672Z",
     "shell.execute_reply": "2024-01-21T05:24:08.828978Z",
     "shell.execute_reply.started": "2024-01-21T05:24:08.773524Z"
    },
    "tags": []
   },
   "outputs": [],
   "source": [
    "for one_chunk in split_docs:\n",
    "    one_chunk.page_content = one_chunk.metadata[\"source\"].split(\"/\")[-1] +  one_chunk.page_content + one_chunk.metadata[\"source\"].split(\"/\")[-1]"
   ]
  },
  {
   "cell_type": "code",
   "execution_count": 16,
   "id": "aa501b06-389d-44c9-aa49-432ebf06ff6d",
   "metadata": {
    "ExecutionIndicator": {
     "show": false
    },
    "execution": {
     "iopub.execute_input": "2024-01-21T05:00:06.594363Z",
     "iopub.status.busy": "2024-01-21T05:00:06.593865Z",
     "iopub.status.idle": "2024-01-21T05:00:06.599687Z",
     "shell.execute_reply": "2024-01-21T05:00:06.598825Z",
     "shell.execute_reply.started": "2024-01-21T05:00:06.594332Z"
    },
    "tags": []
   },
   "outputs": [
    {
     "data": {
      "text/plain": [
       "Document(page_content='江苏爱康太阳能科技股份有限公司.txt江阴市华士工业集中区红苗园区勤丰路101\\n\\n广东省深圳市福田区金田路大中华国际交易\\n\\n江苏爱康太阳能科技股份有限公司\\n\\n首次公开发行股票招股意向书\\n\\n发行股票类型： 人民币普通股（A股）\\n\\n发行股数： 不超过5,000万股\\n\\n每股面值： 1.00元\\n\\n每股发行价格： 待定\\n\\n发行日期： 2011年8月3日\\n\\n拟上市证券交易所： 深圳证券交易所\\n\\n发行后总股本： 不超过20,000万股\\n\\n保荐人（主承销商）： 平安证券有限责任公司\\n\\n本招股意向书签署日期： 2011年7月18日\\n\\n1、本次发行前股东所持股份的流通限制及股东对所持股份自愿锁定的承诺：\\n\\n根据《公司法》规定，本公司本次公开发行前已发行的股份自本公司股票在\\n\\n证券交易所上市交易之日起一年内不得转让。\\n\\n除上述法定要求外：江苏爱康太阳能科技股份有限公司.txt', metadata={'source': 'financial_dataset/江苏爱康太阳能科技股份有限公司.txt'})"
      ]
     },
     "execution_count": 16,
     "metadata": {},
     "output_type": "execute_result"
    }
   ],
   "source": [
    "split_docs[0]\n"
   ]
  },
  {
   "cell_type": "code",
   "execution_count": 25,
   "id": "8d592ef2-729a-4e83-9edd-4d6ba8016b9b",
   "metadata": {
    "execution": {
     "iopub.execute_input": "2024-01-21T05:24:11.870995Z",
     "iopub.status.busy": "2024-01-21T05:24:11.870499Z",
     "iopub.status.idle": "2024-01-21T05:24:11.875705Z",
     "shell.execute_reply": "2024-01-21T05:24:11.875084Z",
     "shell.execute_reply.started": "2024-01-21T05:24:11.870948Z"
    },
    "tags": []
   },
   "outputs": [
    {
     "data": {
      "text/plain": [
       "21380"
      ]
     },
     "execution_count": 25,
     "metadata": {},
     "output_type": "execute_result"
    }
   ],
   "source": [
    "len(split_docs)"
   ]
  },
  {
   "cell_type": "code",
   "execution_count": 26,
   "id": "32d42399-7900-45d6-91a6-513bc3204a99",
   "metadata": {
    "ExecutionIndicator": {
     "show": true
    },
    "execution": {
     "iopub.execute_input": "2024-01-21T05:24:13.260247Z",
     "iopub.status.busy": "2024-01-21T05:24:13.259749Z",
     "iopub.status.idle": "2024-01-21T05:24:15.431295Z",
     "shell.execute_reply": "2024-01-21T05:24:15.430527Z",
     "shell.execute_reply.started": "2024-01-21T05:24:13.260216Z"
    },
    "tags": []
   },
   "outputs": [],
   "source": [
    "from langchain.embeddings.huggingface import HuggingFaceEmbeddings\n",
    "\n",
    "embeddings = HuggingFaceEmbeddings(model_name=\"m3e-base\")"
   ]
  },
  {
   "cell_type": "code",
   "execution_count": 27,
   "id": "f1eff9b1-10d0-4ae8-8e38-47a2d58ea9ef",
   "metadata": {
    "ExecutionIndicator": {
     "show": true
    },
    "execution": {
     "iopub.execute_input": "2024-01-21T05:24:17.769370Z",
     "iopub.status.busy": "2024-01-21T05:24:17.768864Z",
     "iopub.status.idle": "2024-01-21T05:26:50.043587Z",
     "shell.execute_reply": "2024-01-21T05:26:50.042625Z",
     "shell.execute_reply.started": "2024-01-21T05:24:17.769337Z"
    },
    "tags": []
   },
   "outputs": [],
   "source": [
    "from langchain.vectorstores import Chroma\n",
    "\n",
    "# 定义持久化路径\n",
    "persist_directory = 'data_base/vector_db/chroma'\n",
    "# 加载数据库\n",
    "vectordb = Chroma.from_documents(\n",
    "    documents=split_docs[:20000],\n",
    "    embedding=embeddings,\n",
    "    persist_directory=persist_directory  # 允许我们将persist_directory目录保存到磁盘上\n",
    ")\n",
    "# 将加载的向量数据库持久化到磁盘上\n",
    "vectordb.persist()"
   ]
  },
  {
   "cell_type": "code",
   "execution_count": 8,
   "id": "cd8e0b52-c62a-453f-a79c-adc054960995",
   "metadata": {
    "ExecutionIndicator": {
     "show": true
    },
    "execution": {
     "iopub.execute_input": "2024-01-21T06:48:01.489528Z",
     "iopub.status.busy": "2024-01-21T06:48:01.489054Z",
     "iopub.status.idle": "2024-01-21T06:48:01.498916Z",
     "shell.execute_reply": "2024-01-21T06:48:01.498230Z",
     "shell.execute_reply.started": "2024-01-21T06:48:01.489499Z"
    },
    "tags": []
   },
   "outputs": [],
   "source": [
    "from langchain.llms.base import LLM\n",
    "from typing import Any, List, Optional\n",
    "from langchain.callbacks.manager import CallbackManagerForLLMRun\n",
    "from transformers import AutoTokenizer, AutoModelForCausalLM, GenerationConfig\n",
    "import torch\n",
    "\n",
    "\n",
    "class QwenLM(LLM):\n",
    "    # 基于本地 Qwen 自定义 LLM 类\n",
    "    tokenizer : AutoTokenizer = None\n",
    "    model: AutoModelForCausalLM = None\n",
    "\n",
    "    def __init__(self, model_path :str):\n",
    "        # model_path: Qwen 模型路径\n",
    "        # 从本地初始化模型\n",
    "        super().__init__()\n",
    "        print(\"正在从本地加载模型...\")\n",
    "        model_dir = 'qwen/Qwen-7B-Chat'\n",
    "        self.tokenizer = AutoTokenizer.from_pretrained(model_dir, trust_remote_code=True)\n",
    "        self.model = AutoModelForCausalLM.from_pretrained(model_dir, device_map=\"auto\", trust_remote_code=True, torch_dtype=torch.half, load_in_8bit=True).eval()\n",
    "        # Specify hyperparameters for generation\n",
    "        self.model.generation_config = GenerationConfig.from_pretrained(model_dir, trust_remote_code=True) # 可指定不同的生成长度、top_p等相关超参\n",
    "        print(\"完成本地模型的加载\")\n",
    "\n",
    "    def _call(self, prompt : str, stop: Optional[List[str]] = None,\n",
    "                run_manager: Optional[CallbackManagerForLLMRun] = None,\n",
    "                **kwargs: Any):\n",
    "        # 重写调用函数\n",
    "        response, history = self.model.chat(self.tokenizer, prompt , history=[])\n",
    "        return response\n",
    "        \n",
    "    @property\n",
    "    def _llm_type(self) -> str:\n",
    "        return \"QwenLM\""
   ]
  },
  {
   "cell_type": "code",
   "execution_count": 9,
   "id": "6b41fee0-5ee5-42ea-b751-6f5b3d978fd2",
   "metadata": {
    "execution": {
     "iopub.execute_input": "2024-01-21T06:48:03.323848Z",
     "iopub.status.busy": "2024-01-21T06:48:03.323365Z",
     "iopub.status.idle": "2024-01-21T06:48:04.323158Z",
     "shell.execute_reply": "2024-01-21T06:48:04.322436Z",
     "shell.execute_reply.started": "2024-01-21T06:48:03.323818Z"
    },
    "tags": []
   },
   "outputs": [],
   "source": [
    "from langchain.vectorstores import Chroma\n",
    "from langchain.embeddings.huggingface import HuggingFaceEmbeddings\n",
    "import os\n",
    "\n",
    "# 定义 Embeddings\n",
    "embeddings = HuggingFaceEmbeddings(model_name=\"m3e-base\")\n",
    "\n",
    "# 向量数据库持久化路径\n",
    "persist_directory = 'data_base/vector_db/chroma'\n",
    "\n",
    "# 加载数据库\n",
    "vectordb = Chroma(\n",
    "    persist_directory=persist_directory, \n",
    "    embedding_function=embeddings\n",
    ")"
   ]
  },
  {
   "cell_type": "code",
   "execution_count": 10,
   "id": "7964f10d-a880-4704-bb0a-98168b6bfb79",
   "metadata": {
    "execution": {
     "iopub.execute_input": "2024-01-21T06:48:04.861403Z",
     "iopub.status.busy": "2024-01-21T06:48:04.860933Z",
     "iopub.status.idle": "2024-01-21T06:48:26.365831Z",
     "shell.execute_reply": "2024-01-21T06:48:26.365041Z",
     "shell.execute_reply.started": "2024-01-21T06:48:04.861374Z"
    },
    "tags": []
   },
   "outputs": [
    {
     "name": "stdout",
     "output_type": "stream",
     "text": [
      "正在从本地加载模型...\n"
     ]
    },
    {
     "name": "stderr",
     "output_type": "stream",
     "text": [
      "Warning: please make sure that you are using the latest codes and checkpoints, especially if you used Qwen-7B before 09.25.2023.请使用最新模型和代码，尤其如果你在9月25日前已经开始使用Qwen-7B，千万注意不要使用错误代码和模型。\n",
      "The model is automatically converting to fp16 for faster inference. If you want to disable the automatic precision, please manually add bf16/fp16/fp32=True to \"AutoModelForCausalLM.from_pretrained\".\n",
      "Warning: import flash_attn rotary fail, please install FlashAttention rotary to get higher efficiency https://github.com/Dao-AILab/flash-attention/tree/main/csrc/rotary\n",
      "Warning: import flash_attn rms_norm fail, please install FlashAttention layer_norm to get higher efficiency https://github.com/Dao-AILab/flash-attention/tree/main/csrc/layer_norm\n",
      "Warning: import flash_attn fail, please install FlashAttention to get higher efficiency https://github.com/Dao-AILab/flash-attention\n",
      "The model weights are not tied. Please use the `tie_weights` method before using the `infer_auto_device` function.\n",
      "Loading checkpoint shards: 100%|██████████| 8/8 [00:09<00:00,  1.21s/it]\n"
     ]
    },
    {
     "name": "stdout",
     "output_type": "stream",
     "text": [
      "完成本地模型的加载\n"
     ]
    },
    {
     "data": {
      "text/plain": [
       "'我是通义千问，由阿里云开发的AI助手。我被设计用来回答各种问题、提供信息和与用户进行对话。有什么我可以帮助你的吗？'"
      ]
     },
     "execution_count": 10,
     "metadata": {},
     "output_type": "execute_result"
    }
   ],
   "source": [
    "llm = QwenLM(model_path = \"qwen\")\n",
    "llm.predict(\"你是谁\")"
   ]
  },
  {
   "cell_type": "code",
   "execution_count": 11,
   "id": "22030ea2-3414-4431-bfb8-aebcf8fab04e",
   "metadata": {
    "execution": {
     "iopub.execute_input": "2024-01-21T06:48:28.872627Z",
     "iopub.status.busy": "2024-01-21T06:48:28.872153Z",
     "iopub.status.idle": "2024-01-21T06:48:28.877217Z",
     "shell.execute_reply": "2024-01-21T06:48:28.876421Z",
     "shell.execute_reply.started": "2024-01-21T06:48:28.872597Z"
    },
    "tags": []
   },
   "outputs": [],
   "source": [
    "from langchain.prompts import PromptTemplate\n",
    "\n",
    "# 我们所构造的 Prompt 模板\n",
    "template = \"\"\"使用以下上下文来回答最后的问题。如果你不知道答案，就说你不知道，不要试图编造答案。尽量使答案简明扼要。”。\n",
    "{context}\n",
    "问题: {question}\n",
    "有用的回答:\"\"\"\n",
    "\n",
    "# 调用 LangChain 的方法来实例化一个 Template 对象，该对象包含了 context 和 question 两个变量，在实际调用时，这两个变量会被检索到的文档片段和用户提问填充\n",
    "QA_CHAIN_PROMPT = PromptTemplate(input_variables=[\"context\",\"question\"],template=template)\n"
   ]
  },
  {
   "cell_type": "code",
   "execution_count": 12,
   "id": "5f656cc7-01da-42bc-a2e4-bc159a5a4298",
   "metadata": {
    "execution": {
     "iopub.execute_input": "2024-01-21T06:48:30.666759Z",
     "iopub.status.busy": "2024-01-21T06:48:30.666068Z",
     "iopub.status.idle": "2024-01-21T06:48:30.670837Z",
     "shell.execute_reply": "2024-01-21T06:48:30.670183Z",
     "shell.execute_reply.started": "2024-01-21T06:48:30.666729Z"
    },
    "tags": []
   },
   "outputs": [],
   "source": [
    "from langchain.chains import RetrievalQA\n",
    "\n",
    "qa_chain = RetrievalQA.from_chain_type(llm,retriever=vectordb.as_retriever(),return_source_documents=True,chain_type_kwargs={\"prompt\":QA_CHAIN_PROMPT})"
   ]
  },
  {
   "cell_type": "code",
   "execution_count": 18,
   "id": "0e1f5e58-ac3b-4843-8121-dd4b5dae4bdf",
   "metadata": {
    "ExecutionIndicator": {
     "show": true
    },
    "execution": {
     "iopub.execute_input": "2024-01-21T06:53:03.744949Z",
     "iopub.status.busy": "2024-01-21T06:53:03.744451Z",
     "iopub.status.idle": "2024-01-21T06:53:07.044411Z",
     "shell.execute_reply": "2024-01-21T06:53:07.043629Z",
     "shell.execute_reply.started": "2024-01-21T06:53:03.744908Z"
    },
    "tags": []
   },
   "outputs": [
    {
     "name": "stdout",
     "output_type": "stream",
     "text": [
      "大模型回答 question 的结果：\n",
      "武汉兴图新科电子股份有限公司的保荐人是中信证券股份有限公司。\n"
     ]
    }
   ],
   "source": [
    "question = \"武汉兴图新科电子股份有限公司的保荐人是谁？\"\n",
    "# 仅 LLM 回答效果\n",
    "result = llm(question)\n",
    "print(\"大模型回答 question 的结果：\")\n",
    "print(result)"
   ]
  },
  {
   "cell_type": "code",
   "execution_count": 19,
   "id": "6ade608f-a1b0-4d55-bc82-0d91ab0a0178",
   "metadata": {
    "ExecutionIndicator": {
     "show": true
    },
    "execution": {
     "iopub.execute_input": "2024-01-21T06:53:10.637691Z",
     "iopub.status.busy": "2024-01-21T06:53:10.637238Z",
     "iopub.status.idle": "2024-01-21T06:53:12.169873Z",
     "shell.execute_reply": "2024-01-21T06:53:12.169109Z",
     "shell.execute_reply.started": "2024-01-21T06:53:10.637662Z"
    },
    "tags": []
   },
   "outputs": [
    {
     "name": "stdout",
     "output_type": "stream",
     "text": [
      "检索问答链回答 question 的结果：\n",
      "中泰证券股份有限公司\n"
     ]
    }
   ],
   "source": [
    "result = qa_chain({\"query\": question})\n",
    "print(\"检索问答链回答 question 的结果：\")\n",
    "print(result[\"result\"])\n",
    "\n"
   ]
  },
  {
   "cell_type": "code",
   "execution_count": 21,
   "id": "013d3953-fe30-4f88-b73c-3e851d3ec199",
   "metadata": {
    "execution": {
     "iopub.execute_input": "2024-01-21T06:53:32.281205Z",
     "iopub.status.busy": "2024-01-21T06:53:32.280695Z",
     "iopub.status.idle": "2024-01-21T06:53:32.286455Z",
     "shell.execute_reply": "2024-01-21T06:53:32.285645Z",
     "shell.execute_reply.started": "2024-01-21T06:53:32.281173Z"
    },
    "tags": []
   },
   "outputs": [
    {
     "data": {
      "text/plain": [
       "{'query': '武汉兴图新科电子股份有限公司的保荐人是谁？',\n",
       " 'result': '中泰证券股份有限公司',\n",
       " 'source_documents': [Document(page_content='武汉兴图新科电子股份有限公司.txt传真：027-81979095\\n\\n联系人：陈尧\\n\\n2、保荐机构（主承销商）：中泰证券股份有限公司\\n\\n办公地址：山东省济南市市中区经七路 86号\\n\\n联系电话：0531-68889196\\n\\n传真：0531-68889222\\n\\n联系人：陈胜可、马闪亮、王静、李雪龙、黄朝镇、白仲发、平成雄、余俊\\n\\n洋、吴泽雄武汉兴图新科电子股份有限公司.txt', metadata={'source': 'financial_dataset/武汉兴图新科电子股份有限公司.txt'}),\n",
       "  Document(page_content='武汉兴图新科电子股份有限公司.txt3、任青\\n\\n任青，女，1979 年 9 月出生，中国国籍，无境外永久居留权，毕业于华中\\n\\n理工大学计算机专业，本科学历。2004年12 月至2010年12月，就职于武汉兴\\n\\n图新科电子有限公司，历任测试工程师、质量部副经理；2011年1月至 2012年\\n\\n4 月在公司任质量部副经理；2012 年 5 月至今在公司任保密办主任。2018 年 12\\n\\n月至今在公司任监事。\\n\\n（三）高级管理人员\\n\\n公司的高级管理人员包括总经理、副总经理、董事会秘书及财务负责人。截\\n\\n至本招股意向书签署日，公司现任高管基本情况如下：\\n\\n<|TABLE_0076_0000.xlsx|>\\n\\n1、程家明\\n\\n程家明先生，简历参见本节之“七、发行人控股股东、实际控制人、持有发武汉兴图新科电子股份有限公司.txt', metadata={'source': 'financial_dataset/武汉兴图新科电子股份有限公司.txt'}),\n",
       "  Document(page_content='武汉兴图新科电子股份有限公司.txt（四）核心技术人员近两年变动情况\\n\\n最近两年，发行人的核心技术人员未发生变动。\\n\\n十二、董事、监事、高级管理人员及核心技术人员的其他对外投资情\\n\\n况\\n\\n截至报告期末，公司董事、监事、高级管理人员与核心技术人员的对外投资\\n\\n情况如下：\\n\\n截至本招股意向书签署日，本公司董事、监事、高级管理人员、核心技术人\\n\\n员无与发行人及其业务相关的对外投资。\\n\\n截至本招股意向书签署日，本公司董事、监事、高级管理人员、核心技术人\\n\\n员无与发行人及其业务相关的对外投资。\\n\\n十三、董事、监事、高级管理人员、核心技术人员及其近亲属直接或\\n\\n间接持有本公司股份的情况\\n\\n<|TABLE_0086_0001.xlsx|>\\n\\n（一）本公司董事、监事、高级管理人员及核心技术人员持有本公司股份\\n\\n情况武汉兴图新科电子股份有限公司.txt', metadata={'source': 'financial_dataset/武汉兴图新科电子股份有限公司.txt'}),\n",
       "  Document(page_content='武汉兴图新科电子股份有限公司.txt控股股东、实际控制人”。\\n\\n2、陈爱民\\n\\n陈爱民先生，简历参见本节之“九、董事、监事、高级管理人员与核心技术\\n\\n人员简介”之“（一）董事”。\\n\\n3、姚小华\\n\\n姚小华女士，简历参见本节之“九、董事、监事、高级管理人员与核心技术\\n\\n人员简介”之“（一）董事”。\\n\\n4、马超\\n\\n马超，男，1983 年 2 月出生，中国国籍，无境外永久居留权，毕业于湖北\\n\\n工业大学国际经济与贸易专业，本科学历。2006 年 9 月至 2015 年 10 月，就职\\n\\n于大信会计师事务所，任高级审计经理；2015 年 10 月至 2018 年 3 月，就职于\\n\\n武汉光谷人才投资管理有限公司，任投资总监；2018年3月至2019 年3月，在\\n\\n公司任职财务部，2019 年3月至今在公司任财务总监。\\n\\n5、孔繁东武汉兴图新科电子股份有限公司.txt', metadata={'source': 'financial_dataset/武汉兴图新科电子股份有限公司.txt'})]}"
      ]
     },
     "execution_count": 21,
     "metadata": {},
     "output_type": "execute_result"
    }
   ],
   "source": [
    "result"
   ]
  }
 ],
 "metadata": {
  "kernelspec": {
   "display_name": "llm",
   "language": "python",
   "name": "llm"
  },
  "language_info": {
   "codemirror_mode": {
    "name": "ipython",
    "version": 3
   },
   "file_extension": ".py",
   "mimetype": "text/x-python",
   "name": "python",
   "nbconvert_exporter": "python",
   "pygments_lexer": "ipython3",
   "version": "3.10.13"
  }
 },
 "nbformat": 4,
 "nbformat_minor": 5
}
