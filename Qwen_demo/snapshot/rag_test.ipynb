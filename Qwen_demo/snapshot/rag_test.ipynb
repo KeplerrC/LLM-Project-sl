{
 "cells": [
  {
   "cell_type": "markdown",
   "id": "def4f351",
   "metadata": {},
   "source": [
    "pip install langchain==0.0.292\n",
    "pip install gradio==4.4.0\n",
    "pip install chromadb==0.4.15\n",
    "pip install sentence-transformers==2.2.2\n",
    "pip install unstructured==0.10.30\n",
    "pip install markdown==3.3.7"
   ]
  },
  {
   "cell_type": "code",
   "execution_count": 1,
   "id": "2c39f527-f28d-4bbc-87dc-e0206754af76",
   "metadata": {
    "ExecutionIndicator": {
     "show": true
    },
    "execution": {
     "iopub.execute_input": "2024-06-27T16:33:08.199483Z",
     "iopub.status.busy": "2024-06-27T16:33:08.199106Z",
     "iopub.status.idle": "2024-06-27T16:33:08.213535Z",
     "shell.execute_reply": "2024-06-27T16:33:08.212769Z",
     "shell.execute_reply.started": "2024-06-27T16:33:08.199459Z"
    },
    "tags": []
   },
   "outputs": [
    {
     "data": {
      "text/plain": [
       "(80,\n",
       " ['b96b11328c7bdc32b63fd15b1d1f96759ed94add.txt',\n",
       "  '9951262c20ed33562a2fff85c83aeae320f14922.txt',\n",
       "  'c3eae2913ce6c9f56c58a5588358740a00d47dd5.txt',\n",
       "  '2389de12d78fe1ca4fa24910e6b1573902098bc3.txt',\n",
       "  'ad2bf1b94db9ec7cb2689ace2daec396d2965dce.txt'])"
      ]
     },
     "execution_count": 1,
     "metadata": {},
     "output_type": "execute_result"
    }
   ],
   "source": [
    "import os\n",
    "import shutil\n",
    "\n",
    "dir_path = \"/mnt/workspace/bs_challenge_financial_14b_dataset/pdf_txt_file\"\n",
    "shutil.rmtree(os.path.join(dir_path, \".ipynb_checkpoints\"), ignore_errors=True)\n",
    "files = os.listdir(dir_path)\n",
    "len(files), files[:5]"
   ]
  },
  {
   "cell_type": "code",
   "execution_count": 2,
   "id": "7567bccb-a70f-4ebb-9370-c8dbeca5071c",
   "metadata": {
    "ExecutionIndicator": {
     "show": true
    },
    "execution": {
     "iopub.execute_input": "2024-06-27T16:33:12.986810Z",
     "iopub.status.busy": "2024-06-27T16:33:12.986455Z",
     "iopub.status.idle": "2024-06-27T16:33:13.450768Z",
     "shell.execute_reply": "2024-06-27T16:33:13.450190Z",
     "shell.execute_reply.started": "2024-06-27T16:33:12.986786Z"
    },
    "scrolled": true,
    "tags": []
   },
   "outputs": [],
   "source": [
    "import re\n",
    "\n",
    "shutil.rmtree(\"financial_dataset\", ignore_errors=True)\n",
    "os.makedirs(\"financial_dataset\")\n",
    "\n",
    "pattern = \".*股份有限公司\\n\"\n",
    "for item in files:\n",
    "    with open(os.path.join(dir_path, item), \"r\") as f:\n",
    "        lst = f.readlines()\n",
    "        name = None\n",
    "        for line in lst:\n",
    "            if re.match(pattern, line):\n",
    "                name = line.strip()\n",
    "                if \"：\" in name:\n",
    "                    name = name.split(\"：\")[-1]\n",
    "                break\n",
    "    \n",
    "    if name:\n",
    "        try:\n",
    "            with open(\"financial_dataset/{}.txt\".format(name), \"w\") as f:\n",
    "                for line in lst:\n",
    "                    f.write(line)\n",
    "\n",
    "        except Exception as e:\n",
    "            print(e)\n",
    "            continue"
   ]
  },
  {
   "cell_type": "code",
   "execution_count": 3,
   "id": "19904944-f924-472c-8189-d0d257589303",
   "metadata": {
    "ExecutionIndicator": {
     "show": true
    },
    "execution": {
     "iopub.execute_input": "2024-06-27T16:33:17.186509Z",
     "iopub.status.busy": "2024-06-27T16:33:17.186135Z",
     "iopub.status.idle": "2024-06-27T16:33:17.193390Z",
     "shell.execute_reply": "2024-06-27T16:33:17.192729Z",
     "shell.execute_reply.started": "2024-06-27T16:33:17.186486Z"
    },
    "scrolled": true,
    "tags": []
   },
   "outputs": [
    {
     "data": {
      "text/plain": [
       "(79,\n",
       " ['天津力生制药股份有限公司.txt',\n",
       "  '湖南国科微电子股份有限公司.txt',\n",
       "  '中信建投证券股份有限公司.txt',\n",
       "  '杭州中恒电气股份有限公司.txt',\n",
       "  '山东国瓷功能材料股份有限公司.txt',\n",
       "  '上海宏英智能科技股份有限公司.txt',\n",
       "  '中国银河证券股份有限公司.txt',\n",
       "  '北京七星华创电子股份有限公司.txt',\n",
       "  '贵州永吉印务股份有限公司.txt',\n",
       "  '自浙江金卡高科技股份有限公司.txt',\n",
       "  '师事务所（特殊普通合伙）（以下简称“致同”）为华达汽车科技股份有限公司.txt',\n",
       "  '上海华铭智能终端设备股份有限公司.txt',\n",
       "  '深圳市建筑科学研究院股份有限公司.txt',\n",
       "  '华瑞电器股份有限公司.txt',\n",
       "  '湖南南岭民用爆破器材股份有限公司.txt',\n",
       "  '北京天宜上佳高新材料股份有限公司.txt',\n",
       "  '珠海健帆生物科技股份有限公司.txt',\n",
       "  '烟台杰瑞石油服务集团股份有限公司.txt',\n",
       "  '内蒙古君正能源化工股份有限公司.txt',\n",
       "  '威龙葡萄酒股份有限公司.txt',\n",
       "  '苏州海陆重工股份有限公司.txt',\n",
       "  '浙江开尔新材料股份有限公司.txt',\n",
       "  '读者出版传媒股份有限公司.txt',\n",
       "  '州光弘科技股份有限公司.txt',\n",
       "  '国电电力发展股份有限公司.txt',\n",
       "  '人、 指 深圳信立泰药业股份有限公司.txt',\n",
       "  '新疆浩源天然气股份有限公司.txt',\n",
       "  ' 华林证券股份有限公司.txt',\n",
       "  '大博医疗科技股份有限公司.txt',\n",
       "  ' 常熟风范电力设备股份有限公司.txt',\n",
       "  '昇兴集团股份有限公司.txt',\n",
       "  '大连派思燃气系统股份有限公司.txt',\n",
       "  '深圳市超频三科技股份有限公司.txt',\n",
       "  '海尔施生物医药股份有限公司.txt',\n",
       "  '新疆金风科技股份有限公司.txt',\n",
       "  '（八）2019年 4月整体变更为股份有限公司.txt',\n",
       "  '浙江百达精工股份有限公司.txt',\n",
       "  '安信证券股份有限公司.txt',\n",
       "  '兰州海默科技股份有限公司.txt',\n",
       "  '中国国际金融股份有限公司.txt',\n",
       "  '指 海南双成药业股份有限公司.txt',\n",
       "  '东北证券股份有限公司.txt',\n",
       "  '如若由于深圳市铁汉园林绿化有限公司以净资产折股整体变更为股份有限公司.txt',\n",
       "  '瑞达期货股份有限公司.txt',\n",
       "  '本公司是经国家经济贸易委员会《关于同意设立安徽天源科技股份有限公司.txt',\n",
       "  ' 广东银禧科技股份有限公司.txt',\n",
       "  '3、2021年 5月，整体变更为股份有限公司.txt',\n",
       "  '东吴证券股份有限公司.txt',\n",
       "  '浙江亚厦装饰股份有限公司.txt',\n",
       "  '浙江贝因美科工贸股份有限公司.txt',\n",
       "  '四川高金食品股份有限公司.txt',\n",
       "  '武汉力源信息技术股份有限公司.txt',\n",
       "  '东莞勤上光电股份有限公司.txt',\n",
       "  '西安启源机电装备股份有限公司.txt',\n",
       "  '海看网络科技（山东）股份有限公司.txt',\n",
       "  '7、上海真兰燃气设备股份有限公司.txt',\n",
       "  '金石资源集团股份有限公司.txt',\n",
       "  '宁波立立电子股份有限公司.txt',\n",
       "  '厦门安妮股份有限公司.txt',\n",
       "  ' 中信建投证券股份有限公司.txt',\n",
       "  '浙江双飞无油轴承股份有限公司.txt',\n",
       "  '中国铁路通信信号股份有限公司.txt',\n",
       "  '青岛银行股份有限公司.txt',\n",
       "  '江苏天瑞仪器股份有限公司.txt',\n",
       "  '江苏爱康太阳能科技股份有限公司.txt',\n",
       "  '江苏旷达汽车织物集团股份有限公司.txt',\n",
       "  '华泰证券股份有限公司.txt',\n",
       "  '国元证券股份有限公司.txt',\n",
       "  '云南沃森生物技术股份有限公司.txt',\n",
       "  '联化科技股份有限公司.txt',\n",
       "  ' 浙江富春江环保热电股份有限公司.txt',\n",
       "  '青海互助青稞酒股份有限公司.txt',\n",
       "  '成都华气厚普机电设备股份有限公司.txt',\n",
       "  '武汉兴图新科电子股份有限公司.txt',\n",
       "  '东港安全印刷股份有限公司.txt',\n",
       "  '深圳可立克科技股份有限公司.txt',\n",
       "  '汉嘉设计集团股份有限公司.txt',\n",
       "  '浙江步森服饰股份有限公司.txt',\n",
       "  '北京银行股份有限公司.txt'])"
      ]
     },
     "execution_count": 3,
     "metadata": {},
     "output_type": "execute_result"
    }
   ],
   "source": [
    "import os\n",
    "\n",
    "dir_path = \"financial_dataset\"\n",
    "shutil.rmtree(os.path.join(dir_path, \".ipynb_checkpoints\"), ignore_errors=True)\n",
    "files = os.listdir(dir_path)\n",
    "len(files), files"
   ]
  },
  {
   "cell_type": "code",
   "execution_count": 4,
   "id": "bb152e29-16df-4201-b625-8ef703ec48f4",
   "metadata": {
    "ExecutionIndicator": {
     "show": true
    },
    "execution": {
     "iopub.execute_input": "2024-06-27T16:33:19.514933Z",
     "iopub.status.busy": "2024-06-27T16:33:19.514565Z",
     "iopub.status.idle": "2024-06-27T16:33:19.520962Z",
     "shell.execute_reply": "2024-06-27T16:33:19.520202Z",
     "shell.execute_reply.started": "2024-06-27T16:33:19.514892Z"
    },
    "scrolled": true,
    "tags": []
   },
   "outputs": [
    {
     "data": {
      "text/plain": [
       "(66,\n",
       " ['天津力生制药股份有限公司.txt',\n",
       "  '湖南国科微电子股份有限公司.txt',\n",
       "  '中信建投证券股份有限公司.txt',\n",
       "  '杭州中恒电气股份有限公司.txt',\n",
       "  '山东国瓷功能材料股份有限公司.txt',\n",
       "  '上海宏英智能科技股份有限公司.txt',\n",
       "  '中国银河证券股份有限公司.txt',\n",
       "  '北京七星华创电子股份有限公司.txt',\n",
       "  '贵州永吉印务股份有限公司.txt',\n",
       "  '自浙江金卡高科技股份有限公司.txt',\n",
       "  '上海华铭智能终端设备股份有限公司.txt',\n",
       "  '深圳市建筑科学研究院股份有限公司.txt',\n",
       "  '华瑞电器股份有限公司.txt',\n",
       "  '湖南南岭民用爆破器材股份有限公司.txt',\n",
       "  '北京天宜上佳高新材料股份有限公司.txt',\n",
       "  '珠海健帆生物科技股份有限公司.txt',\n",
       "  '烟台杰瑞石油服务集团股份有限公司.txt',\n",
       "  '内蒙古君正能源化工股份有限公司.txt',\n",
       "  '威龙葡萄酒股份有限公司.txt',\n",
       "  '苏州海陆重工股份有限公司.txt',\n",
       "  '浙江开尔新材料股份有限公司.txt',\n",
       "  '读者出版传媒股份有限公司.txt',\n",
       "  '州光弘科技股份有限公司.txt',\n",
       "  '国电电力发展股份有限公司.txt',\n",
       "  '新疆浩源天然气股份有限公司.txt',\n",
       "  '大博医疗科技股份有限公司.txt',\n",
       "  '昇兴集团股份有限公司.txt',\n",
       "  '大连派思燃气系统股份有限公司.txt',\n",
       "  '深圳市超频三科技股份有限公司.txt',\n",
       "  '海尔施生物医药股份有限公司.txt',\n",
       "  '新疆金风科技股份有限公司.txt',\n",
       "  '浙江百达精工股份有限公司.txt',\n",
       "  '安信证券股份有限公司.txt',\n",
       "  '兰州海默科技股份有限公司.txt',\n",
       "  '中国国际金融股份有限公司.txt',\n",
       "  '东北证券股份有限公司.txt',\n",
       "  '瑞达期货股份有限公司.txt',\n",
       "  '东吴证券股份有限公司.txt',\n",
       "  '浙江亚厦装饰股份有限公司.txt',\n",
       "  '浙江贝因美科工贸股份有限公司.txt',\n",
       "  '四川高金食品股份有限公司.txt',\n",
       "  '武汉力源信息技术股份有限公司.txt',\n",
       "  '东莞勤上光电股份有限公司.txt',\n",
       "  '西安启源机电装备股份有限公司.txt',\n",
       "  '海看网络科技（山东）股份有限公司.txt',\n",
       "  '金石资源集团股份有限公司.txt',\n",
       "  '宁波立立电子股份有限公司.txt',\n",
       "  '厦门安妮股份有限公司.txt',\n",
       "  '浙江双飞无油轴承股份有限公司.txt',\n",
       "  '中国铁路通信信号股份有限公司.txt',\n",
       "  '青岛银行股份有限公司.txt',\n",
       "  '江苏天瑞仪器股份有限公司.txt',\n",
       "  '江苏爱康太阳能科技股份有限公司.txt',\n",
       "  '江苏旷达汽车织物集团股份有限公司.txt',\n",
       "  '华泰证券股份有限公司.txt',\n",
       "  '国元证券股份有限公司.txt',\n",
       "  '云南沃森生物技术股份有限公司.txt',\n",
       "  '联化科技股份有限公司.txt',\n",
       "  '青海互助青稞酒股份有限公司.txt',\n",
       "  '成都华气厚普机电设备股份有限公司.txt',\n",
       "  '武汉兴图新科电子股份有限公司.txt',\n",
       "  '东港安全印刷股份有限公司.txt',\n",
       "  '深圳可立克科技股份有限公司.txt',\n",
       "  '汉嘉设计集团股份有限公司.txt',\n",
       "  '浙江步森服饰股份有限公司.txt',\n",
       "  '北京银行股份有限公司.txt'])"
      ]
     },
     "execution_count": 4,
     "metadata": {},
     "output_type": "execute_result"
    }
   ],
   "source": [
    "new_files = []\n",
    "for item in files:\n",
    "    if len(item) > 20:\n",
    "        continue\n",
    "    else:\n",
    "        if \" \" in item:\n",
    "            continue\n",
    "        if \"、\" in item:\n",
    "            continue\n",
    "        new_files.append(item)\n",
    "len(new_files), new_files"
   ]
  },
  {
   "cell_type": "code",
   "execution_count": 5,
   "id": "48d796d9-8eae-4909-a542-40ff92ff76d4",
   "metadata": {
    "ExecutionIndicator": {
     "show": false
    },
    "execution": {
     "iopub.execute_input": "2024-06-27T16:33:22.128977Z",
     "iopub.status.busy": "2024-06-27T16:33:22.128595Z",
     "iopub.status.idle": "2024-06-27T16:34:49.907410Z",
     "shell.execute_reply": "2024-06-27T16:34:49.906792Z",
     "shell.execute_reply.started": "2024-06-27T16:33:22.128952Z"
    },
    "tags": []
   },
   "outputs": [
    {
     "name": "stdout",
     "output_type": "stream",
     "text": [
      "you got fake langchain!\n"
     ]
    },
    {
     "name": "stderr",
     "output_type": "stream",
     "text": [
      " 45%|████▌     | 9/20 [00:42<00:41,  3.78s/it]The MIME type of 'financial_dataset/自浙江金卡高科技股份有限公司.txt' is 'application/x-dosexec'. This file type is not currently supported in unstructured.\n",
      "100%|██████████| 20/20 [01:26<00:00,  4.30s/it]\n"
     ]
    },
    {
     "data": {
      "text/plain": [
       "20"
      ]
     },
     "execution_count": 5,
     "metadata": {},
     "output_type": "execute_result"
    }
   ],
   "source": [
    "from tqdm import tqdm\n",
    "from langchain.document_loaders import UnstructuredFileLoader\n",
    "from langchain.document_loaders import UnstructuredMarkdownLoader\n",
    "\n",
    "def get_text(file_lst):\n",
    "    # args：dir_path，目标文件夹路径\n",
    "    docs = []\n",
    "    # 遍历所有目标文件\n",
    "    for one_file in tqdm(file_lst):\n",
    "        file_type = one_file.split('.')[-1]\n",
    "        if file_type == 'txt':\n",
    "            loader = UnstructuredFileLoader(one_file)\n",
    "        else:\n",
    "            # 如果是不符合条件的文件，直接跳过\n",
    "            continue\n",
    "        docs.extend(loader.load())\n",
    "    return docs\n",
    "\n",
    "file_lst = [os.path.join(dir_path, item) for item in new_files[:20]]\n",
    "docs = get_text(file_lst)\n",
    "len(docs)"
   ]
  },
  {
   "cell_type": "code",
   "execution_count": 6,
   "id": "e9ac8b70-5812-4cdf-85b2-d19e6920cd18",
   "metadata": {
    "ExecutionIndicator": {
     "show": true
    },
    "execution": {
     "iopub.execute_input": "2024-06-27T16:35:24.970980Z",
     "iopub.status.busy": "2024-06-27T16:35:24.970435Z",
     "iopub.status.idle": "2024-06-27T16:35:25.577032Z",
     "shell.execute_reply": "2024-06-27T16:35:25.576407Z",
     "shell.execute_reply.started": "2024-06-27T16:35:24.970952Z"
    },
    "tags": []
   },
   "outputs": [
    {
     "data": {
      "text/plain": [
       "(22055,\n",
       " Document(page_content='天津力生制药股份有限公司\\n\\nTIANJIN LISHENG PHARMACEUTICAL CO., LTD\\n\\n（天津市南开区黄河道 491 号）\\n\\n首次公开发行股票\\n\\n招 股 意 向 书\\n\\n保荐机构（主承销商）\\n\\n天津市南开区宾水西道 8 号\\n\\n力生制药首次公开发行股票招股意向书\\n\\n发行概览\\n\\n发行股票类型： 人民币普通股（A股）\\n\\n预计发行量： 4,600万股\\n\\n每股面值： 1.00元\\n\\n发行价格： ____元/股\\n\\n预计发行日期： 2010年4月13日\\n\\n申请上市证券交易所： 深圳证券交易所\\n\\n发行后总股本： 182,454,992股\\n\\n公司控股股东天津市医药集团有限公司承诺：自\\n\\n力生制药股票上市之日起三十六个月内，不转让或者\\n\\n委托他人管理其持有的力生制药股份，也不由力生制', metadata={'source': 'financial_dataset/天津力生制药股份有限公司.txt'}))"
      ]
     },
     "execution_count": 6,
     "metadata": {},
     "output_type": "execute_result"
    }
   ],
   "source": [
    "from langchain.text_splitter import RecursiveCharacterTextSplitter\n",
    "\n",
    "text_splitter = RecursiveCharacterTextSplitter(\n",
    "    chunk_size=350, chunk_overlap=150)\n",
    "split_docs = text_splitter.split_documents(docs)\n",
    "len(split_docs), split_docs[0]"
   ]
  },
  {
   "cell_type": "code",
   "execution_count": 7,
   "id": "da4a36cf-ac17-4e0a-b3ca-14e1c3237b34",
   "metadata": {
    "ExecutionIndicator": {
     "show": false
    },
    "execution": {
     "iopub.execute_input": "2024-06-27T16:40:59.469375Z",
     "iopub.status.busy": "2024-06-27T16:40:59.469017Z",
     "iopub.status.idle": "2024-06-27T16:40:59.523170Z",
     "shell.execute_reply": "2024-06-27T16:40:59.522388Z",
     "shell.execute_reply.started": "2024-06-27T16:40:59.469351Z"
    },
    "tags": []
   },
   "outputs": [
    {
     "data": {
      "text/plain": [
       "(22055,\n",
       " Document(page_content='天津力生制药股份有限公司.txt天津力生制药股份有限公司\\n\\nTIANJIN LISHENG PHARMACEUTICAL CO., LTD\\n\\n（天津市南开区黄河道 491 号）\\n\\n首次公开发行股票\\n\\n招 股 意 向 书\\n\\n保荐机构（主承销商）\\n\\n天津市南开区宾水西道 8 号\\n\\n力生制药首次公开发行股票招股意向书\\n\\n发行概览\\n\\n发行股票类型： 人民币普通股（A股）\\n\\n预计发行量： 4,600万股\\n\\n每股面值： 1.00元\\n\\n发行价格： ____元/股\\n\\n预计发行日期： 2010年4月13日\\n\\n申请上市证券交易所： 深圳证券交易所\\n\\n发行后总股本： 182,454,992股\\n\\n公司控股股东天津市医药集团有限公司承诺：自\\n\\n力生制药股票上市之日起三十六个月内，不转让或者\\n\\n委托他人管理其持有的力生制药股份，也不由力生制天津力生制药股份有限公司.txt', metadata={'source': 'financial_dataset/天津力生制药股份有限公司.txt'}))"
      ]
     },
     "execution_count": 7,
     "metadata": {},
     "output_type": "execute_result"
    }
   ],
   "source": [
    "# TODO 直接加有点生硬\n",
    "for one_chunk in split_docs:\n",
    "    one_chunk.page_content = one_chunk.metadata[\"source\"].split(\"/\")[-1] +  one_chunk.page_content + one_chunk.metadata[\"source\"].split(\"/\")[-1]\n",
    "len(split_docs), split_docs[0]"
   ]
  },
  {
   "cell_type": "code",
   "execution_count": 8,
   "id": "32d42399-7900-45d6-91a6-513bc3204a99",
   "metadata": {
    "ExecutionIndicator": {
     "show": true
    },
    "execution": {
     "iopub.execute_input": "2024-06-27T16:44:16.257618Z",
     "iopub.status.busy": "2024-06-27T16:44:16.257255Z",
     "iopub.status.idle": "2024-06-27T16:44:21.462774Z",
     "shell.execute_reply": "2024-06-27T16:44:21.462187Z",
     "shell.execute_reply.started": "2024-06-27T16:44:16.257596Z"
    },
    "tags": []
   },
   "outputs": [
    {
     "name": "stderr",
     "output_type": "stream",
     "text": [
      "/home/pai/envs/qwen/lib/python3.10/site-packages/tqdm/auto.py:21: TqdmWarning: IProgress not found. Please update jupyter and ipywidgets. See https://ipywidgets.readthedocs.io/en/stable/user_install.html\n",
      "  from .autonotebook import tqdm as notebook_tqdm\n"
     ]
    }
   ],
   "source": [
    "from langchain.embeddings.huggingface import HuggingFaceEmbeddings\n",
    "\n",
    "embeddings = HuggingFaceEmbeddings(model_name=\"m3e-base\")"
   ]
  },
  {
   "cell_type": "code",
   "execution_count": 9,
   "id": "f1eff9b1-10d0-4ae8-8e38-47a2d58ea9ef",
   "metadata": {
    "ExecutionIndicator": {
     "show": false
    },
    "execution": {
     "iopub.execute_input": "2024-06-27T16:44:51.802378Z",
     "iopub.status.busy": "2024-06-27T16:44:51.801823Z",
     "iopub.status.idle": "2024-06-27T19:19:23.938192Z",
     "shell.execute_reply": "2024-06-27T19:19:23.935837Z",
     "shell.execute_reply.started": "2024-06-27T16:44:51.802349Z"
    },
    "tags": []
   },
   "outputs": [],
   "source": [
    "# 已完成\n",
    "# 看视频2w条只要2min+就搞完（cpu要2h34min），是不是因为没用gpu? cpu先换成100条吧\n",
    "\n",
    "from langchain.vectorstores import Chroma\n",
    "\n",
    "# 定义持久化路径\n",
    "persist_directory = 'data_base/vector_db/chroma'\n",
    "# 加载数据库\n",
    "vectordb = Chroma.from_documents(\n",
    "    documents=split_docs[:20000],\n",
    "    embedding=embeddings,\n",
    "    persist_directory=persist_directory  # 允许我们将persist_directory目录保存到磁盘上\n",
    ")\n",
    "\n",
    "# 如果Chroma>=4.0.0，chroma在添加数据时会自动存到硬盘，不需要额外调用vectordb.persist()\n",
    "# 将加载的向量数据库持久化到磁盘上\n",
    "# vectordb.persist()"
   ]
  },
  {
   "cell_type": "code",
   "execution_count": null,
   "id": "d88c68bc-392b-4377-9fef-fdac29d56ec7",
   "metadata": {},
   "outputs": [],
   "source": []
  },
  {
   "cell_type": "code",
   "execution_count": null,
   "id": "f014920f-1460-44d0-bbed-b4d57a879c82",
   "metadata": {},
   "outputs": [],
   "source": []
  },
  {
   "cell_type": "code",
   "execution_count": 1,
   "id": "cd8e0b52-c62a-453f-a79c-adc054960995",
   "metadata": {
    "ExecutionIndicator": {
     "show": true
    },
    "execution": {
     "iopub.execute_input": "2024-06-29T13:50:15.705121Z",
     "iopub.status.busy": "2024-06-29T13:50:15.704751Z",
     "iopub.status.idle": "2024-06-29T13:50:19.066527Z",
     "shell.execute_reply": "2024-06-29T13:50:19.065869Z",
     "shell.execute_reply.started": "2024-06-29T13:50:15.705096Z"
    },
    "tags": []
   },
   "outputs": [
    {
     "name": "stdout",
     "output_type": "stream",
     "text": [
      "you got fake langchain!\n"
     ]
    },
    {
     "name": "stderr",
     "output_type": "stream",
     "text": [
      "/home/pai/envs/qwen/lib/python3.10/site-packages/tqdm/auto.py:21: TqdmWarning: IProgress not found. Please update jupyter and ipywidgets. See https://ipywidgets.readthedocs.io/en/stable/user_install.html\n",
      "  from .autonotebook import tqdm as notebook_tqdm\n"
     ]
    }
   ],
   "source": [
    "from langchain.llms.base import LLM\n",
    "from typing import Any, List, Optional\n",
    "from langchain.callbacks.manager import CallbackManagerForLLMRun\n",
    "from transformers import AutoTokenizer, AutoModelForCausalLM, GenerationConfig\n",
    "import torch\n",
    "\n",
    "\n",
    "class QwenLM(LLM):\n",
    "    # 基于本地 Qwen 自定义 LLM 类\n",
    "    tokenizer : AutoTokenizer = None\n",
    "    model: AutoModelForCausalLM = None\n",
    "\n",
    "    def __init__(self, model_dir :str):\n",
    "        # 从本地初始化模型\n",
    "        super().__init__()\n",
    "        print(\"正在从本地加载模型...\")\n",
    "        self.tokenizer = AutoTokenizer.from_pretrained(model_dir, trust_remote_code=True)\n",
    "        self.model = AutoModelForCausalLM.from_pretrained(model_dir, device_map=\"auto\", trust_remote_code=True, \n",
    "                                                          # torch_dtype=torch.half, load_in_8bit=True\n",
    "                                                         ).eval()\n",
    "        \n",
    "        # 模型会自动加载generation_config\n",
    "        # Specify hyperparameters for generation\n",
    "        # self.model.generation_config = GenerationConfig.from_pretrained(model_dir, trust_remote_code=True) # 可指定不同的生成长度、top_p等相关超参\n",
    "        print(\"完成本地模型的加载\")\n",
    "\n",
    "    def _call(self, prompt : str, stop: Optional[List[str]] = None,\n",
    "                run_manager: Optional[CallbackManagerForLLMRun] = None,\n",
    "                **kwargs: Any):\n",
    "        # 重写调用函数\n",
    "        response, history = self.model.chat(self.tokenizer, prompt , history=[])\n",
    "        return response\n",
    "        \n",
    "    @property\n",
    "    def _llm_type(self) -> str:\n",
    "        return \"QwenLM\""
   ]
  },
  {
   "cell_type": "code",
   "execution_count": 2,
   "id": "6b41fee0-5ee5-42ea-b751-6f5b3d978fd2",
   "metadata": {
    "execution": {
     "iopub.execute_input": "2024-06-29T13:50:26.920441Z",
     "iopub.status.busy": "2024-06-29T13:50:26.919912Z",
     "iopub.status.idle": "2024-06-29T13:50:29.199112Z",
     "shell.execute_reply": "2024-06-29T13:50:29.198460Z",
     "shell.execute_reply.started": "2024-06-29T13:50:26.920413Z"
    },
    "tags": []
   },
   "outputs": [],
   "source": [
    "from langchain.vectorstores import Chroma\n",
    "from langchain.embeddings.huggingface import HuggingFaceEmbeddings\n",
    "import os\n",
    "\n",
    "# 定义 Embeddings\n",
    "embeddings = HuggingFaceEmbeddings(model_name=\"m3e-base\")\n",
    "\n",
    "# 向量数据库持久化路径\n",
    "persist_directory = 'data_base/vector_db/chroma'\n",
    "\n",
    "# 加载数据库\n",
    "vectordb = Chroma(\n",
    "    persist_directory=persist_directory, \n",
    "    embedding_function=embeddings\n",
    ")"
   ]
  },
  {
   "cell_type": "code",
   "execution_count": 3,
   "id": "7964f10d-a880-4704-bb0a-98168b6bfb79",
   "metadata": {
    "ExecutionIndicator": {
     "show": true
    },
    "execution": {
     "iopub.execute_input": "2024-06-29T13:50:31.401572Z",
     "iopub.status.busy": "2024-06-29T13:50:31.400859Z",
     "iopub.status.idle": "2024-06-29T13:50:40.990570Z",
     "shell.execute_reply": "2024-06-29T13:50:40.989876Z",
     "shell.execute_reply.started": "2024-06-29T13:50:31.401522Z"
    },
    "tags": []
   },
   "outputs": [
    {
     "name": "stdout",
     "output_type": "stream",
     "text": [
      "正在从本地加载模型...\n"
     ]
    },
    {
     "name": "stderr",
     "output_type": "stream",
     "text": [
      "Loading checkpoint shards: 100%|██████████| 2/2 [00:02<00:00,  1.32s/it]\n"
     ]
    },
    {
     "name": "stdout",
     "output_type": "stream",
     "text": [
      "完成本地模型的加载\n"
     ]
    },
    {
     "data": {
      "text/plain": [
       "'我是来自阿里云的大规模语言模型，我叫通义千问。'"
      ]
     },
     "execution_count": 3,
     "metadata": {},
     "output_type": "execute_result"
    }
   ],
   "source": [
    "llm = QwenLM(model_dir=\"Qwen-1_8B-Chat\")\n",
    "llm.predict(\"你是谁\")"
   ]
  },
  {
   "cell_type": "code",
   "execution_count": 4,
   "id": "22030ea2-3414-4431-bfb8-aebcf8fab04e",
   "metadata": {
    "execution": {
     "iopub.execute_input": "2024-06-29T13:50:45.058933Z",
     "iopub.status.busy": "2024-06-29T13:50:45.058538Z",
     "iopub.status.idle": "2024-06-29T13:50:45.063048Z",
     "shell.execute_reply": "2024-06-29T13:50:45.062127Z",
     "shell.execute_reply.started": "2024-06-29T13:50:45.058906Z"
    },
    "tags": []
   },
   "outputs": [],
   "source": [
    "from langchain.prompts import PromptTemplate\n",
    "\n",
    "# 我们所构造的 Prompt 模板\n",
    "template = \"\"\"使用以下上下文来回答最后的问题。如果你不知道答案，就说你不知道，不要试图编造答案。尽量使答案简明扼要。”。\n",
    "{context}\n",
    "问题: {question}\n",
    "有用的回答:\"\"\"\n",
    "\n",
    "# 调用 LangChain 的方法来实例化一个 Template 对象，该对象包含了 context 和 question 两个变量，在实际调用时，这两个变量会被检索到的文档片段和用户提问填充\n",
    "QA_CHAIN_PROMPT = PromptTemplate(input_variables=[\"context\",\"question\"],template=template)\n"
   ]
  },
  {
   "cell_type": "code",
   "execution_count": 5,
   "id": "5f656cc7-01da-42bc-a2e4-bc159a5a4298",
   "metadata": {
    "execution": {
     "iopub.execute_input": "2024-06-29T13:50:47.880303Z",
     "iopub.status.busy": "2024-06-29T13:50:47.879916Z",
     "iopub.status.idle": "2024-06-29T13:50:47.884245Z",
     "shell.execute_reply": "2024-06-29T13:50:47.883594Z",
     "shell.execute_reply.started": "2024-06-29T13:50:47.880275Z"
    },
    "tags": []
   },
   "outputs": [],
   "source": [
    "from langchain.chains import RetrievalQA\n",
    "\n",
    "qa_chain = RetrievalQA.from_chain_type(llm,retriever=vectordb.as_retriever(),return_source_documents=True,chain_type_kwargs={\"prompt\":QA_CHAIN_PROMPT})"
   ]
  },
  {
   "cell_type": "code",
   "execution_count": 7,
   "id": "0e1f5e58-ac3b-4843-8121-dd4b5dae4bdf",
   "metadata": {
    "ExecutionIndicator": {
     "show": true
    },
    "execution": {
     "iopub.execute_input": "2024-06-29T13:53:12.862676Z",
     "iopub.status.busy": "2024-06-29T13:53:12.862249Z",
     "iopub.status.idle": "2024-06-29T13:53:21.356981Z",
     "shell.execute_reply": "2024-06-29T13:53:21.356110Z",
     "shell.execute_reply.started": "2024-06-29T13:53:12.862648Z"
    },
    "tags": []
   },
   "outputs": [
    {
     "name": "stdout",
     "output_type": "stream",
     "text": [
      "大模型回答 question 的结果：\n",
      "截至2023年，汉嘉设计集团股份有限公司的董事长是张义刚。\n"
     ]
    }
   ],
   "source": [
    "# question = \"武汉兴图新科电子股份有限公司的保荐人是谁？\"\n",
    "question = \"汉嘉设计集团股份有限公司的董事长是谁？\"\n",
    "# 仅 LLM 回答效果\n",
    "result = llm(question)\n",
    "print(\"大模型回答 question 的结果：\")\n",
    "print(result)"
   ]
  },
  {
   "cell_type": "code",
   "execution_count": 8,
   "id": "6ade608f-a1b0-4d55-bc82-0d91ab0a0178",
   "metadata": {
    "ExecutionIndicator": {
     "show": true
    },
    "execution": {
     "iopub.execute_input": "2024-06-29T13:53:36.748722Z",
     "iopub.status.busy": "2024-06-29T13:53:36.748298Z",
     "iopub.status.idle": "2024-06-29T13:54:06.998036Z",
     "shell.execute_reply": "2024-06-29T13:54:06.997216Z",
     "shell.execute_reply.started": "2024-06-29T13:53:36.748695Z"
    },
    "tags": []
   },
   "outputs": [
    {
     "name": "stdout",
     "output_type": "stream",
     "text": [
      "检索问答链回答 question 的结果：\n",
      "杨铠璘女士，请详见本节之“（一）董事会成员”相关内容。\n"
     ]
    }
   ],
   "source": [
    "result = qa_chain({\"query\": question})\n",
    "print(\"检索问答链回答 question 的结果：\")\n",
    "print(result[\"result\"])"
   ]
  },
  {
   "cell_type": "code",
   "execution_count": 9,
   "id": "013d3953-fe30-4f88-b73c-3e851d3ec199",
   "metadata": {
    "execution": {
     "iopub.execute_input": "2024-06-29T13:54:13.795797Z",
     "iopub.status.busy": "2024-06-29T13:54:13.795381Z",
     "iopub.status.idle": "2024-06-29T13:54:13.801577Z",
     "shell.execute_reply": "2024-06-29T13:54:13.800780Z",
     "shell.execute_reply.started": "2024-06-29T13:54:13.795770Z"
    },
    "scrolled": true,
    "tags": []
   },
   "outputs": [
    {
     "data": {
      "text/plain": [
       "{'query': '汉嘉设计集团股份有限公司的董事长是谁？',\n",
       " 'result': '杨铠璘女士，请详见本节之“（一）董事会成员”相关内容。',\n",
       " 'source_documents': [Document(page_content='北京天宜上佳高新材料股份有限公司.txt用品店经理；2003年至 2009年，任海洋国际旅行社有限责任公司国际合作部副\\n\\n总经理；2009 年至 2013 年，任本公司销售部部长；2013 年至 2016 年任本公司\\n\\n副总经理；2016年至今，任本公司董事兼副总经理。\\n\\n胡乾先生，1978 年 12月出生，中国国籍，无境外永久居留权\\n\\n硕士学位。2004 年至2010 年，任英飞凌科技（中国）有限公司设计部经理；\\n\\n2012 年至 2014 年，任家乐福中国华北区战略发展总监；2014 年至 2016 年，任\\n\\n航天科工资产管理有限公司并购部高级投资经理；2016年至2017年，任航天云\\n\\n网科技发展有限公司资产运营部经理；2017 年至今，历任北京工业发展投资管北京天宜上佳高新材料股份有限公司.txt', metadata={'source': 'financial_dataset/北京天宜上佳高新材料股份有限公司.txt'}),\n",
       "  Document(page_content='北京天宜上佳高新材料股份有限公司.txt用品店经理；2003年至 2009年，任海洋国际旅行社有限责任公司国际合作部副\\n\\n总经理；2009 年至 2013 年，任本公司销售部部长；2013 年至 2016 年任本公司\\n\\n副总经理；2016年至今，任本公司董事兼副总经理。\\n\\n胡乾先生，1978 年 12月出生，中国国籍，无境外永久居留权\\n\\n硕士学位。2007 年至2010年，任三峡财务有限责任公司分析员；2010 年至\\n\\n2012 年，任中国长江三峡集团有限公司国际合作部研究员；2012 年至 2016 年，\\n\\n任中国长江三峡集团有限公司发展研究院主办；2016年至2017年，任天风证券\\n\\n中小企业服务中心业务董事；2017年至今，任三峡建信（北京）投资基金管理有\\n\\n限公司执行董事；2018 年至今任本公司董事。北京天宜上佳高新材料股份有限公司.txt', metadata={'source': 'financial_dataset/北京天宜上佳高新材料股份有限公司.txt'}),\n",
       "  Document(page_content='北京天宜上佳高新材料股份有限公司.txt硕士学位。2013 年至 2015 年，任本公司销售部部长；2015 年至 2018 年，\\n\\n任本公司销售部总监兼销售部部长；2018年至今，任本公司副总经理。\\n\\n杨铠璘女士，请详见本节之“（一）董事会成员”相关内容\\n\\n白立杰女士，1967 年2月出生，中国国籍，无境外永久居留权\\n\\n专科学位。1984 年至2000年，任北京市西郊农场会计；2000年至2009 年，\\n\\n任柏利盛展示制品（北京）有限公司会计；2009 年至2013年任本公司财务部长；\\n\\n2013年至今，任本公司财务总监。\\n\\n截止本招股意向书签署日，公司核心技术人员共 6 名：吴佩芳、释加才让、\\n\\n曹静武、胡晨、程景琳、龙波。公司核心技术人员的基本情况如下表所示：\\n\\n吴佩芳女士，请详见本节之“（一）董事会成员”相关内容。北京天宜上佳高新材料股份有限公司.txt', metadata={'source': 'financial_dataset/北京天宜上佳高新材料股份有限公司.txt'}),\n",
       "  Document(page_content='北京天宜上佳高新材料股份有限公司.txt任中国长江三峡集团有限公司发展研究院主办；2016年至2017年，任天风证券\\n\\n中小企业服务中心业务董事；2017年至今，任三峡建信（北京）投资基金管理有\\n\\n限公司执行董事；2018 年至今任本公司董事。\\n\\n吴鹏先生，1978 年 12月出生，中国国籍，无境外永久居留权\\n\\n专科学位。2001 年至2003年，任北京市东环球王保龄球娱乐有限公司球具\\n\\n用品店经理；2003年至 2009年，任海洋国际旅行社有限责任公司国际合作部副\\n\\n总经理；2009 年至 2013 年，任本公司销售部部长；2013 年至 2016 年任本公司\\n\\n副总经理；2016年至今，任本公司董事兼副总经理。\\n\\n胡乾先生，1978 年 12月出生，中国国籍，无境外永久居留权北京天宜上佳高新材料股份有限公司.txt', metadata={'source': 'financial_dataset/北京天宜上佳高新材料股份有限公司.txt'})]}"
      ]
     },
     "execution_count": 9,
     "metadata": {},
     "output_type": "execute_result"
    }
   ],
   "source": [
    "result"
   ]
  },
  {
   "cell_type": "code",
   "execution_count": null,
   "id": "c058cef0-7a08-4437-8aeb-fb61dff3e629",
   "metadata": {},
   "outputs": [],
   "source": []
  },
  {
   "cell_type": "code",
   "execution_count": null,
   "id": "3721b334-6dca-4e93-ac06-fa818776d435",
   "metadata": {},
   "outputs": [],
   "source": []
  },
  {
   "cell_type": "code",
   "execution_count": null,
   "id": "a42f71c1-727c-470f-a7a6-4269ebfd3476",
   "metadata": {},
   "outputs": [],
   "source": []
  }
 ],
 "metadata": {
  "kernelspec": {
   "display_name": "qwen",
   "language": "python",
   "name": "qwen"
  },
  "language_info": {
   "codemirror_mode": {
    "name": "ipython",
    "version": 3
   },
   "file_extension": ".py",
   "mimetype": "text/x-python",
   "name": "python",
   "nbconvert_exporter": "python",
   "pygments_lexer": "ipython3",
   "version": "3.10.14"
  }
 },
 "nbformat": 4,
 "nbformat_minor": 5
}
