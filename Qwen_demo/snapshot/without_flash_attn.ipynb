{
 "cells": [
  {
   "cell_type": "code",
   "execution_count": 1,
   "id": "755c3bcf-f61e-40df-ab13-91ccc5f51f08",
   "metadata": {
    "ExecutionIndicator": {
     "show": true
    },
    "execution": {
     "iopub.execute_input": "2024-06-25T19:13:57.616607Z",
     "iopub.status.busy": "2024-06-25T19:13:57.616247Z",
     "iopub.status.idle": "2024-06-25T19:14:03.376015Z",
     "shell.execute_reply": "2024-06-25T19:14:03.375233Z",
     "shell.execute_reply.started": "2024-06-25T19:13:57.616582Z"
    },
    "tags": []
   },
   "outputs": [
    {
     "name": "stderr",
     "output_type": "stream",
     "text": [
      "/home/pai/envs/test_qwen/lib/python3.10/site-packages/tqdm/auto.py:21: TqdmWarning: IProgress not found. Please update jupyter and ipywidgets. See https://ipywidgets.readthedocs.io/en/stable/user_install.html\n",
      "  from .autonotebook import tqdm as notebook_tqdm\n"
     ]
    }
   ],
   "source": [
    "import json\n",
    "import torch\n",
    "import os\n",
    "\n",
    "os.environ[\"HF_ENDPOINT\"] = \"https://hf-mirror.com\"\n",
    "\n",
    "import datasets\n",
    "from peft import get_peft_model\n",
    "from peft import LoraConfig\n",
    "from transformers import AutoModelForCausalLM\n",
    "from transformers import AutoTokenizer\n",
    "from transformers import DataCollatorForSeq2Seq\n",
    "from transformers import Trainer\n",
    "from transformers import TrainingArguments"
   ]
  },
  {
   "cell_type": "code",
   "execution_count": 2,
   "id": "d0e73adc-78ae-4ee5-bd22-e9ddf9065da9",
   "metadata": {
    "ExecutionIndicator": {
     "show": true
    },
    "execution": {
     "iopub.execute_input": "2024-06-25T19:14:03.377536Z",
     "iopub.status.busy": "2024-06-25T19:14:03.377123Z",
     "iopub.status.idle": "2024-06-25T19:14:03.390777Z",
     "shell.execute_reply": "2024-06-25T19:14:03.390137Z",
     "shell.execute_reply.started": "2024-06-25T19:14:03.377511Z"
    },
    "tags": []
   },
   "outputs": [
    {
     "data": {
      "text/plain": [
       "{'instruction': '血热的临床表现是什么?',\n",
       " 'input': '',\n",
       " 'output': '初发或复发病不久。皮疹发展迅速，呈点滴状、钱币状或混合状。常见丘疹、斑丘疹、大小不等的斑片，潮红、鲜红或深红色。散布于体表各处或几处，以躯干、四肢多见，亦可先从头面开始，逐渐发展至全身。新皮疹不断出现，表面覆有银白色鳞屑，干燥易脱落，剥刮后有点状出血。可有同形反应;伴瘙痒、心烦口渴。大便秘结、小便短黄，舌质红赤，苔薄黄或根部黄厚，脉弦滑或滑数。血热炽盛病机，主要表现在如下四个面：一、热象：血热多属阳盛则热之实性、热性病机和病证、并表现出热象。二、血行加速：血得热则行，可使血流加速，且使脉道扩张，络脉充血，故可见面红目赤，舌色深红（即舌绛）等症。三、动血：在血行加速与脉道扩张的基础上，血分有热，可灼伤脉络，引起出血，称为“热迫血妄行”，或称动血。四、扰乱心神：血热炽盛则扰动心神，心主血脉而藏神，血脉与心相通，故血热则使心神不安，而见心烦，或躁扰发狂等症。'}"
      ]
     },
     "execution_count": 2,
     "metadata": {},
     "output_type": "execute_result"
    }
   ],
   "source": [
    "# 训练集共1949972条，只取前1000条\n",
    "with open(\"medical_zh/train_zh_0.jsonl\", \"r\") as f:\n",
    "    lst = [json.loads(next(f)) for _ in range(1000)]\n",
    "lst[0]"
   ]
  },
  {
   "cell_type": "code",
   "execution_count": 3,
   "id": "e7a3c82c-ad3e-4d6f-b079-dd1d260b3782",
   "metadata": {
    "ExecutionIndicator": {
     "show": true
    },
    "execution": {
     "iopub.execute_input": "2024-06-25T19:14:03.391721Z",
     "iopub.status.busy": "2024-06-25T19:14:03.391520Z",
     "iopub.status.idle": "2024-06-25T19:14:03.401587Z",
     "shell.execute_reply": "2024-06-25T19:14:03.401050Z",
     "shell.execute_reply.started": "2024-06-25T19:14:03.391701Z"
    },
    "tags": []
   },
   "outputs": [],
   "source": [
    "with open(\"train_lora.json\", \"w\") as f:\n",
    "    json.dump(lst, f, ensure_ascii=False)  # 有汉字，加ensure_ascii=False"
   ]
  },
  {
   "cell_type": "code",
   "execution_count": 4,
   "id": "cdf0a89b-bfaf-4347-8273-2a3e8e1765f9",
   "metadata": {
    "ExecutionIndicator": {
     "show": true
    },
    "execution": {
     "iopub.execute_input": "2024-06-25T19:14:03.403398Z",
     "iopub.status.busy": "2024-06-25T19:14:03.403056Z",
     "iopub.status.idle": "2024-06-25T19:14:04.334032Z",
     "shell.execute_reply": "2024-06-25T19:14:04.333164Z",
     "shell.execute_reply.started": "2024-06-25T19:14:03.403377Z"
    },
    "tags": []
   },
   "outputs": [
    {
     "name": "stderr",
     "output_type": "stream",
     "text": [
      "Generating train split: 1000 examples [00:00, 31822.76 examples/s]\n"
     ]
    },
    {
     "data": {
      "text/plain": [
       "{'input': '',\n",
       " 'instruction': '血热的临床表现是什么?',\n",
       " 'output': '初发或复发病不久。皮疹发展迅速，呈点滴状、钱币状或混合状。常见丘疹、斑丘疹、大小不等的斑片，潮红、鲜红或深红色。散布于体表各处或几处，以躯干、四肢多见，亦可先从头面开始，逐渐发展至全身。新皮疹不断出现，表面覆有银白色鳞屑，干燥易脱落，剥刮后有点状出血。可有同形反应;伴瘙痒、心烦口渴。大便秘结、小便短黄，舌质红赤，苔薄黄或根部黄厚，脉弦滑或滑数。血热炽盛病机，主要表现在如下四个面：一、热象：血热多属阳盛则热之实性、热性病机和病证、并表现出热象。二、血行加速：血得热则行，可使血流加速，且使脉道扩张，络脉充血，故可见面红目赤，舌色深红（即舌绛）等症。三、动血：在血行加速与脉道扩张的基础上，血分有热，可灼伤脉络，引起出血，称为“热迫血妄行”，或称动血。四、扰乱心神：血热炽盛则扰动心神，心主血脉而藏神，血脉与心相通，故血热则使心神不安，而见心烦，或躁扰发狂等症。'}"
      ]
     },
     "execution_count": 4,
     "metadata": {},
     "output_type": "execute_result"
    }
   ],
   "source": [
    "# 加载Dataset。原文经过DataFrame中转，比较麻烦\n",
    "ds = datasets.load_dataset(\"json\", data_files=\"train_lora.json\", split=\"train\")  # 不加split会返回DatasetDict\n",
    "ds[0]"
   ]
  },
  {
   "cell_type": "code",
   "execution_count": 5,
   "id": "94ada428-0633-402d-9620-7333c1f6f7e3",
   "metadata": {
    "ExecutionIndicator": {
     "show": true
    },
    "execution": {
     "iopub.execute_input": "2024-06-25T19:14:04.336329Z",
     "iopub.status.busy": "2024-06-25T19:14:04.335371Z",
     "iopub.status.idle": "2024-06-25T19:14:04.969998Z",
     "shell.execute_reply": "2024-06-25T19:14:04.969320Z",
     "shell.execute_reply.started": "2024-06-25T19:14:04.336271Z"
    },
    "tags": []
   },
   "outputs": [
    {
     "data": {
      "text/plain": [
       "QWenTokenizer(name_or_path='Qwen-1_8B-Chat', vocab_size=151851, model_max_length=8192, is_fast=False, padding_side='right', truncation_side='right', special_tokens={'pad_token': '<|endoftext|>'}, clean_up_tokenization_spaces=True),  added_tokens_decoder={\n",
       "\t\n",
       "}"
      ]
     },
     "execution_count": 5,
     "metadata": {},
     "output_type": "execute_result"
    }
   ],
   "source": [
    "CKPT_PATH = \"Qwen-1_8B-Chat\"\n",
    "tokenizer = AutoTokenizer.from_pretrained(CKPT_PATH, trust_remote_code=True)\n",
    "tokenizer.pad_token_id = tokenizer.eod_id\n",
    "tokenizer"
   ]
  },
  {
   "cell_type": "code",
   "execution_count": 6,
   "id": "c35b2086-5ba4-463b-b689-befd11224cb3",
   "metadata": {
    "execution": {
     "iopub.execute_input": "2024-06-25T19:14:04.971385Z",
     "iopub.status.busy": "2024-06-25T19:14:04.970994Z",
     "iopub.status.idle": "2024-06-25T19:14:04.976773Z",
     "shell.execute_reply": "2024-06-25T19:14:04.975995Z",
     "shell.execute_reply.started": "2024-06-25T19:14:04.971358Z"
    },
    "tags": []
   },
   "outputs": [],
   "source": [
    "def process_func(example):\n",
    "    MAX_LENGTH = 384\n",
    "\n",
    "    instruction = tokenizer(\n",
    "        \"<|im_start|>system\\n\" +\n",
    "        \"你是一个医学助手，需要回答用户关于医学的问题：<|im_end|>\\n\" +\n",
    "        \"<|im_start|>user\\n\" +\n",
    "        example[\"instruction\"] + example[\"input\"] + \"<|im_end|>\\n\"\n",
    "    )\n",
    "    response = tokenizer(\n",
    "        \"<|im_start|>assistant\\n\" +\n",
    "        example[\"output\"] + \"<|im_end|>\\n\"\n",
    "    )\n",
    "    \n",
    "    input_ids = instruction[\"input_ids\"] + response[\"input_ids\"] + [tokenizer.eod_id]\n",
    "    attention_mask = instruction[\"attention_mask\"] + response[\"attention_mask\"] + [1]\n",
    "    labels = [-100] * len(instruction[\"input_ids\"]) + response[\"input_ids\"] + [tokenizer.eod_id]\n",
    "\n",
    "    # 截断\n",
    "    if len(input_ids) > MAX_LENGTH:\n",
    "        input_ids = input_ids[:MAX_LENGTH]\n",
    "        attention_mask = attention_mask[:MAX_LENGTH]\n",
    "        labels = labels[:MAX_LENGTH]\n",
    "    return {\n",
    "        \"input_ids\": input_ids,\n",
    "        \"attention_mask\": attention_mask,\n",
    "        \"labels\": labels\n",
    "    }"
   ]
  },
  {
   "cell_type": "code",
   "execution_count": 7,
   "id": "f053b8fa-a115-45c4-8a19-b1eac07cdc11",
   "metadata": {
    "execution": {
     "iopub.execute_input": "2024-06-25T19:14:04.978318Z",
     "iopub.status.busy": "2024-06-25T19:14:04.977818Z",
     "iopub.status.idle": "2024-06-25T19:14:07.288577Z",
     "shell.execute_reply": "2024-06-25T19:14:07.287835Z",
     "shell.execute_reply.started": "2024-06-25T19:14:04.978286Z"
    },
    "tags": []
   },
   "outputs": [
    {
     "name": "stderr",
     "output_type": "stream",
     "text": [
      "Map: 100%|██████████| 1000/1000 [00:00<00:00, 1889.33 examples/s]\n"
     ]
    },
    {
     "data": {
      "text/plain": [
       "Dataset({\n",
       "    features: ['input_ids', 'attention_mask', 'labels'],\n",
       "    num_rows: 1000\n",
       "})"
      ]
     },
     "execution_count": 7,
     "metadata": {},
     "output_type": "execute_result"
    }
   ],
   "source": [
    "# 类似DataFrame的用法，并行处理数据\n",
    "train_dataset = ds.map(process_func, remove_columns=ds.column_names)  # 去掉原始的列\n",
    "train_dataset"
   ]
  },
  {
   "cell_type": "code",
   "execution_count": 8,
   "id": "d80ce787-d092-4747-bbd9-66bf6fedb1a0",
   "metadata": {
    "execution": {
     "iopub.execute_input": "2024-06-25T19:14:07.290238Z",
     "iopub.status.busy": "2024-06-25T19:14:07.289651Z",
     "iopub.status.idle": "2024-06-25T19:14:07.295594Z",
     "shell.execute_reply": "2024-06-25T19:14:07.295001Z",
     "shell.execute_reply.started": "2024-06-25T19:14:07.290204Z"
    },
    "tags": []
   },
   "outputs": [
    {
     "data": {
      "text/plain": [
       "'<|im_start|>system\\n你是一个医学助手，需要回答用户关于医学的问题：<|im_end|>\\n<|im_start|>user\\n帕金森叠加综合征的辅助治疗有些什么？<|im_end|>\\n<|im_start|>assistant\\n综合治疗；康复训练；生活护理指导；低频重复经颅磁刺激治疗<|im_end|>\\n<|endoftext|>'"
      ]
     },
     "execution_count": 8,
     "metadata": {},
     "output_type": "execute_result"
    }
   ],
   "source": [
    "tokenizer.decode(train_dataset[1]['input_ids'])"
   ]
  },
  {
   "cell_type": "code",
   "execution_count": 9,
   "id": "f24af3f8-ce97-4bad-9542-e60c9f5691ef",
   "metadata": {
    "execution": {
     "iopub.execute_input": "2024-06-25T19:14:07.296897Z",
     "iopub.status.busy": "2024-06-25T19:14:07.296498Z",
     "iopub.status.idle": "2024-06-25T19:14:07.302144Z",
     "shell.execute_reply": "2024-06-25T19:14:07.301571Z",
     "shell.execute_reply.started": "2024-06-25T19:14:07.296870Z"
    },
    "tags": []
   },
   "outputs": [
    {
     "data": {
      "text/plain": [
       "'<|im_start|>assistant\\n综合治疗；康复训练；生活护理指导；低频重复经颅磁刺激治疗<|im_end|>\\n<|endoftext|>'"
      ]
     },
     "execution_count": 9,
     "metadata": {},
     "output_type": "execute_result"
    }
   ],
   "source": [
    "tokenizer.decode(list(filter(lambda x: x != -100, train_dataset[1][\"labels\"])))"
   ]
  },
  {
   "cell_type": "code",
   "execution_count": 10,
   "id": "d34a4079-5348-4a11-ae16-2fe716605aa2",
   "metadata": {
    "ExecutionIndicator": {
     "show": true
    },
    "execution": {
     "iopub.execute_input": "2024-06-25T19:14:07.303338Z",
     "iopub.status.busy": "2024-06-25T19:14:07.302939Z",
     "iopub.status.idle": "2024-06-25T19:14:08.729223Z",
     "shell.execute_reply": "2024-06-25T19:14:08.728580Z",
     "shell.execute_reply.started": "2024-06-25T19:14:07.303310Z"
    },
    "scrolled": true,
    "tags": []
   },
   "outputs": [
    {
     "name": "stderr",
     "output_type": "stream",
     "text": [
      "The model is automatically converting to bf16 for faster inference. If you want to disable the automatic precision, please manually add bf16/fp16/fp32=True to \"AutoModelForCausalLM.from_pretrained\".\n",
      "Try importing flash-attention for faster inference...\n",
      "Warning: import flash_attn rotary fail, please install FlashAttention rotary to get higher efficiency https://github.com/Dao-AILab/flash-attention/tree/main/csrc/rotary\n",
      "Warning: import flash_attn rms_norm fail, please install FlashAttention layer_norm to get higher efficiency https://github.com/Dao-AILab/flash-attention/tree/main/csrc/layer_norm\n",
      "Warning: import flash_attn fail, please install FlashAttention to get higher efficiency https://github.com/Dao-AILab/flash-attention\n",
      "Loading checkpoint shards: 100%|██████████| 2/2 [00:00<00:00,  2.14it/s]\n"
     ]
    },
    {
     "data": {
      "text/plain": [
       "QWenLMHeadModel(\n",
       "  (transformer): QWenModel(\n",
       "    (wte): Embedding(151936, 2048)\n",
       "    (drop): Dropout(p=0.0, inplace=False)\n",
       "    (rotary_emb): RotaryEmbedding()\n",
       "    (h): ModuleList(\n",
       "      (0-23): 24 x QWenBlock(\n",
       "        (ln_1): RMSNorm()\n",
       "        (attn): QWenAttention(\n",
       "          (c_attn): Linear(in_features=2048, out_features=6144, bias=True)\n",
       "          (c_proj): Linear(in_features=2048, out_features=2048, bias=False)\n",
       "          (attn_dropout): Dropout(p=0.0, inplace=False)\n",
       "        )\n",
       "        (ln_2): RMSNorm()\n",
       "        (mlp): QWenMLP(\n",
       "          (w1): Linear(in_features=2048, out_features=5504, bias=False)\n",
       "          (w2): Linear(in_features=2048, out_features=5504, bias=False)\n",
       "          (c_proj): Linear(in_features=5504, out_features=2048, bias=False)\n",
       "        )\n",
       "      )\n",
       "    )\n",
       "    (ln_f): RMSNorm()\n",
       "  )\n",
       "  (lm_head): Linear(in_features=2048, out_features=151936, bias=False)\n",
       ")"
      ]
     },
     "execution_count": 10,
     "metadata": {},
     "output_type": "execute_result"
    }
   ],
   "source": [
    "model = AutoModelForCausalLM.from_pretrained(CKPT_PATH, trust_remote_code=True, \n",
    "                                             torch_dtype=torch.bfloat16,\n",
    "                                             # load_in_8bit=True\n",
    "                                            )\n",
    "model"
   ]
  },
  {
   "cell_type": "code",
   "execution_count": 11,
   "id": "42aea761-09ba-4f42-9126-812f2dfe3ae5",
   "metadata": {
    "execution": {
     "iopub.execute_input": "2024-06-25T19:14:08.730540Z",
     "iopub.status.busy": "2024-06-25T19:14:08.730316Z",
     "iopub.status.idle": "2024-06-25T19:14:08.734447Z",
     "shell.execute_reply": "2024-06-25T19:14:08.733787Z",
     "shell.execute_reply.started": "2024-06-25T19:14:08.730519Z"
    },
    "tags": []
   },
   "outputs": [
    {
     "data": {
      "text/plain": [
       "torch.bfloat16"
      ]
     },
     "execution_count": 11,
     "metadata": {},
     "output_type": "execute_result"
    }
   ],
   "source": [
    "model.dtype"
   ]
  },
  {
   "cell_type": "code",
   "execution_count": 12,
   "id": "cc8bf88a-32f4-498d-a2ac-9c7518d651c5",
   "metadata": {
    "ExecutionIndicator": {
     "show": true
    },
    "execution": {
     "iopub.execute_input": "2024-06-25T19:14:08.735544Z",
     "iopub.status.busy": "2024-06-25T19:14:08.735247Z",
     "iopub.status.idle": "2024-06-25T19:14:08.738355Z",
     "shell.execute_reply": "2024-06-25T19:14:08.737791Z",
     "shell.execute_reply.started": "2024-06-25T19:14:08.735523Z"
    },
    "tags": []
   },
   "outputs": [],
   "source": [
    "# 使用gradient_checkpointing+peft需要加这句补丁\n",
    "model.enable_input_require_grads()"
   ]
  },
  {
   "cell_type": "code",
   "execution_count": 13,
   "id": "8c3349f2-35d4-4c9c-ae9d-cea91a3aac11",
   "metadata": {
    "ExecutionIndicator": {
     "show": true
    },
    "execution": {
     "iopub.execute_input": "2024-06-25T19:14:08.741216Z",
     "iopub.status.busy": "2024-06-25T19:14:08.740632Z",
     "iopub.status.idle": "2024-06-25T19:14:08.745975Z",
     "shell.execute_reply": "2024-06-25T19:14:08.745230Z",
     "shell.execute_reply.started": "2024-06-25T19:14:08.741191Z"
    },
    "tags": []
   },
   "outputs": [
    {
     "data": {
      "text/plain": [
       "LoraConfig(peft_type=<PeftType.LORA: 'LORA'>, auto_mapping=None, base_model_name_or_path=None, revision=None, task_type=None, inference_mode=False, r=8, target_modules={'c_attn', 'w2', 'c_proj', 'w1'}, lora_alpha=32, lora_dropout=0.1, fan_in_fan_out=False, bias='none', use_rslora=False, modules_to_save=None, init_lora_weights=True, layers_to_transform=None, layers_pattern=None, rank_pattern={}, alpha_pattern={}, megatron_config=None, megatron_core='megatron.core', loftq_config={}, use_dora=False, layer_replication=None)"
      ]
     },
     "execution_count": 13,
     "metadata": {},
     "output_type": "execute_result"
    }
   ],
   "source": [
    "config = LoraConfig(\n",
    "    # task_type=TaskType.CAUSAL_LM, # 可以不写\n",
    "    target_modules=[\"c_attn\", \"c_proj\", \"w1\", \"w2\"],  # 必须指定，Qwen官方的微调脚本也是写这几个\n",
    "    # 原文说这三个参数比较通用，先留着\n",
    "    r=8,\n",
    "    lora_alpha=32,\n",
    "    lora_dropout=0.1\n",
    ")\n",
    "config"
   ]
  },
  {
   "cell_type": "code",
   "execution_count": 14,
   "id": "48caca04-3836-4df0-9632-f8917c56b0f0",
   "metadata": {
    "execution": {
     "iopub.execute_input": "2024-06-25T19:14:08.747523Z",
     "iopub.status.busy": "2024-06-25T19:14:08.746918Z",
     "iopub.status.idle": "2024-06-25T19:14:09.265978Z",
     "shell.execute_reply": "2024-06-25T19:14:09.265326Z",
     "shell.execute_reply.started": "2024-06-25T19:14:08.747496Z"
    },
    "scrolled": true,
    "tags": []
   },
   "outputs": [
    {
     "data": {
      "text/plain": [
       "PeftModel(\n",
       "  (base_model): LoraModel(\n",
       "    (model): QWenLMHeadModel(\n",
       "      (transformer): QWenModel(\n",
       "        (wte): Embedding(151936, 2048)\n",
       "        (drop): Dropout(p=0.0, inplace=False)\n",
       "        (rotary_emb): RotaryEmbedding()\n",
       "        (h): ModuleList(\n",
       "          (0-23): 24 x QWenBlock(\n",
       "            (ln_1): RMSNorm()\n",
       "            (attn): QWenAttention(\n",
       "              (c_attn): lora.Linear(\n",
       "                (base_layer): Linear(in_features=2048, out_features=6144, bias=True)\n",
       "                (lora_dropout): ModuleDict(\n",
       "                  (default): Dropout(p=0.1, inplace=False)\n",
       "                )\n",
       "                (lora_A): ModuleDict(\n",
       "                  (default): Linear(in_features=2048, out_features=8, bias=False)\n",
       "                )\n",
       "                (lora_B): ModuleDict(\n",
       "                  (default): Linear(in_features=8, out_features=6144, bias=False)\n",
       "                )\n",
       "                (lora_embedding_A): ParameterDict()\n",
       "                (lora_embedding_B): ParameterDict()\n",
       "              )\n",
       "              (c_proj): lora.Linear(\n",
       "                (base_layer): Linear(in_features=2048, out_features=2048, bias=False)\n",
       "                (lora_dropout): ModuleDict(\n",
       "                  (default): Dropout(p=0.1, inplace=False)\n",
       "                )\n",
       "                (lora_A): ModuleDict(\n",
       "                  (default): Linear(in_features=2048, out_features=8, bias=False)\n",
       "                )\n",
       "                (lora_B): ModuleDict(\n",
       "                  (default): Linear(in_features=8, out_features=2048, bias=False)\n",
       "                )\n",
       "                (lora_embedding_A): ParameterDict()\n",
       "                (lora_embedding_B): ParameterDict()\n",
       "              )\n",
       "              (attn_dropout): Dropout(p=0.0, inplace=False)\n",
       "            )\n",
       "            (ln_2): RMSNorm()\n",
       "            (mlp): QWenMLP(\n",
       "              (w1): lora.Linear(\n",
       "                (base_layer): Linear(in_features=2048, out_features=5504, bias=False)\n",
       "                (lora_dropout): ModuleDict(\n",
       "                  (default): Dropout(p=0.1, inplace=False)\n",
       "                )\n",
       "                (lora_A): ModuleDict(\n",
       "                  (default): Linear(in_features=2048, out_features=8, bias=False)\n",
       "                )\n",
       "                (lora_B): ModuleDict(\n",
       "                  (default): Linear(in_features=8, out_features=5504, bias=False)\n",
       "                )\n",
       "                (lora_embedding_A): ParameterDict()\n",
       "                (lora_embedding_B): ParameterDict()\n",
       "              )\n",
       "              (w2): lora.Linear(\n",
       "                (base_layer): Linear(in_features=2048, out_features=5504, bias=False)\n",
       "                (lora_dropout): ModuleDict(\n",
       "                  (default): Dropout(p=0.1, inplace=False)\n",
       "                )\n",
       "                (lora_A): ModuleDict(\n",
       "                  (default): Linear(in_features=2048, out_features=8, bias=False)\n",
       "                )\n",
       "                (lora_B): ModuleDict(\n",
       "                  (default): Linear(in_features=8, out_features=5504, bias=False)\n",
       "                )\n",
       "                (lora_embedding_A): ParameterDict()\n",
       "                (lora_embedding_B): ParameterDict()\n",
       "              )\n",
       "              (c_proj): lora.Linear(\n",
       "                (base_layer): Linear(in_features=5504, out_features=2048, bias=False)\n",
       "                (lora_dropout): ModuleDict(\n",
       "                  (default): Dropout(p=0.1, inplace=False)\n",
       "                )\n",
       "                (lora_A): ModuleDict(\n",
       "                  (default): Linear(in_features=5504, out_features=8, bias=False)\n",
       "                )\n",
       "                (lora_B): ModuleDict(\n",
       "                  (default): Linear(in_features=8, out_features=2048, bias=False)\n",
       "                )\n",
       "                (lora_embedding_A): ParameterDict()\n",
       "                (lora_embedding_B): ParameterDict()\n",
       "              )\n",
       "            )\n",
       "          )\n",
       "        )\n",
       "        (ln_f): RMSNorm()\n",
       "      )\n",
       "      (lm_head): Linear(in_features=2048, out_features=151936, bias=False)\n",
       "    )\n",
       "  )\n",
       ")"
      ]
     },
     "execution_count": 14,
     "metadata": {},
     "output_type": "execute_result"
    }
   ],
   "source": [
    "model = get_peft_model(model, config)\n",
    "model"
   ]
  },
  {
   "cell_type": "code",
   "execution_count": 15,
   "id": "3d7aaa78-ddd7-4f3f-bfa8-cabb5ef7b64c",
   "metadata": {
    "execution": {
     "iopub.execute_input": "2024-06-25T19:14:09.267269Z",
     "iopub.status.busy": "2024-06-25T19:14:09.266797Z",
     "iopub.status.idle": "2024-06-25T19:14:09.273441Z",
     "shell.execute_reply": "2024-06-25T19:14:09.272837Z",
     "shell.execute_reply.started": "2024-06-25T19:14:09.267248Z"
    },
    "tags": []
   },
   "outputs": [
    {
     "name": "stdout",
     "output_type": "stream",
     "text": [
      "trainable params: 6,709,248 || all params: 1,843,537,920 || trainable%: 0.3639\n"
     ]
    }
   ],
   "source": [
    "model.print_trainable_parameters()"
   ]
  },
  {
   "cell_type": "code",
   "execution_count": 16,
   "id": "d2a2bbbc-3bc0-4d6b-8c1d-7fcb895e2da2",
   "metadata": {
    "ExecutionIndicator": {
     "show": false
    },
    "execution": {
     "iopub.execute_input": "2024-06-25T19:14:09.274557Z",
     "iopub.status.busy": "2024-06-25T19:14:09.274140Z",
     "iopub.status.idle": "2024-06-25T19:14:09.287017Z",
     "shell.execute_reply": "2024-06-25T19:14:09.286544Z",
     "shell.execute_reply.started": "2024-06-25T19:14:09.274537Z"
    },
    "tags": []
   },
   "outputs": [],
   "source": [
    "# 定义训练配置\n",
    "args = TrainingArguments(\n",
    "    output_dir=f\"./output/{CKPT_PATH}_flash_attn_v1\",\n",
    "    per_device_train_batch_size=4,\n",
    "    gradient_accumulation_steps=4,  # 累计16个样本才迭代一次，1个epoch有1000/16=62步\n",
    "    logging_steps=10,\n",
    "    num_train_epochs=12,\n",
    "    # gradient_checkpointing=True,  # 开启激活重计算，时间换空间\n",
    "    save_steps=186,  # 也就是正好3个epoch保存一次\n",
    "    learning_rate=1e-4\n",
    ")"
   ]
  },
  {
   "cell_type": "code",
   "execution_count": 17,
   "id": "982ae2ef-7b05-4809-97c2-be2a43a2d49d",
   "metadata": {
    "execution": {
     "iopub.execute_input": "2024-06-25T19:14:09.288106Z",
     "iopub.status.busy": "2024-06-25T19:14:09.287701Z",
     "iopub.status.idle": "2024-06-25T19:14:12.999861Z",
     "shell.execute_reply": "2024-06-25T19:14:12.998822Z",
     "shell.execute_reply.started": "2024-06-25T19:14:09.288086Z"
    },
    "tags": []
   },
   "outputs": [
    {
     "name": "stderr",
     "output_type": "stream",
     "text": [
      "/home/pai/envs/test_qwen/lib/python3.10/site-packages/accelerate/accelerator.py:444: FutureWarning: Passing the following arguments to `Accelerator` is deprecated and will be removed in version 1.0 of Accelerate: dict_keys(['dispatch_batches', 'split_batches']). Please pass an `accelerate.DataLoaderConfiguration` instead: \n",
      "dataloader_config = DataLoaderConfiguration(dispatch_batches=None, split_batches=False)\n",
      "  warnings.warn(\n",
      "Detected kernel version 4.19.24, which is below the recommended minimum of 5.5.0; this can cause the process to hang. It is recommended to upgrade the kernel to the minimum version or higher.\n"
     ]
    }
   ],
   "source": [
    "# 定义trainer\n",
    "trainer = Trainer(\n",
    "    model=model,\n",
    "    args=args,\n",
    "    train_dataset=train_dataset,\n",
    "    # 用pad填充batch的三个字段\n",
    "    data_collator=DataCollatorForSeq2Seq(tokenizer=tokenizer)  # 原文设置padding=True，是默认值，省略掉\n",
    ")"
   ]
  },
  {
   "cell_type": "code",
   "execution_count": 18,
   "id": "e26a0096-31f8-4f1c-96ab-f4e7f658542d",
   "metadata": {
    "ExecutionIndicator": {
     "show": true
    },
    "execution": {
     "iopub.execute_input": "2024-06-25T19:14:13.001390Z",
     "iopub.status.busy": "2024-06-25T19:14:13.001024Z",
     "iopub.status.idle": "2024-06-25T19:14:18.758690Z",
     "shell.execute_reply": "2024-06-25T19:14:18.757833Z",
     "shell.execute_reply.started": "2024-06-25T19:14:13.001365Z"
    },
    "tags": []
   },
   "outputs": [
    {
     "data": {
      "text/plain": [
       "('帕金森叠加综合征是一种常见的神经系统退行性疾病，辅助治疗可以包括药物治疗、物理疗法和心理疗法。药物治疗主要包括抗帕金森病药、多巴胺受体激动剂等，有助于改善症状；物理疗法可以帮助患者增强肌肉力量，改善平衡能力，减轻关节疼痛；心理疗法可以帮助患者提高生活满意度，减轻焦虑和抑郁症状，从而改善生活质量。此外，还应定期进行康复训练，以进一步提高患者的日常生活能力和应对疾病的能力。',\n",
       " [('帕金森叠加综合征的辅助治疗有些什么?',\n",
       "   '帕金森叠加综合征是一种常见的神经系统退行性疾病，辅助治疗可以包括药物治疗、物理疗法和心理疗法。药物治疗主要包括抗帕金森病药、多巴胺受体激动剂等，有助于改善症状；物理疗法可以帮助患者增强肌肉力量，改善平衡能力，减轻关节疼痛；心理疗法可以帮助患者提高生活满意度，减轻焦虑和抑郁症状，从而改善生活质量。此外，还应定期进行康复训练，以进一步提高患者的日常生活能力和应对疾病的能力。')])"
      ]
     },
     "execution_count": 18,
     "metadata": {},
     "output_type": "execute_result"
    }
   ],
   "source": [
    "# 训练前看看效果\n",
    "response, history = model.eval().chat(tokenizer, \"帕金森叠加综合征的辅助治疗有些什么?\", history=None,\n",
    "                                      system=\"你是一个医学助手，需要回答用户关于医学的问题：\")\n",
    "response, history"
   ]
  },
  {
   "cell_type": "code",
   "execution_count": 19,
   "id": "11bf40ff-3ec0-40fc-9bd0-7fed9a08e030",
   "metadata": {
    "execution": {
     "iopub.execute_input": "2024-06-25T19:14:18.760406Z",
     "iopub.status.busy": "2024-06-25T19:14:18.759958Z",
     "iopub.status.idle": "2024-06-25T19:28:04.840448Z",
     "shell.execute_reply": "2024-06-25T19:28:04.839560Z",
     "shell.execute_reply.started": "2024-06-25T19:14:18.760382Z"
    },
    "scrolled": true,
    "tags": []
   },
   "outputs": [
    {
     "data": {
      "text/html": [
       "\n",
       "    <div>\n",
       "      \n",
       "      <progress value='744' max='744' style='width:300px; height:20px; vertical-align: middle;'></progress>\n",
       "      [744/744 13:45, Epoch 11/12]\n",
       "    </div>\n",
       "    <table border=\"1\" class=\"dataframe\">\n",
       "  <thead>\n",
       " <tr style=\"text-align: left;\">\n",
       "      <th>Step</th>\n",
       "      <th>Training Loss</th>\n",
       "    </tr>\n",
       "  </thead>\n",
       "  <tbody>\n",
       "    <tr>\n",
       "      <td>10</td>\n",
       "      <td>2.514100</td>\n",
       "    </tr>\n",
       "    <tr>\n",
       "      <td>20</td>\n",
       "      <td>2.062700</td>\n",
       "    </tr>\n",
       "    <tr>\n",
       "      <td>30</td>\n",
       "      <td>2.151200</td>\n",
       "    </tr>\n",
       "    <tr>\n",
       "      <td>40</td>\n",
       "      <td>1.997000</td>\n",
       "    </tr>\n",
       "    <tr>\n",
       "      <td>50</td>\n",
       "      <td>2.037900</td>\n",
       "    </tr>\n",
       "    <tr>\n",
       "      <td>60</td>\n",
       "      <td>2.020600</td>\n",
       "    </tr>\n",
       "    <tr>\n",
       "      <td>70</td>\n",
       "      <td>1.900600</td>\n",
       "    </tr>\n",
       "    <tr>\n",
       "      <td>80</td>\n",
       "      <td>1.911300</td>\n",
       "    </tr>\n",
       "    <tr>\n",
       "      <td>90</td>\n",
       "      <td>1.880200</td>\n",
       "    </tr>\n",
       "    <tr>\n",
       "      <td>100</td>\n",
       "      <td>1.895800</td>\n",
       "    </tr>\n",
       "    <tr>\n",
       "      <td>110</td>\n",
       "      <td>1.911800</td>\n",
       "    </tr>\n",
       "    <tr>\n",
       "      <td>120</td>\n",
       "      <td>1.871200</td>\n",
       "    </tr>\n",
       "    <tr>\n",
       "      <td>130</td>\n",
       "      <td>1.924000</td>\n",
       "    </tr>\n",
       "    <tr>\n",
       "      <td>140</td>\n",
       "      <td>1.737300</td>\n",
       "    </tr>\n",
       "    <tr>\n",
       "      <td>150</td>\n",
       "      <td>1.843800</td>\n",
       "    </tr>\n",
       "    <tr>\n",
       "      <td>160</td>\n",
       "      <td>1.827700</td>\n",
       "    </tr>\n",
       "    <tr>\n",
       "      <td>170</td>\n",
       "      <td>1.793400</td>\n",
       "    </tr>\n",
       "    <tr>\n",
       "      <td>180</td>\n",
       "      <td>1.506400</td>\n",
       "    </tr>\n",
       "    <tr>\n",
       "      <td>190</td>\n",
       "      <td>1.748000</td>\n",
       "    </tr>\n",
       "    <tr>\n",
       "      <td>200</td>\n",
       "      <td>1.525100</td>\n",
       "    </tr>\n",
       "    <tr>\n",
       "      <td>210</td>\n",
       "      <td>1.590200</td>\n",
       "    </tr>\n",
       "    <tr>\n",
       "      <td>220</td>\n",
       "      <td>1.581100</td>\n",
       "    </tr>\n",
       "    <tr>\n",
       "      <td>230</td>\n",
       "      <td>1.707500</td>\n",
       "    </tr>\n",
       "    <tr>\n",
       "      <td>240</td>\n",
       "      <td>1.664600</td>\n",
       "    </tr>\n",
       "    <tr>\n",
       "      <td>250</td>\n",
       "      <td>1.678000</td>\n",
       "    </tr>\n",
       "    <tr>\n",
       "      <td>260</td>\n",
       "      <td>1.576700</td>\n",
       "    </tr>\n",
       "    <tr>\n",
       "      <td>270</td>\n",
       "      <td>1.572500</td>\n",
       "    </tr>\n",
       "    <tr>\n",
       "      <td>280</td>\n",
       "      <td>1.353300</td>\n",
       "    </tr>\n",
       "    <tr>\n",
       "      <td>290</td>\n",
       "      <td>1.507200</td>\n",
       "    </tr>\n",
       "    <tr>\n",
       "      <td>300</td>\n",
       "      <td>1.543500</td>\n",
       "    </tr>\n",
       "    <tr>\n",
       "      <td>310</td>\n",
       "      <td>1.552400</td>\n",
       "    </tr>\n",
       "    <tr>\n",
       "      <td>320</td>\n",
       "      <td>1.451600</td>\n",
       "    </tr>\n",
       "    <tr>\n",
       "      <td>330</td>\n",
       "      <td>1.388900</td>\n",
       "    </tr>\n",
       "    <tr>\n",
       "      <td>340</td>\n",
       "      <td>1.348100</td>\n",
       "    </tr>\n",
       "    <tr>\n",
       "      <td>350</td>\n",
       "      <td>1.347000</td>\n",
       "    </tr>\n",
       "    <tr>\n",
       "      <td>360</td>\n",
       "      <td>1.387500</td>\n",
       "    </tr>\n",
       "    <tr>\n",
       "      <td>370</td>\n",
       "      <td>1.376700</td>\n",
       "    </tr>\n",
       "    <tr>\n",
       "      <td>380</td>\n",
       "      <td>1.275700</td>\n",
       "    </tr>\n",
       "    <tr>\n",
       "      <td>390</td>\n",
       "      <td>1.337500</td>\n",
       "    </tr>\n",
       "    <tr>\n",
       "      <td>400</td>\n",
       "      <td>1.288200</td>\n",
       "    </tr>\n",
       "    <tr>\n",
       "      <td>410</td>\n",
       "      <td>1.174800</td>\n",
       "    </tr>\n",
       "    <tr>\n",
       "      <td>420</td>\n",
       "      <td>1.288400</td>\n",
       "    </tr>\n",
       "    <tr>\n",
       "      <td>430</td>\n",
       "      <td>1.175400</td>\n",
       "    </tr>\n",
       "    <tr>\n",
       "      <td>440</td>\n",
       "      <td>1.177700</td>\n",
       "    </tr>\n",
       "    <tr>\n",
       "      <td>450</td>\n",
       "      <td>1.180300</td>\n",
       "    </tr>\n",
       "    <tr>\n",
       "      <td>460</td>\n",
       "      <td>1.096500</td>\n",
       "    </tr>\n",
       "    <tr>\n",
       "      <td>470</td>\n",
       "      <td>1.163500</td>\n",
       "    </tr>\n",
       "    <tr>\n",
       "      <td>480</td>\n",
       "      <td>1.106900</td>\n",
       "    </tr>\n",
       "    <tr>\n",
       "      <td>490</td>\n",
       "      <td>1.184200</td>\n",
       "    </tr>\n",
       "    <tr>\n",
       "      <td>500</td>\n",
       "      <td>1.168700</td>\n",
       "    </tr>\n",
       "    <tr>\n",
       "      <td>510</td>\n",
       "      <td>1.188900</td>\n",
       "    </tr>\n",
       "    <tr>\n",
       "      <td>520</td>\n",
       "      <td>1.178300</td>\n",
       "    </tr>\n",
       "    <tr>\n",
       "      <td>530</td>\n",
       "      <td>1.055000</td>\n",
       "    </tr>\n",
       "    <tr>\n",
       "      <td>540</td>\n",
       "      <td>1.050200</td>\n",
       "    </tr>\n",
       "    <tr>\n",
       "      <td>550</td>\n",
       "      <td>1.156800</td>\n",
       "    </tr>\n",
       "    <tr>\n",
       "      <td>560</td>\n",
       "      <td>1.081300</td>\n",
       "    </tr>\n",
       "    <tr>\n",
       "      <td>570</td>\n",
       "      <td>1.013800</td>\n",
       "    </tr>\n",
       "    <tr>\n",
       "      <td>580</td>\n",
       "      <td>1.073700</td>\n",
       "    </tr>\n",
       "    <tr>\n",
       "      <td>590</td>\n",
       "      <td>1.015500</td>\n",
       "    </tr>\n",
       "    <tr>\n",
       "      <td>600</td>\n",
       "      <td>1.157400</td>\n",
       "    </tr>\n",
       "    <tr>\n",
       "      <td>610</td>\n",
       "      <td>1.022600</td>\n",
       "    </tr>\n",
       "    <tr>\n",
       "      <td>620</td>\n",
       "      <td>0.976600</td>\n",
       "    </tr>\n",
       "    <tr>\n",
       "      <td>630</td>\n",
       "      <td>1.014900</td>\n",
       "    </tr>\n",
       "    <tr>\n",
       "      <td>640</td>\n",
       "      <td>1.036700</td>\n",
       "    </tr>\n",
       "    <tr>\n",
       "      <td>650</td>\n",
       "      <td>1.031700</td>\n",
       "    </tr>\n",
       "    <tr>\n",
       "      <td>660</td>\n",
       "      <td>1.043200</td>\n",
       "    </tr>\n",
       "    <tr>\n",
       "      <td>670</td>\n",
       "      <td>1.131400</td>\n",
       "    </tr>\n",
       "    <tr>\n",
       "      <td>680</td>\n",
       "      <td>0.843700</td>\n",
       "    </tr>\n",
       "    <tr>\n",
       "      <td>690</td>\n",
       "      <td>0.924500</td>\n",
       "    </tr>\n",
       "    <tr>\n",
       "      <td>700</td>\n",
       "      <td>0.862500</td>\n",
       "    </tr>\n",
       "    <tr>\n",
       "      <td>710</td>\n",
       "      <td>1.048500</td>\n",
       "    </tr>\n",
       "    <tr>\n",
       "      <td>720</td>\n",
       "      <td>1.106700</td>\n",
       "    </tr>\n",
       "    <tr>\n",
       "      <td>730</td>\n",
       "      <td>0.936400</td>\n",
       "    </tr>\n",
       "    <tr>\n",
       "      <td>740</td>\n",
       "      <td>1.060200</td>\n",
       "    </tr>\n",
       "  </tbody>\n",
       "</table><p>"
      ],
      "text/plain": [
       "<IPython.core.display.HTML object>"
      ]
     },
     "metadata": {},
     "output_type": "display_data"
    },
    {
     "name": "stderr",
     "output_type": "stream",
     "text": [
      "Checkpoint destination directory ./output/Qwen-1_8B-Chat_new/checkpoint-186 already exists and is non-empty.Saving will proceed but saved results may be invalid.\n",
      "Checkpoint destination directory ./output/Qwen-1_8B-Chat_new/checkpoint-372 already exists and is non-empty.Saving will proceed but saved results may be invalid.\n",
      "Checkpoint destination directory ./output/Qwen-1_8B-Chat_new/checkpoint-558 already exists and is non-empty.Saving will proceed but saved results may be invalid.\n",
      "Checkpoint destination directory ./output/Qwen-1_8B-Chat_new/checkpoint-744 already exists and is non-empty.Saving will proceed but saved results may be invalid.\n"
     ]
    },
    {
     "data": {
      "text/plain": [
       "TrainOutput(global_step=744, training_loss=1.4083549335438719, metrics={'train_runtime': 825.8399, 'train_samples_per_second': 14.531, 'train_steps_per_second': 0.901, 'total_flos': 3.0783890072223744e+16, 'train_loss': 1.4083549335438719, 'epoch': 11.9})"
      ]
     },
     "execution_count": 19,
     "metadata": {},
     "output_type": "execute_result"
    }
   ],
   "source": [
    "trainer.train()"
   ]
  },
  {
   "cell_type": "code",
   "execution_count": 20,
   "id": "3c0af1d0-e11b-4332-a671-acad05169ccb",
   "metadata": {
    "execution": {
     "iopub.execute_input": "2024-06-25T19:28:04.842486Z",
     "iopub.status.busy": "2024-06-25T19:28:04.841681Z",
     "iopub.status.idle": "2024-06-25T19:28:17.506834Z",
     "shell.execute_reply": "2024-06-25T19:28:17.505983Z",
     "shell.execute_reply.started": "2024-06-25T19:28:04.842448Z"
    }
   },
   "outputs": [
    {
     "data": {
      "text/plain": [
       "('低频重复经颅磁刺激疗法；穴位导入手法；康复训练；加药泵给药方案；综合护理干预；神经元激活治疗；补肾活血中药灌肠治疗；益智调神；细胞免疫调控技术；针对性功能锻炼指导；综合护理措施；舒适护理；营养脑细胞；改善微循环；心理护理；神经营养治疗；生物反馈联合功能锻炼指导；心理疏导；健康教育；饮食护理；个性化护理干预；早期综合治疗；以运动障碍为中心的护理策略；康复训练干预；结合康复训练；系统化护理干预；药物合理使用；延续性护理干预；系统性康复训练；语言言语干预治疗；指导患者功能锻炼；提高患者的活动能力；益肾培土法；功能锻炼指导；对症支持治疗；扶正固本；生活技能训练；认知行为治疗；康复干预；整体护理方法；鼓励患者主动参与治疗及护理；针刺百会、悬钟等穴；运动障碍的护理；蒙医护理干预；联合心理护理；功能锻炼；综合性护理；优质护理干预；护理干预；氧疗；心理护理指导；言语功能锻炼；加强肌张力训练指导；中西医结合治疗；低通气模式；介入治疗；综合治疗；改变不良生活习惯；补虚健脑；补虚为君；目的:治疗帕金森叠加综合征;心理指导;早期康复干预;综合护理干预措施；早期干预；高压氧舱吸入；语言功能训练；扩血管；临床护理路径式干预；心理指导与服务；配合康复锻炼指导；心理护理；人性化护理干预；家庭护理干预；环境创设；常规治疗；康复训练联合心理指导',\n",
       " [('帕金森叠加综合征的辅助治疗有些什么?',\n",
       "   '低频重复经颅磁刺激疗法；穴位导入手法；康复训练；加药泵给药方案；综合护理干预；神经元激活治疗；补肾活血中药灌肠治疗；益智调神；细胞免疫调控技术；针对性功能锻炼指导；综合护理措施；舒适护理；营养脑细胞；改善微循环；心理护理；神经营养治疗；生物反馈联合功能锻炼指导；心理疏导；健康教育；饮食护理；个性化护理干预；早期综合治疗；以运动障碍为中心的护理策略；康复训练干预；结合康复训练；系统化护理干预；药物合理使用；延续性护理干预；系统性康复训练；语言言语干预治疗；指导患者功能锻炼；提高患者的活动能力；益肾培土法；功能锻炼指导；对症支持治疗；扶正固本；生活技能训练；认知行为治疗；康复干预；整体护理方法；鼓励患者主动参与治疗及护理；针刺百会、悬钟等穴；运动障碍的护理；蒙医护理干预；联合心理护理；功能锻炼；综合性护理；优质护理干预；护理干预；氧疗；心理护理指导；言语功能锻炼；加强肌张力训练指导；中西医结合治疗；低通气模式；介入治疗；综合治疗；改变不良生活习惯；补虚健脑；补虚为君；目的:治疗帕金森叠加综合征;心理指导;早期康复干预;综合护理干预措施；早期干预；高压氧舱吸入；语言功能训练；扩血管；临床护理路径式干预；心理指导与服务；配合康复锻炼指导；心理护理；人性化护理干预；家庭护理干预；环境创设；常规治疗；康复训练联合心理指导')])"
      ]
     },
     "execution_count": 20,
     "metadata": {},
     "output_type": "execute_result"
    }
   ],
   "source": [
    "# 训练后看看效果（用回训练集测试效果当然好）\n",
    "response, history = model.eval().chat(tokenizer, \"帕金森叠加综合征的辅助治疗有些什么?\", history=None,\n",
    "                                      system=\"你是一个医学助手，需要回答用户关于医学的问题：\")\n",
    "response, history"
   ]
  },
  {
   "cell_type": "code",
   "execution_count": null,
   "id": "359314ed-c0b9-4332-9a9c-c94502da6685",
   "metadata": {},
   "outputs": [],
   "source": []
  },
  {
   "cell_type": "code",
   "execution_count": null,
   "id": "2706dfab-22a5-4ff1-9508-0c84f7651440",
   "metadata": {},
   "outputs": [],
   "source": []
  }
 ],
 "metadata": {
  "kernelspec": {
   "display_name": "test_qwen",
   "language": "python",
   "name": "test_qwen"
  },
  "language_info": {
   "codemirror_mode": {
    "name": "ipython",
    "version": 3
   },
   "file_extension": ".py",
   "mimetype": "text/x-python",
   "name": "python",
   "nbconvert_exporter": "python",
   "pygments_lexer": "ipython3",
   "version": "3.10.14"
  }
 },
 "nbformat": 4,
 "nbformat_minor": 5
}
