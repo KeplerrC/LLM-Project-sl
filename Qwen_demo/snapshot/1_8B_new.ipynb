{
 "cells": [
  {
   "cell_type": "code",
   "execution_count": 1,
   "id": "755c3bcf-f61e-40df-ab13-91ccc5f51f08",
   "metadata": {
    "ExecutionIndicator": {
     "show": true
    },
    "execution": {
     "iopub.execute_input": "2024-06-16T00:36:20.520738Z",
     "iopub.status.busy": "2024-06-16T00:36:20.520386Z",
     "iopub.status.idle": "2024-06-16T00:36:24.139638Z",
     "shell.execute_reply": "2024-06-16T00:36:24.139096Z",
     "shell.execute_reply.started": "2024-06-16T00:36:20.520717Z"
    },
    "tags": []
   },
   "outputs": [
    {
     "name": "stderr",
     "output_type": "stream",
     "text": [
      "/home/pai/envs/qwen/lib/python3.10/site-packages/tqdm/auto.py:21: TqdmWarning: IProgress not found. Please update jupyter and ipywidgets. See https://ipywidgets.readthedocs.io/en/stable/user_install.html\n",
      "  from .autonotebook import tqdm as notebook_tqdm\n"
     ]
    }
   ],
   "source": [
    "import json\n",
    "\n",
    "import datasets\n",
    "from peft import get_peft_model\n",
    "from peft import LoraConfig\n",
    "from transformers import AutoModelForCausalLM\n",
    "from transformers import AutoTokenizer\n",
    "from transformers import DataCollatorForSeq2Seq\n",
    "from transformers import Trainer\n",
    "from transformers import TrainingArguments"
   ]
  },
  {
   "cell_type": "code",
   "execution_count": 2,
   "id": "d0e73adc-78ae-4ee5-bd22-e9ddf9065da9",
   "metadata": {
    "ExecutionIndicator": {
     "show": true
    },
    "execution": {
     "iopub.execute_input": "2024-06-16T00:36:24.140750Z",
     "iopub.status.busy": "2024-06-16T00:36:24.140452Z",
     "iopub.status.idle": "2024-06-16T00:36:24.151285Z",
     "shell.execute_reply": "2024-06-16T00:36:24.150847Z",
     "shell.execute_reply.started": "2024-06-16T00:36:24.140729Z"
    },
    "tags": []
   },
   "outputs": [
    {
     "data": {
      "text/plain": [
       "{'instruction': '血热的临床表现是什么?',\n",
       " 'input': '',\n",
       " 'output': '初发或复发病不久。皮疹发展迅速，呈点滴状、钱币状或混合状。常见丘疹、斑丘疹、大小不等的斑片，潮红、鲜红或深红色。散布于体表各处或几处，以躯干、四肢多见，亦可先从头面开始，逐渐发展至全身。新皮疹不断出现，表面覆有银白色鳞屑，干燥易脱落，剥刮后有点状出血。可有同形反应;伴瘙痒、心烦口渴。大便秘结、小便短黄，舌质红赤，苔薄黄或根部黄厚，脉弦滑或滑数。血热炽盛病机，主要表现在如下四个面：一、热象：血热多属阳盛则热之实性、热性病机和病证、并表现出热象。二、血行加速：血得热则行，可使血流加速，且使脉道扩张，络脉充血，故可见面红目赤，舌色深红（即舌绛）等症。三、动血：在血行加速与脉道扩张的基础上，血分有热，可灼伤脉络，引起出血，称为“热迫血妄行”，或称动血。四、扰乱心神：血热炽盛则扰动心神，心主血脉而藏神，血脉与心相通，故血热则使心神不安，而见心烦，或躁扰发狂等症。'}"
      ]
     },
     "execution_count": 2,
     "metadata": {},
     "output_type": "execute_result"
    }
   ],
   "source": [
    "# 训练集共1949972条，只取前1000条\n",
    "with open(\"medical_zh/train_zh_0.jsonl\", \"r\") as f:\n",
    "    lst = [json.loads(next(f)) for _ in range(1000)]\n",
    "lst[0]"
   ]
  },
  {
   "cell_type": "code",
   "execution_count": 3,
   "id": "e7a3c82c-ad3e-4d6f-b079-dd1d260b3782",
   "metadata": {
    "ExecutionIndicator": {
     "show": true
    },
    "execution": {
     "iopub.execute_input": "2024-06-16T00:36:24.152286Z",
     "iopub.status.busy": "2024-06-16T00:36:24.152054Z",
     "iopub.status.idle": "2024-06-16T00:36:24.163193Z",
     "shell.execute_reply": "2024-06-16T00:36:24.162416Z",
     "shell.execute_reply.started": "2024-06-16T00:36:24.152267Z"
    },
    "tags": []
   },
   "outputs": [],
   "source": [
    "with open(\"train_lora.json\", \"w\") as f:\n",
    "    json.dump(lst, f, ensure_ascii=False)  # 有汉字，加ensure_ascii=False"
   ]
  },
  {
   "cell_type": "code",
   "execution_count": 4,
   "id": "cdf0a89b-bfaf-4347-8273-2a3e8e1765f9",
   "metadata": {
    "ExecutionIndicator": {
     "show": true
    },
    "execution": {
     "iopub.execute_input": "2024-06-16T00:36:24.165763Z",
     "iopub.status.busy": "2024-06-16T00:36:24.165341Z",
     "iopub.status.idle": "2024-06-16T00:36:25.084881Z",
     "shell.execute_reply": "2024-06-16T00:36:25.083778Z",
     "shell.execute_reply.started": "2024-06-16T00:36:24.165737Z"
    },
    "tags": []
   },
   "outputs": [
    {
     "name": "stderr",
     "output_type": "stream",
     "text": [
      "Generating train split: 1000 examples [00:00, 47730.89 examples/s]\n"
     ]
    },
    {
     "data": {
      "text/plain": [
       "{'input': '',\n",
       " 'instruction': '血热的临床表现是什么?',\n",
       " 'output': '初发或复发病不久。皮疹发展迅速，呈点滴状、钱币状或混合状。常见丘疹、斑丘疹、大小不等的斑片，潮红、鲜红或深红色。散布于体表各处或几处，以躯干、四肢多见，亦可先从头面开始，逐渐发展至全身。新皮疹不断出现，表面覆有银白色鳞屑，干燥易脱落，剥刮后有点状出血。可有同形反应;伴瘙痒、心烦口渴。大便秘结、小便短黄，舌质红赤，苔薄黄或根部黄厚，脉弦滑或滑数。血热炽盛病机，主要表现在如下四个面：一、热象：血热多属阳盛则热之实性、热性病机和病证、并表现出热象。二、血行加速：血得热则行，可使血流加速，且使脉道扩张，络脉充血，故可见面红目赤，舌色深红（即舌绛）等症。三、动血：在血行加速与脉道扩张的基础上，血分有热，可灼伤脉络，引起出血，称为“热迫血妄行”，或称动血。四、扰乱心神：血热炽盛则扰动心神，心主血脉而藏神，血脉与心相通，故血热则使心神不安，而见心烦，或躁扰发狂等症。'}"
      ]
     },
     "execution_count": 4,
     "metadata": {},
     "output_type": "execute_result"
    }
   ],
   "source": [
    "# 加载Dataset。原文经过DataFrame中转，比较麻烦\n",
    "ds = datasets.load_dataset(\"json\", data_files=\"train_lora.json\", split=\"train\")  # 不加split会返回DatasetDict\n",
    "ds[0]"
   ]
  },
  {
   "cell_type": "code",
   "execution_count": 5,
   "id": "94ada428-0633-402d-9620-7333c1f6f7e3",
   "metadata": {
    "ExecutionIndicator": {
     "show": true
    },
    "execution": {
     "iopub.execute_input": "2024-06-16T00:36:25.087408Z",
     "iopub.status.busy": "2024-06-16T00:36:25.086506Z",
     "iopub.status.idle": "2024-06-16T00:36:25.568273Z",
     "shell.execute_reply": "2024-06-16T00:36:25.567721Z",
     "shell.execute_reply.started": "2024-06-16T00:36:25.087364Z"
    },
    "tags": []
   },
   "outputs": [
    {
     "data": {
      "text/plain": [
       "QWenTokenizer(name_or_path='Qwen-1_8B-Chat', vocab_size=151851, model_max_length=8192, is_fast=False, padding_side='right', truncation_side='right', special_tokens={'pad_token': '<|endoftext|>'}, clean_up_tokenization_spaces=True),  added_tokens_decoder={\n",
       "\t\n",
       "}"
      ]
     },
     "execution_count": 5,
     "metadata": {},
     "output_type": "execute_result"
    }
   ],
   "source": [
    "CKPT_PATH = \"Qwen-1_8B-Chat\"\n",
    "tokenizer = AutoTokenizer.from_pretrained(CKPT_PATH, trust_remote_code=True)\n",
    "tokenizer.pad_token_id = tokenizer.eod_id\n",
    "tokenizer"
   ]
  },
  {
   "cell_type": "code",
   "execution_count": 6,
   "id": "c35b2086-5ba4-463b-b689-befd11224cb3",
   "metadata": {
    "execution": {
     "iopub.execute_input": "2024-06-16T00:36:25.569408Z",
     "iopub.status.busy": "2024-06-16T00:36:25.569028Z",
     "iopub.status.idle": "2024-06-16T00:36:25.573745Z",
     "shell.execute_reply": "2024-06-16T00:36:25.573223Z",
     "shell.execute_reply.started": "2024-06-16T00:36:25.569387Z"
    },
    "tags": []
   },
   "outputs": [],
   "source": [
    "def process_func(example):\n",
    "    MAX_LENGTH = 384\n",
    "\n",
    "    instruction = tokenizer(\n",
    "        \"<|im_start|>system\\n\" +\n",
    "        \"你是一个医学助手，需要回答用户关于医学的问题：<|im_end|>\\n\" +\n",
    "        \"<|im_start|>user\\n\" +\n",
    "        example[\"instruction\"] + example[\"input\"] + \"<|im_end|>\\n\"\n",
    "    )\n",
    "    response = tokenizer(\n",
    "        \"<|im_start|>assistant\\n\" +\n",
    "        example[\"output\"] + \"<|im_end|>\\n\"\n",
    "    )\n",
    "    \n",
    "    input_ids = instruction[\"input_ids\"] + response[\"input_ids\"] + [tokenizer.eod_id]\n",
    "    attention_mask = instruction[\"attention_mask\"] + response[\"attention_mask\"] + [1]\n",
    "    labels = [-100] * len(instruction[\"input_ids\"]) + response[\"input_ids\"] + [tokenizer.eod_id]\n",
    "\n",
    "    # 截断\n",
    "    if len(input_ids) > MAX_LENGTH:\n",
    "        input_ids = input_ids[:MAX_LENGTH]\n",
    "        attention_mask = attention_mask[:MAX_LENGTH]\n",
    "        labels = labels[:MAX_LENGTH]\n",
    "    return {\n",
    "        \"input_ids\": input_ids,\n",
    "        \"attention_mask\": attention_mask,\n",
    "        \"labels\": labels\n",
    "    }"
   ]
  },
  {
   "cell_type": "code",
   "execution_count": 7,
   "id": "f053b8fa-a115-45c4-8a19-b1eac07cdc11",
   "metadata": {
    "execution": {
     "iopub.execute_input": "2024-06-16T00:36:25.574605Z",
     "iopub.status.busy": "2024-06-16T00:36:25.574409Z",
     "iopub.status.idle": "2024-06-16T00:36:27.828186Z",
     "shell.execute_reply": "2024-06-16T00:36:27.827643Z",
     "shell.execute_reply.started": "2024-06-16T00:36:25.574584Z"
    },
    "tags": []
   },
   "outputs": [
    {
     "name": "stderr",
     "output_type": "stream",
     "text": [
      "Map: 100%|██████████| 1000/1000 [00:00<00:00, 2042.84 examples/s]\n"
     ]
    },
    {
     "data": {
      "text/plain": [
       "Dataset({\n",
       "    features: ['input_ids', 'attention_mask', 'labels'],\n",
       "    num_rows: 1000\n",
       "})"
      ]
     },
     "execution_count": 7,
     "metadata": {},
     "output_type": "execute_result"
    }
   ],
   "source": [
    "# 类似DataFrame的用法，并行处理数据\n",
    "train_dataset = ds.map(process_func, remove_columns=ds.column_names)  # 去掉原始的列\n",
    "train_dataset"
   ]
  },
  {
   "cell_type": "code",
   "execution_count": 8,
   "id": "d80ce787-d092-4747-bbd9-66bf6fedb1a0",
   "metadata": {
    "execution": {
     "iopub.execute_input": "2024-06-16T00:36:27.829330Z",
     "iopub.status.busy": "2024-06-16T00:36:27.829124Z",
     "iopub.status.idle": "2024-06-16T00:36:27.833517Z",
     "shell.execute_reply": "2024-06-16T00:36:27.833039Z",
     "shell.execute_reply.started": "2024-06-16T00:36:27.829310Z"
    },
    "tags": []
   },
   "outputs": [
    {
     "data": {
      "text/plain": [
       "'<|im_start|>system\\n你是一个医学助手，需要回答用户关于医学的问题：<|im_end|>\\n<|im_start|>user\\n帕金森叠加综合征的辅助治疗有些什么？<|im_end|>\\n<|im_start|>assistant\\n综合治疗；康复训练；生活护理指导；低频重复经颅磁刺激治疗<|im_end|>\\n<|endoftext|>'"
      ]
     },
     "execution_count": 8,
     "metadata": {},
     "output_type": "execute_result"
    }
   ],
   "source": [
    "tokenizer.decode(train_dataset[1]['input_ids'])"
   ]
  },
  {
   "cell_type": "code",
   "execution_count": 9,
   "id": "f24af3f8-ce97-4bad-9542-e60c9f5691ef",
   "metadata": {
    "execution": {
     "iopub.execute_input": "2024-06-16T00:36:27.834421Z",
     "iopub.status.busy": "2024-06-16T00:36:27.834149Z",
     "iopub.status.idle": "2024-06-16T00:36:27.838586Z",
     "shell.execute_reply": "2024-06-16T00:36:27.838098Z",
     "shell.execute_reply.started": "2024-06-16T00:36:27.834403Z"
    },
    "tags": []
   },
   "outputs": [
    {
     "data": {
      "text/plain": [
       "'<|im_start|>assistant\\n综合治疗；康复训练；生活护理指导；低频重复经颅磁刺激治疗<|im_end|>\\n<|endoftext|>'"
      ]
     },
     "execution_count": 9,
     "metadata": {},
     "output_type": "execute_result"
    }
   ],
   "source": [
    "tokenizer.decode(list(filter(lambda x: x != -100, train_dataset[1][\"labels\"])))"
   ]
  },
  {
   "cell_type": "code",
   "execution_count": 10,
   "id": "d34a4079-5348-4a11-ae16-2fe716605aa2",
   "metadata": {
    "execution": {
     "iopub.execute_input": "2024-06-16T00:36:27.839541Z",
     "iopub.status.busy": "2024-06-16T00:36:27.839211Z",
     "iopub.status.idle": "2024-06-16T00:36:32.136873Z",
     "shell.execute_reply": "2024-06-16T00:36:32.136379Z",
     "shell.execute_reply.started": "2024-06-16T00:36:27.839522Z"
    },
    "scrolled": true,
    "tags": []
   },
   "outputs": [
    {
     "name": "stderr",
     "output_type": "stream",
     "text": [
      "The model is automatically converting to bf16 for faster inference. If you want to disable the automatic precision, please manually add bf16/fp16/fp32=True to \"AutoModelForCausalLM.from_pretrained\".\n",
      "Try importing flash-attention for faster inference...\n",
      "Warning: import flash_attn rotary fail, please install FlashAttention rotary to get higher efficiency https://github.com/Dao-AILab/flash-attention/tree/main/csrc/rotary\n",
      "Warning: import flash_attn rms_norm fail, please install FlashAttention layer_norm to get higher efficiency https://github.com/Dao-AILab/flash-attention/tree/main/csrc/layer_norm\n",
      "Warning: import flash_attn fail, please install FlashAttention to get higher efficiency https://github.com/Dao-AILab/flash-attention\n",
      "Loading checkpoint shards: 100%|██████████| 2/2 [00:03<00:00,  1.82s/it]\n"
     ]
    },
    {
     "data": {
      "text/plain": [
       "QWenLMHeadModel(\n",
       "  (transformer): QWenModel(\n",
       "    (wte): Embedding(151936, 2048)\n",
       "    (drop): Dropout(p=0.0, inplace=False)\n",
       "    (rotary_emb): RotaryEmbedding()\n",
       "    (h): ModuleList(\n",
       "      (0-23): 24 x QWenBlock(\n",
       "        (ln_1): RMSNorm()\n",
       "        (attn): QWenAttention(\n",
       "          (c_attn): Linear8bitLt(in_features=2048, out_features=6144, bias=True)\n",
       "          (c_proj): Linear8bitLt(in_features=2048, out_features=2048, bias=False)\n",
       "          (attn_dropout): Dropout(p=0.0, inplace=False)\n",
       "        )\n",
       "        (ln_2): RMSNorm()\n",
       "        (mlp): QWenMLP(\n",
       "          (w1): Linear8bitLt(in_features=2048, out_features=5504, bias=False)\n",
       "          (w2): Linear8bitLt(in_features=2048, out_features=5504, bias=False)\n",
       "          (c_proj): Linear8bitLt(in_features=5504, out_features=2048, bias=False)\n",
       "        )\n",
       "      )\n",
       "    )\n",
       "    (ln_f): RMSNorm()\n",
       "  )\n",
       "  (lm_head): Linear(in_features=2048, out_features=151936, bias=False)\n",
       ")"
      ]
     },
     "execution_count": 10,
     "metadata": {},
     "output_type": "execute_result"
    }
   ],
   "source": [
    "model = AutoModelForCausalLM.from_pretrained(CKPT_PATH, trust_remote_code=True, load_in_8bit=True)\n",
    "model"
   ]
  },
  {
   "cell_type": "code",
   "execution_count": 11,
   "id": "42aea761-09ba-4f42-9126-812f2dfe3ae5",
   "metadata": {
    "execution": {
     "iopub.execute_input": "2024-06-16T00:36:32.137878Z",
     "iopub.status.busy": "2024-06-16T00:36:32.137610Z",
     "iopub.status.idle": "2024-06-16T00:36:32.141329Z",
     "shell.execute_reply": "2024-06-16T00:36:32.140823Z",
     "shell.execute_reply.started": "2024-06-16T00:36:32.137858Z"
    },
    "tags": []
   },
   "outputs": [
    {
     "data": {
      "text/plain": [
       "torch.float16"
      ]
     },
     "execution_count": 11,
     "metadata": {},
     "output_type": "execute_result"
    }
   ],
   "source": [
    "model.dtype"
   ]
  },
  {
   "cell_type": "code",
   "execution_count": 12,
   "id": "cc8bf88a-32f4-498d-a2ac-9c7518d651c5",
   "metadata": {
    "ExecutionIndicator": {
     "show": true
    },
    "execution": {
     "iopub.execute_input": "2024-06-16T00:36:32.142426Z",
     "iopub.status.busy": "2024-06-16T00:36:32.142090Z",
     "iopub.status.idle": "2024-06-16T00:36:32.144655Z",
     "shell.execute_reply": "2024-06-16T00:36:32.144187Z",
     "shell.execute_reply.started": "2024-06-16T00:36:32.142407Z"
    },
    "tags": []
   },
   "outputs": [],
   "source": [
    "# 使用gradient_checkpointing+peft需要加这句补丁\n",
    "model.enable_input_require_grads()"
   ]
  },
  {
   "cell_type": "code",
   "execution_count": 13,
   "id": "8c3349f2-35d4-4c9c-ae9d-cea91a3aac11",
   "metadata": {
    "ExecutionIndicator": {
     "show": true
    },
    "execution": {
     "iopub.execute_input": "2024-06-16T00:36:32.147353Z",
     "iopub.status.busy": "2024-06-16T00:36:32.147001Z",
     "iopub.status.idle": "2024-06-16T00:36:32.151250Z",
     "shell.execute_reply": "2024-06-16T00:36:32.150735Z",
     "shell.execute_reply.started": "2024-06-16T00:36:32.147333Z"
    },
    "tags": []
   },
   "outputs": [
    {
     "data": {
      "text/plain": [
       "LoraConfig(peft_type=<PeftType.LORA: 'LORA'>, auto_mapping=None, base_model_name_or_path=None, revision=None, task_type=None, inference_mode=False, r=8, target_modules={'c_proj', 'c_attn', 'w2', 'w1'}, lora_alpha=32, lora_dropout=0.1, fan_in_fan_out=False, bias='none', use_rslora=False, modules_to_save=None, init_lora_weights=True, layers_to_transform=None, layers_pattern=None, rank_pattern={}, alpha_pattern={}, megatron_config=None, megatron_core='megatron.core', loftq_config={}, use_dora=False, layer_replication=None)"
      ]
     },
     "execution_count": 13,
     "metadata": {},
     "output_type": "execute_result"
    }
   ],
   "source": [
    "config = LoraConfig(\n",
    "    # task_type=TaskType.CAUSAL_LM, # 可以不写\n",
    "    target_modules=[\"c_attn\", \"c_proj\", \"w1\", \"w2\"],  # 必须指定，Qwen官方的微调脚本也是写这几个\n",
    "    # 原文说这三个参数比较通用，先留着\n",
    "    r=8,\n",
    "    lora_alpha=32,\n",
    "    lora_dropout=0.1\n",
    ")\n",
    "config"
   ]
  },
  {
   "cell_type": "code",
   "execution_count": 14,
   "id": "48caca04-3836-4df0-9632-f8917c56b0f0",
   "metadata": {
    "execution": {
     "iopub.execute_input": "2024-06-16T00:36:32.152287Z",
     "iopub.status.busy": "2024-06-16T00:36:32.151949Z",
     "iopub.status.idle": "2024-06-16T00:36:32.345240Z",
     "shell.execute_reply": "2024-06-16T00:36:32.344683Z",
     "shell.execute_reply.started": "2024-06-16T00:36:32.152268Z"
    },
    "scrolled": true,
    "tags": []
   },
   "outputs": [
    {
     "data": {
      "text/plain": [
       "PeftModel(\n",
       "  (base_model): LoraModel(\n",
       "    (model): QWenLMHeadModel(\n",
       "      (transformer): QWenModel(\n",
       "        (wte): Embedding(151936, 2048)\n",
       "        (drop): Dropout(p=0.0, inplace=False)\n",
       "        (rotary_emb): RotaryEmbedding()\n",
       "        (h): ModuleList(\n",
       "          (0-23): 24 x QWenBlock(\n",
       "            (ln_1): RMSNorm()\n",
       "            (attn): QWenAttention(\n",
       "              (c_attn): lora.Linear8bitLt(\n",
       "                (base_layer): Linear8bitLt(in_features=2048, out_features=6144, bias=True)\n",
       "                (lora_dropout): ModuleDict(\n",
       "                  (default): Dropout(p=0.1, inplace=False)\n",
       "                )\n",
       "                (lora_A): ModuleDict(\n",
       "                  (default): Linear(in_features=2048, out_features=8, bias=False)\n",
       "                )\n",
       "                (lora_B): ModuleDict(\n",
       "                  (default): Linear(in_features=8, out_features=6144, bias=False)\n",
       "                )\n",
       "                (lora_embedding_A): ParameterDict()\n",
       "                (lora_embedding_B): ParameterDict()\n",
       "              )\n",
       "              (c_proj): lora.Linear8bitLt(\n",
       "                (base_layer): Linear8bitLt(in_features=2048, out_features=2048, bias=False)\n",
       "                (lora_dropout): ModuleDict(\n",
       "                  (default): Dropout(p=0.1, inplace=False)\n",
       "                )\n",
       "                (lora_A): ModuleDict(\n",
       "                  (default): Linear(in_features=2048, out_features=8, bias=False)\n",
       "                )\n",
       "                (lora_B): ModuleDict(\n",
       "                  (default): Linear(in_features=8, out_features=2048, bias=False)\n",
       "                )\n",
       "                (lora_embedding_A): ParameterDict()\n",
       "                (lora_embedding_B): ParameterDict()\n",
       "              )\n",
       "              (attn_dropout): Dropout(p=0.0, inplace=False)\n",
       "            )\n",
       "            (ln_2): RMSNorm()\n",
       "            (mlp): QWenMLP(\n",
       "              (w1): lora.Linear8bitLt(\n",
       "                (base_layer): Linear8bitLt(in_features=2048, out_features=5504, bias=False)\n",
       "                (lora_dropout): ModuleDict(\n",
       "                  (default): Dropout(p=0.1, inplace=False)\n",
       "                )\n",
       "                (lora_A): ModuleDict(\n",
       "                  (default): Linear(in_features=2048, out_features=8, bias=False)\n",
       "                )\n",
       "                (lora_B): ModuleDict(\n",
       "                  (default): Linear(in_features=8, out_features=5504, bias=False)\n",
       "                )\n",
       "                (lora_embedding_A): ParameterDict()\n",
       "                (lora_embedding_B): ParameterDict()\n",
       "              )\n",
       "              (w2): lora.Linear8bitLt(\n",
       "                (base_layer): Linear8bitLt(in_features=2048, out_features=5504, bias=False)\n",
       "                (lora_dropout): ModuleDict(\n",
       "                  (default): Dropout(p=0.1, inplace=False)\n",
       "                )\n",
       "                (lora_A): ModuleDict(\n",
       "                  (default): Linear(in_features=2048, out_features=8, bias=False)\n",
       "                )\n",
       "                (lora_B): ModuleDict(\n",
       "                  (default): Linear(in_features=8, out_features=5504, bias=False)\n",
       "                )\n",
       "                (lora_embedding_A): ParameterDict()\n",
       "                (lora_embedding_B): ParameterDict()\n",
       "              )\n",
       "              (c_proj): lora.Linear8bitLt(\n",
       "                (base_layer): Linear8bitLt(in_features=5504, out_features=2048, bias=False)\n",
       "                (lora_dropout): ModuleDict(\n",
       "                  (default): Dropout(p=0.1, inplace=False)\n",
       "                )\n",
       "                (lora_A): ModuleDict(\n",
       "                  (default): Linear(in_features=5504, out_features=8, bias=False)\n",
       "                )\n",
       "                (lora_B): ModuleDict(\n",
       "                  (default): Linear(in_features=8, out_features=2048, bias=False)\n",
       "                )\n",
       "                (lora_embedding_A): ParameterDict()\n",
       "                (lora_embedding_B): ParameterDict()\n",
       "              )\n",
       "            )\n",
       "          )\n",
       "        )\n",
       "        (ln_f): RMSNorm()\n",
       "      )\n",
       "      (lm_head): Linear(in_features=2048, out_features=151936, bias=False)\n",
       "    )\n",
       "  )\n",
       ")"
      ]
     },
     "execution_count": 14,
     "metadata": {},
     "output_type": "execute_result"
    }
   ],
   "source": [
    "model = get_peft_model(model, config)\n",
    "model"
   ]
  },
  {
   "cell_type": "code",
   "execution_count": 15,
   "id": "3d7aaa78-ddd7-4f3f-bfa8-cabb5ef7b64c",
   "metadata": {
    "execution": {
     "iopub.execute_input": "2024-06-16T00:36:32.346261Z",
     "iopub.status.busy": "2024-06-16T00:36:32.345981Z",
     "iopub.status.idle": "2024-06-16T00:36:32.352127Z",
     "shell.execute_reply": "2024-06-16T00:36:32.351550Z",
     "shell.execute_reply.started": "2024-06-16T00:36:32.346241Z"
    },
    "tags": []
   },
   "outputs": [
    {
     "name": "stdout",
     "output_type": "stream",
     "text": [
      "trainable params: 6,709,248 || all params: 1,843,537,920 || trainable%: 0.3639\n"
     ]
    }
   ],
   "source": [
    "model.print_trainable_parameters()"
   ]
  },
  {
   "cell_type": "code",
   "execution_count": 16,
   "id": "d2a2bbbc-3bc0-4d6b-8c1d-7fcb895e2da2",
   "metadata": {
    "execution": {
     "iopub.execute_input": "2024-06-16T00:36:32.353233Z",
     "iopub.status.busy": "2024-06-16T00:36:32.352945Z",
     "iopub.status.idle": "2024-06-16T00:36:32.371052Z",
     "shell.execute_reply": "2024-06-16T00:36:32.370177Z",
     "shell.execute_reply.started": "2024-06-16T00:36:32.353208Z"
    },
    "tags": []
   },
   "outputs": [],
   "source": [
    "# 定义训练配置\n",
    "args = TrainingArguments(\n",
    "    output_dir=f\"./output/{CKPT_PATH}_new\",\n",
    "    per_device_train_batch_size=4,\n",
    "    gradient_accumulation_steps=4,  # 累计16个样本才迭代一次，1个epoch有1000/16=62步\n",
    "    logging_steps=10,\n",
    "    num_train_epochs=12,\n",
    "    gradient_checkpointing=True,  # 开启激活重计算，时间换空间\n",
    "    save_steps=186,  # 也就是正好3个epoch保存一次\n",
    "    learning_rate=1e-4\n",
    ")"
   ]
  },
  {
   "cell_type": "code",
   "execution_count": 17,
   "id": "982ae2ef-7b05-4809-97c2-be2a43a2d49d",
   "metadata": {
    "execution": {
     "iopub.execute_input": "2024-06-16T00:36:32.372656Z",
     "iopub.status.busy": "2024-06-16T00:36:32.372238Z",
     "iopub.status.idle": "2024-06-16T00:36:32.388144Z",
     "shell.execute_reply": "2024-06-16T00:36:32.387237Z",
     "shell.execute_reply.started": "2024-06-16T00:36:32.372627Z"
    },
    "tags": []
   },
   "outputs": [
    {
     "name": "stderr",
     "output_type": "stream",
     "text": [
      "/home/pai/envs/qwen/lib/python3.10/site-packages/accelerate/accelerator.py:444: FutureWarning: Passing the following arguments to `Accelerator` is deprecated and will be removed in version 1.0 of Accelerate: dict_keys(['dispatch_batches', 'split_batches']). Please pass an `accelerate.DataLoaderConfiguration` instead: \n",
      "dataloader_config = DataLoaderConfiguration(dispatch_batches=None, split_batches=False)\n",
      "  warnings.warn(\n",
      "Detected kernel version 4.19.24, which is below the recommended minimum of 5.5.0; this can cause the process to hang. It is recommended to upgrade the kernel to the minimum version or higher.\n"
     ]
    }
   ],
   "source": [
    "# 定义trainer\n",
    "trainer = Trainer(\n",
    "    model=model,\n",
    "    args=args,\n",
    "    train_dataset=train_dataset,\n",
    "    # 用pad填充batch的三个字段\n",
    "    data_collator=DataCollatorForSeq2Seq(tokenizer=tokenizer)  # 原文设置padding=True，是默认值，省略掉\n",
    ")"
   ]
  },
  {
   "cell_type": "code",
   "execution_count": 18,
   "id": "e26a0096-31f8-4f1c-96ab-f4e7f658542d",
   "metadata": {
    "ExecutionIndicator": {
     "show": true
    },
    "execution": {
     "iopub.execute_input": "2024-06-16T00:36:32.389778Z",
     "iopub.status.busy": "2024-06-16T00:36:32.389368Z",
     "iopub.status.idle": "2024-06-16T00:36:58.310429Z",
     "shell.execute_reply": "2024-06-16T00:36:58.309593Z",
     "shell.execute_reply.started": "2024-06-16T00:36:32.389750Z"
    },
    "tags": []
   },
   "outputs": [
    {
     "data": {
      "text/plain": [
       "('帕金森叠加综合征是一种常见的神经系统退行性疾病，辅助治疗可以对改善症状、延缓病情进展起到积极作用。以下是一些常用的辅助治疗方法：\\n\\n1. 药物治疗：常用的药物包括抗帕金森病药、β阻滞剂、镇静催眠药等，可以帮助控制症状和改善生活质量。\\n\\n2. 物理疗法：物理疗法有助于增强肌肉力量、提高协调性，同时还可以缓解关节僵硬和疼痛。\\n\\n3. 心理辅导：心理辅导有助于提高患者的生活质量，帮助他们应对生活中的困难和挑战。\\n\\n4. 定期检查：定期进行身体检查，监测病情变化，并根据医生建议调整治疗方案。\\n\\n5. 社区支持：与家人和朋友保持紧密联系，参与社区活动，建立良好的社会支持系统。\\n\\n需要注意的是，帕金森叠加综合征是一种慢性疾病，无法完全治愈，但通过综合治疗可以有效减轻症状并延缓病情进展。此外，患者应保持积极的心态，遵守医生的治疗计划，并定期复查，以确保病情得到有效的管理。',\n",
       " [('帕金森叠加综合征的辅助治疗有些什么?',\n",
       "   '帕金森叠加综合征是一种常见的神经系统退行性疾病，辅助治疗可以对改善症状、延缓病情进展起到积极作用。以下是一些常用的辅助治疗方法：\\n\\n1. 药物治疗：常用的药物包括抗帕金森病药、β阻滞剂、镇静催眠药等，可以帮助控制症状和改善生活质量。\\n\\n2. 物理疗法：物理疗法有助于增强肌肉力量、提高协调性，同时还可以缓解关节僵硬和疼痛。\\n\\n3. 心理辅导：心理辅导有助于提高患者的生活质量，帮助他们应对生活中的困难和挑战。\\n\\n4. 定期检查：定期进行身体检查，监测病情变化，并根据医生建议调整治疗方案。\\n\\n5. 社区支持：与家人和朋友保持紧密联系，参与社区活动，建立良好的社会支持系统。\\n\\n需要注意的是，帕金森叠加综合征是一种慢性疾病，无法完全治愈，但通过综合治疗可以有效减轻症状并延缓病情进展。此外，患者应保持积极的心态，遵守医生的治疗计划，并定期复查，以确保病情得到有效的管理。')])"
      ]
     },
     "execution_count": 18,
     "metadata": {},
     "output_type": "execute_result"
    }
   ],
   "source": [
    "# 训练前看看效果\n",
    "response, history = model.eval().chat(tokenizer, \"帕金森叠加综合征的辅助治疗有些什么?\", history=None,\n",
    "                                      system=\"你是一个医学助手，需要回答用户关于医学的问题：\")\n",
    "response, history"
   ]
  },
  {
   "cell_type": "code",
   "execution_count": 19,
   "id": "11bf40ff-3ec0-40fc-9bd0-7fed9a08e030",
   "metadata": {
    "execution": {
     "iopub.execute_input": "2024-06-16T00:36:58.311710Z",
     "iopub.status.busy": "2024-06-16T00:36:58.311439Z",
     "iopub.status.idle": "2024-06-16T01:09:57.021891Z",
     "shell.execute_reply": "2024-06-16T01:09:57.021400Z",
     "shell.execute_reply.started": "2024-06-16T00:36:58.311687Z"
    },
    "tags": []
   },
   "outputs": [
    {
     "name": "stderr",
     "output_type": "stream",
     "text": [
      "You are using an old version of the checkpointing format that is deprecated (We will also silently ignore `gradient_checkpointing_kwargs` in case you passed it).Please update to the new format on your modeling file. To use the new format, you need to completely remove the definition of the method `_set_gradient_checkpointing` in your model.\n",
      "`use_cache=True` is incompatible with gradient checkpointing. Setting `use_cache=False`...\n",
      "/home/pai/envs/qwen/lib/python3.10/site-packages/torch/utils/checkpoint.py:464: UserWarning: torch.utils.checkpoint: the use_reentrant parameter should be passed explicitly. In version 2.4 we will raise an exception if use_reentrant is not passed. use_reentrant=False is recommended, but if you need to preserve the current default behavior, you can pass use_reentrant=True. Refer to docs for more details on the differences between the two variants.\n",
      "  warnings.warn(\n"
     ]
    },
    {
     "data": {
      "text/html": [
       "\n",
       "    <div>\n",
       "      \n",
       "      <progress value='744' max='744' style='width:300px; height:20px; vertical-align: middle;'></progress>\n",
       "      [744/744 32:56, Epoch 11/12]\n",
       "    </div>\n",
       "    <table border=\"1\" class=\"dataframe\">\n",
       "  <thead>\n",
       " <tr style=\"text-align: left;\">\n",
       "      <th>Step</th>\n",
       "      <th>Training Loss</th>\n",
       "    </tr>\n",
       "  </thead>\n",
       "  <tbody>\n",
       "    <tr>\n",
       "      <td>10</td>\n",
       "      <td>2.503100</td>\n",
       "    </tr>\n",
       "    <tr>\n",
       "      <td>20</td>\n",
       "      <td>2.070300</td>\n",
       "    </tr>\n",
       "    <tr>\n",
       "      <td>30</td>\n",
       "      <td>2.156700</td>\n",
       "    </tr>\n",
       "    <tr>\n",
       "      <td>40</td>\n",
       "      <td>2.006600</td>\n",
       "    </tr>\n",
       "    <tr>\n",
       "      <td>50</td>\n",
       "      <td>2.044700</td>\n",
       "    </tr>\n",
       "    <tr>\n",
       "      <td>60</td>\n",
       "      <td>2.034400</td>\n",
       "    </tr>\n",
       "    <tr>\n",
       "      <td>70</td>\n",
       "      <td>1.913500</td>\n",
       "    </tr>\n",
       "    <tr>\n",
       "      <td>80</td>\n",
       "      <td>1.924300</td>\n",
       "    </tr>\n",
       "    <tr>\n",
       "      <td>90</td>\n",
       "      <td>1.890900</td>\n",
       "    </tr>\n",
       "    <tr>\n",
       "      <td>100</td>\n",
       "      <td>1.918400</td>\n",
       "    </tr>\n",
       "    <tr>\n",
       "      <td>110</td>\n",
       "      <td>1.931700</td>\n",
       "    </tr>\n",
       "    <tr>\n",
       "      <td>120</td>\n",
       "      <td>1.900700</td>\n",
       "    </tr>\n",
       "    <tr>\n",
       "      <td>130</td>\n",
       "      <td>1.945800</td>\n",
       "    </tr>\n",
       "    <tr>\n",
       "      <td>140</td>\n",
       "      <td>1.749400</td>\n",
       "    </tr>\n",
       "    <tr>\n",
       "      <td>150</td>\n",
       "      <td>1.867300</td>\n",
       "    </tr>\n",
       "    <tr>\n",
       "      <td>160</td>\n",
       "      <td>1.848500</td>\n",
       "    </tr>\n",
       "    <tr>\n",
       "      <td>170</td>\n",
       "      <td>1.818900</td>\n",
       "    </tr>\n",
       "    <tr>\n",
       "      <td>180</td>\n",
       "      <td>1.532400</td>\n",
       "    </tr>\n",
       "    <tr>\n",
       "      <td>190</td>\n",
       "      <td>1.776700</td>\n",
       "    </tr>\n",
       "    <tr>\n",
       "      <td>200</td>\n",
       "      <td>1.535500</td>\n",
       "    </tr>\n",
       "    <tr>\n",
       "      <td>210</td>\n",
       "      <td>1.609300</td>\n",
       "    </tr>\n",
       "    <tr>\n",
       "      <td>220</td>\n",
       "      <td>1.593600</td>\n",
       "    </tr>\n",
       "    <tr>\n",
       "      <td>230</td>\n",
       "      <td>1.727100</td>\n",
       "    </tr>\n",
       "    <tr>\n",
       "      <td>240</td>\n",
       "      <td>1.692000</td>\n",
       "    </tr>\n",
       "    <tr>\n",
       "      <td>250</td>\n",
       "      <td>1.699700</td>\n",
       "    </tr>\n",
       "    <tr>\n",
       "      <td>260</td>\n",
       "      <td>1.580300</td>\n",
       "    </tr>\n",
       "    <tr>\n",
       "      <td>270</td>\n",
       "      <td>1.570100</td>\n",
       "    </tr>\n",
       "    <tr>\n",
       "      <td>280</td>\n",
       "      <td>1.360600</td>\n",
       "    </tr>\n",
       "    <tr>\n",
       "      <td>290</td>\n",
       "      <td>1.506700</td>\n",
       "    </tr>\n",
       "    <tr>\n",
       "      <td>300</td>\n",
       "      <td>1.547800</td>\n",
       "    </tr>\n",
       "    <tr>\n",
       "      <td>310</td>\n",
       "      <td>1.556800</td>\n",
       "    </tr>\n",
       "    <tr>\n",
       "      <td>320</td>\n",
       "      <td>1.436700</td>\n",
       "    </tr>\n",
       "    <tr>\n",
       "      <td>330</td>\n",
       "      <td>1.360100</td>\n",
       "    </tr>\n",
       "    <tr>\n",
       "      <td>340</td>\n",
       "      <td>1.328600</td>\n",
       "    </tr>\n",
       "    <tr>\n",
       "      <td>350</td>\n",
       "      <td>1.331100</td>\n",
       "    </tr>\n",
       "    <tr>\n",
       "      <td>360</td>\n",
       "      <td>1.366200</td>\n",
       "    </tr>\n",
       "    <tr>\n",
       "      <td>370</td>\n",
       "      <td>1.354900</td>\n",
       "    </tr>\n",
       "    <tr>\n",
       "      <td>380</td>\n",
       "      <td>1.247200</td>\n",
       "    </tr>\n",
       "    <tr>\n",
       "      <td>390</td>\n",
       "      <td>1.289300</td>\n",
       "    </tr>\n",
       "    <tr>\n",
       "      <td>400</td>\n",
       "      <td>1.238600</td>\n",
       "    </tr>\n",
       "    <tr>\n",
       "      <td>410</td>\n",
       "      <td>1.126600</td>\n",
       "    </tr>\n",
       "    <tr>\n",
       "      <td>420</td>\n",
       "      <td>1.246500</td>\n",
       "    </tr>\n",
       "    <tr>\n",
       "      <td>430</td>\n",
       "      <td>1.124400</td>\n",
       "    </tr>\n",
       "    <tr>\n",
       "      <td>440</td>\n",
       "      <td>1.131200</td>\n",
       "    </tr>\n",
       "    <tr>\n",
       "      <td>450</td>\n",
       "      <td>1.091000</td>\n",
       "    </tr>\n",
       "    <tr>\n",
       "      <td>460</td>\n",
       "      <td>1.012000</td>\n",
       "    </tr>\n",
       "    <tr>\n",
       "      <td>470</td>\n",
       "      <td>1.094100</td>\n",
       "    </tr>\n",
       "    <tr>\n",
       "      <td>480</td>\n",
       "      <td>1.039100</td>\n",
       "    </tr>\n",
       "    <tr>\n",
       "      <td>490</td>\n",
       "      <td>1.114500</td>\n",
       "    </tr>\n",
       "    <tr>\n",
       "      <td>500</td>\n",
       "      <td>1.093700</td>\n",
       "    </tr>\n",
       "    <tr>\n",
       "      <td>510</td>\n",
       "      <td>1.086500</td>\n",
       "    </tr>\n",
       "    <tr>\n",
       "      <td>520</td>\n",
       "      <td>1.073400</td>\n",
       "    </tr>\n",
       "    <tr>\n",
       "      <td>530</td>\n",
       "      <td>0.933800</td>\n",
       "    </tr>\n",
       "    <tr>\n",
       "      <td>540</td>\n",
       "      <td>0.939500</td>\n",
       "    </tr>\n",
       "    <tr>\n",
       "      <td>550</td>\n",
       "      <td>1.039600</td>\n",
       "    </tr>\n",
       "    <tr>\n",
       "      <td>560</td>\n",
       "      <td>0.978200</td>\n",
       "    </tr>\n",
       "    <tr>\n",
       "      <td>570</td>\n",
       "      <td>0.871900</td>\n",
       "    </tr>\n",
       "    <tr>\n",
       "      <td>580</td>\n",
       "      <td>0.920000</td>\n",
       "    </tr>\n",
       "    <tr>\n",
       "      <td>590</td>\n",
       "      <td>0.867000</td>\n",
       "    </tr>\n",
       "    <tr>\n",
       "      <td>600</td>\n",
       "      <td>1.022200</td>\n",
       "    </tr>\n",
       "    <tr>\n",
       "      <td>610</td>\n",
       "      <td>0.885700</td>\n",
       "    </tr>\n",
       "    <tr>\n",
       "      <td>620</td>\n",
       "      <td>0.850000</td>\n",
       "    </tr>\n",
       "    <tr>\n",
       "      <td>630</td>\n",
       "      <td>0.878800</td>\n",
       "    </tr>\n",
       "    <tr>\n",
       "      <td>640</td>\n",
       "      <td>0.856700</td>\n",
       "    </tr>\n",
       "    <tr>\n",
       "      <td>650</td>\n",
       "      <td>0.866800</td>\n",
       "    </tr>\n",
       "    <tr>\n",
       "      <td>660</td>\n",
       "      <td>0.864200</td>\n",
       "    </tr>\n",
       "    <tr>\n",
       "      <td>670</td>\n",
       "      <td>0.946600</td>\n",
       "    </tr>\n",
       "    <tr>\n",
       "      <td>680</td>\n",
       "      <td>0.683300</td>\n",
       "    </tr>\n",
       "    <tr>\n",
       "      <td>690</td>\n",
       "      <td>0.747600</td>\n",
       "    </tr>\n",
       "    <tr>\n",
       "      <td>700</td>\n",
       "      <td>0.676700</td>\n",
       "    </tr>\n",
       "    <tr>\n",
       "      <td>710</td>\n",
       "      <td>0.849300</td>\n",
       "    </tr>\n",
       "    <tr>\n",
       "      <td>720</td>\n",
       "      <td>0.922300</td>\n",
       "    </tr>\n",
       "    <tr>\n",
       "      <td>730</td>\n",
       "      <td>0.739100</td>\n",
       "    </tr>\n",
       "    <tr>\n",
       "      <td>740</td>\n",
       "      <td>0.852400</td>\n",
       "    </tr>\n",
       "  </tbody>\n",
       "</table><p>"
      ],
      "text/plain": [
       "<IPython.core.display.HTML object>"
      ]
     },
     "metadata": {},
     "output_type": "display_data"
    },
    {
     "name": "stderr",
     "output_type": "stream",
     "text": [
      "/home/pai/envs/qwen/lib/python3.10/site-packages/peft/utils/other.py:611: UserWarning: Unable to fetch remote file due to the following error (MaxRetryError(\"HTTPSConnectionPool(host='huggingface.co', port=443): Max retries exceeded with url: /Qwen-1_8B-Chat/resolve/main/config.json (Caused by NewConnectionError('<urllib3.connection.HTTPSConnection object at 0x7f7229e2a9e0>: Failed to establish a new connection: [Errno 101] Network is unreachable'))\"), '(Request ID: bb391609-327f-46cb-9327-06fb712a85e9)') - silently ignoring the lookup for the file config.json in Qwen-1_8B-Chat.\n",
      "  warnings.warn(\n",
      "/home/pai/envs/qwen/lib/python3.10/site-packages/peft/utils/save_and_load.py:195: UserWarning: Could not find a config file in Qwen-1_8B-Chat - will assume that the vocabulary was not modified.\n",
      "  warnings.warn(\n",
      "/home/pai/envs/qwen/lib/python3.10/site-packages/torch/utils/checkpoint.py:464: UserWarning: torch.utils.checkpoint: the use_reentrant parameter should be passed explicitly. In version 2.4 we will raise an exception if use_reentrant is not passed. use_reentrant=False is recommended, but if you need to preserve the current default behavior, you can pass use_reentrant=True. Refer to docs for more details on the differences between the two variants.\n",
      "  warnings.warn(\n",
      "/home/pai/envs/qwen/lib/python3.10/site-packages/peft/utils/other.py:611: UserWarning: Unable to fetch remote file due to the following error (MaxRetryError(\"HTTPSConnectionPool(host='huggingface.co', port=443): Max retries exceeded with url: /Qwen-1_8B-Chat/resolve/main/config.json (Caused by NewConnectionError('<urllib3.connection.HTTPSConnection object at 0x7f7229cfb4c0>: Failed to establish a new connection: [Errno 101] Network is unreachable'))\"), '(Request ID: 90ee8933-d9d8-4917-b495-5aa8bef09370)') - silently ignoring the lookup for the file config.json in Qwen-1_8B-Chat.\n",
      "  warnings.warn(\n",
      "/home/pai/envs/qwen/lib/python3.10/site-packages/peft/utils/save_and_load.py:195: UserWarning: Could not find a config file in Qwen-1_8B-Chat - will assume that the vocabulary was not modified.\n",
      "  warnings.warn(\n",
      "/home/pai/envs/qwen/lib/python3.10/site-packages/torch/utils/checkpoint.py:464: UserWarning: torch.utils.checkpoint: the use_reentrant parameter should be passed explicitly. In version 2.4 we will raise an exception if use_reentrant is not passed. use_reentrant=False is recommended, but if you need to preserve the current default behavior, you can pass use_reentrant=True. Refer to docs for more details on the differences between the two variants.\n",
      "  warnings.warn(\n",
      "/home/pai/envs/qwen/lib/python3.10/site-packages/peft/utils/other.py:611: UserWarning: Unable to fetch remote file due to the following error (MaxRetryError(\"HTTPSConnectionPool(host='huggingface.co', port=443): Max retries exceeded with url: /Qwen-1_8B-Chat/resolve/main/config.json (Caused by NewConnectionError('<urllib3.connection.HTTPSConnection object at 0x7f7229b7fd60>: Failed to establish a new connection: [Errno 101] Network is unreachable'))\"), '(Request ID: 6baffd1c-0491-4043-96bf-794576b17aeb)') - silently ignoring the lookup for the file config.json in Qwen-1_8B-Chat.\n",
      "  warnings.warn(\n",
      "/home/pai/envs/qwen/lib/python3.10/site-packages/peft/utils/save_and_load.py:195: UserWarning: Could not find a config file in Qwen-1_8B-Chat - will assume that the vocabulary was not modified.\n",
      "  warnings.warn(\n",
      "/home/pai/envs/qwen/lib/python3.10/site-packages/torch/utils/checkpoint.py:464: UserWarning: torch.utils.checkpoint: the use_reentrant parameter should be passed explicitly. In version 2.4 we will raise an exception if use_reentrant is not passed. use_reentrant=False is recommended, but if you need to preserve the current default behavior, you can pass use_reentrant=True. Refer to docs for more details on the differences between the two variants.\n",
      "  warnings.warn(\n",
      "/home/pai/envs/qwen/lib/python3.10/site-packages/peft/utils/other.py:611: UserWarning: Unable to fetch remote file due to the following error (MaxRetryError(\"HTTPSConnectionPool(host='huggingface.co', port=443): Max retries exceeded with url: /Qwen-1_8B-Chat/resolve/main/config.json (Caused by NewConnectionError('<urllib3.connection.HTTPSConnection object at 0x7f7229cffcd0>: Failed to establish a new connection: [Errno 101] Network is unreachable'))\"), '(Request ID: 3e36e14d-4e5c-4475-92a9-3ecde76198a7)') - silently ignoring the lookup for the file config.json in Qwen-1_8B-Chat.\n",
      "  warnings.warn(\n",
      "/home/pai/envs/qwen/lib/python3.10/site-packages/peft/utils/save_and_load.py:195: UserWarning: Could not find a config file in Qwen-1_8B-Chat - will assume that the vocabulary was not modified.\n",
      "  warnings.warn(\n"
     ]
    },
    {
     "data": {
      "text/plain": [
       "TrainOutput(global_step=744, training_loss=1.3516380351076844, metrics={'train_runtime': 1978.4477, 'train_samples_per_second': 6.065, 'train_steps_per_second': 0.376, 'total_flos': 3.0783890072223744e+16, 'train_loss': 1.3516380351076844, 'epoch': 11.9})"
      ]
     },
     "execution_count": 19,
     "metadata": {},
     "output_type": "execute_result"
    }
   ],
   "source": [
    "trainer.train()"
   ]
  },
  {
   "cell_type": "code",
   "execution_count": 20,
   "id": "3c0af1d0-e11b-4332-a671-acad05169ccb",
   "metadata": {
    "execution": {
     "iopub.execute_input": "2024-06-16T01:09:57.023218Z",
     "iopub.status.busy": "2024-06-16T01:09:57.022629Z",
     "iopub.status.idle": "2024-06-16T01:09:59.467840Z",
     "shell.execute_reply": "2024-06-16T01:09:59.466956Z",
     "shell.execute_reply.started": "2024-06-16T01:09:57.023195Z"
    }
   },
   "outputs": [
    {
     "data": {
      "text/plain": [
       "('综合护理干预；康复训练；支持性心理疗法；临床护理路径(LSMS)程序',\n",
       " [('帕金森叠加综合征的辅助治疗有些什么?', '综合护理干预；康复训练；支持性心理疗法；临床护理路径(LSMS)程序')])"
      ]
     },
     "execution_count": 20,
     "metadata": {},
     "output_type": "execute_result"
    }
   ],
   "source": [
    "# 训练后看看效果（用回训练集测试效果当然好）\n",
    "response, history = model.eval().chat(tokenizer, \"帕金森叠加综合征的辅助治疗有些什么?\", history=None,\n",
    "                                      system=\"你是一个医学助手，需要回答用户关于医学的问题：\")\n",
    "response, history"
   ]
  },
  {
   "cell_type": "code",
   "execution_count": null,
   "id": "359314ed-c0b9-4332-9a9c-c94502da6685",
   "metadata": {},
   "outputs": [],
   "source": []
  },
  {
   "cell_type": "code",
   "execution_count": null,
   "id": "2706dfab-22a5-4ff1-9508-0c84f7651440",
   "metadata": {},
   "outputs": [],
   "source": []
  }
 ],
 "metadata": {
  "kernelspec": {
   "display_name": "qwen",
   "language": "python",
   "name": "qwen"
  },
  "language_info": {
   "codemirror_mode": {
    "name": "ipython",
    "version": 3
   },
   "file_extension": ".py",
   "mimetype": "text/x-python",
   "name": "python",
   "nbconvert_exporter": "python",
   "pygments_lexer": "ipython3",
   "version": "3.10.14"
  }
 },
 "nbformat": 4,
 "nbformat_minor": 5
}
