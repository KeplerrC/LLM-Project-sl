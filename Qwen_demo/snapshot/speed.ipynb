{
 "cells": [
  {
   "cell_type": "code",
   "execution_count": 1,
   "id": "755c3bcf-f61e-40df-ab13-91ccc5f51f08",
   "metadata": {
    "ExecutionIndicator": {
     "show": true
    },
    "execution": {
     "iopub.execute_input": "2024-07-02T12:02:46.535931Z",
     "iopub.status.busy": "2024-07-02T12:02:46.535499Z",
     "iopub.status.idle": "2024-07-02T12:02:59.200521Z",
     "shell.execute_reply": "2024-07-02T12:02:59.199998Z",
     "shell.execute_reply.started": "2024-07-02T12:02:46.535908Z"
    },
    "tags": []
   },
   "outputs": [],
   "source": [
    "import json\n",
    "import torch\n",
    "import os\n",
    "\n",
    "os.environ[\"HF_ENDPOINT\"] = \"https://hf-mirror.com\"\n",
    "\n",
    "import datasets\n",
    "from peft import get_peft_model\n",
    "from peft import LoraConfig\n",
    "from transformers import AutoModelForCausalLM\n",
    "from transformers import AutoTokenizer\n",
    "from transformers import DataCollatorForSeq2Seq\n",
    "from transformers import Trainer\n",
    "from transformers import TrainingArguments"
   ]
  },
  {
   "cell_type": "code",
   "execution_count": 2,
   "id": "d0e73adc-78ae-4ee5-bd22-e9ddf9065da9",
   "metadata": {
    "ExecutionIndicator": {
     "show": true
    },
    "execution": {
     "iopub.execute_input": "2024-07-02T12:02:59.201767Z",
     "iopub.status.busy": "2024-07-02T12:02:59.201448Z",
     "iopub.status.idle": "2024-07-02T12:02:59.204198Z",
     "shell.execute_reply": "2024-07-02T12:02:59.203709Z",
     "shell.execute_reply.started": "2024-07-02T12:02:59.201745Z"
    },
    "tags": []
   },
   "outputs": [],
   "source": [
    "# 训练集共1949972条，只取前1000条\n",
    "# with open(\"medical_zh/train_zh_0.jsonl\", \"r\") as f:\n",
    "#     lst = [json.loads(next(f)) for _ in range(1000)]\n",
    "# lst[0]"
   ]
  },
  {
   "cell_type": "code",
   "execution_count": 3,
   "id": "e7a3c82c-ad3e-4d6f-b079-dd1d260b3782",
   "metadata": {
    "ExecutionIndicator": {
     "show": true
    },
    "execution": {
     "iopub.execute_input": "2024-07-02T12:02:59.205252Z",
     "iopub.status.busy": "2024-07-02T12:02:59.204920Z",
     "iopub.status.idle": "2024-07-02T12:02:59.207401Z",
     "shell.execute_reply": "2024-07-02T12:02:59.206898Z",
     "shell.execute_reply.started": "2024-07-02T12:02:59.205233Z"
    },
    "tags": []
   },
   "outputs": [],
   "source": [
    "# with open(\"train_lora.json\", \"w\") as f:\n",
    "#     json.dump(lst, f, ensure_ascii=False)  # 有汉字，加ensure_ascii=False"
   ]
  },
  {
   "cell_type": "code",
   "execution_count": 4,
   "id": "cdf0a89b-bfaf-4347-8273-2a3e8e1765f9",
   "metadata": {
    "ExecutionIndicator": {
     "show": true
    },
    "execution": {
     "iopub.execute_input": "2024-07-02T12:02:59.209089Z",
     "iopub.status.busy": "2024-07-02T12:02:59.208768Z",
     "iopub.status.idle": "2024-07-02T12:03:00.020461Z",
     "shell.execute_reply": "2024-07-02T12:03:00.020002Z",
     "shell.execute_reply.started": "2024-07-02T12:02:59.209071Z"
    },
    "tags": []
   },
   "outputs": [
    {
     "data": {
      "text/plain": [
       "{'input': '',\n",
       " 'output': '初发或复发病不久。皮疹发展迅速，呈点滴状、钱币状或混合状。常见丘疹、斑丘疹、大小不等的斑片，潮红、鲜红或深红色。散布于体表各处或几处，以躯干、四肢多见，亦可先从头面开始，逐渐发展至全身。新皮疹不断出现，表面覆有银白色鳞屑，干燥易脱落，剥刮后有点状出血。可有同形反应;伴瘙痒、心烦口渴。大便秘结、小便短黄，舌质红赤，苔薄黄或根部黄厚，脉弦滑或滑数。血热炽盛病机，主要表现在如下四个面：一、热象：血热多属阳盛则热之实性、热性病机和病证、并表现出热象。二、血行加速：血得热则行，可使血流加速，且使脉道扩张，络脉充血，故可见面红目赤，舌色深红（即舌绛）等症。三、动血：在血行加速与脉道扩张的基础上，血分有热，可灼伤脉络，引起出血，称为“热迫血妄行”，或称动血。四、扰乱心神：血热炽盛则扰动心神，心主血脉而藏神，血脉与心相通，故血热则使心神不安，而见心烦，或躁扰发狂等症。',\n",
       " 'instruction': '血热的临床表现是什么?'}"
      ]
     },
     "execution_count": 4,
     "metadata": {},
     "output_type": "execute_result"
    }
   ],
   "source": [
    "# 加载Dataset。原文经过DataFrame中转，比较麻烦\n",
    "ds = datasets.load_dataset(\"json\", data_files=\"train_lora.json\", split=\"train\")  # 不加split会返回DatasetDict\n",
    "ds[0]"
   ]
  },
  {
   "cell_type": "code",
   "execution_count": 5,
   "id": "94ada428-0633-402d-9620-7333c1f6f7e3",
   "metadata": {
    "ExecutionIndicator": {
     "show": true
    },
    "execution": {
     "iopub.execute_input": "2024-07-02T12:03:00.021267Z",
     "iopub.status.busy": "2024-07-02T12:03:00.021089Z",
     "iopub.status.idle": "2024-07-02T12:03:00.525799Z",
     "shell.execute_reply": "2024-07-02T12:03:00.525298Z",
     "shell.execute_reply.started": "2024-07-02T12:03:00.021249Z"
    },
    "tags": []
   },
   "outputs": [
    {
     "data": {
      "text/plain": [
       "QWenTokenizer(name_or_path='Qwen-1_8B-Chat', vocab_size=151851, model_max_length=8192, is_fast=False, padding_side='right', truncation_side='right', special_tokens={'pad_token': '<|endoftext|>'}, clean_up_tokenization_spaces=True),  added_tokens_decoder={\n",
       "\t\n",
       "}"
      ]
     },
     "execution_count": 5,
     "metadata": {},
     "output_type": "execute_result"
    }
   ],
   "source": [
    "CKPT_PATH = \"Qwen-1_8B-Chat\"\n",
    "tokenizer = AutoTokenizer.from_pretrained(CKPT_PATH, trust_remote_code=True)\n",
    "tokenizer.pad_token_id = tokenizer.eod_id\n",
    "tokenizer"
   ]
  },
  {
   "cell_type": "code",
   "execution_count": 6,
   "id": "c35b2086-5ba4-463b-b689-befd11224cb3",
   "metadata": {
    "execution": {
     "iopub.execute_input": "2024-07-02T12:03:00.526814Z",
     "iopub.status.busy": "2024-07-02T12:03:00.526540Z",
     "iopub.status.idle": "2024-07-02T12:03:00.531605Z",
     "shell.execute_reply": "2024-07-02T12:03:00.530906Z",
     "shell.execute_reply.started": "2024-07-02T12:03:00.526794Z"
    },
    "tags": []
   },
   "outputs": [],
   "source": [
    "def process_func(example):\n",
    "    MAX_LENGTH = 384\n",
    "\n",
    "    instruction = tokenizer(\n",
    "        \"<|im_start|>system\\n\" +\n",
    "        \"你是一个医学助手，需要回答用户关于医学的问题：<|im_end|>\\n\" +\n",
    "        \"<|im_start|>user\\n\" +\n",
    "        example[\"instruction\"] + example[\"input\"] + \"<|im_end|>\\n\"\n",
    "    )\n",
    "    response = tokenizer(\n",
    "        \"<|im_start|>assistant\\n\" +\n",
    "        example[\"output\"] + \"<|im_end|>\\n\"\n",
    "    )\n",
    "    \n",
    "    input_ids = instruction[\"input_ids\"] + response[\"input_ids\"] + [tokenizer.eod_id]\n",
    "    attention_mask = instruction[\"attention_mask\"] + response[\"attention_mask\"] + [1]\n",
    "    labels = [-100] * len(instruction[\"input_ids\"]) + response[\"input_ids\"] + [tokenizer.eod_id]\n",
    "\n",
    "    # 截断\n",
    "    if len(input_ids) > MAX_LENGTH:\n",
    "        input_ids = input_ids[:MAX_LENGTH]\n",
    "        attention_mask = attention_mask[:MAX_LENGTH]\n",
    "        labels = labels[:MAX_LENGTH]\n",
    "    return {\n",
    "        \"input_ids\": input_ids,\n",
    "        \"attention_mask\": attention_mask,\n",
    "        \"labels\": labels\n",
    "    }"
   ]
  },
  {
   "cell_type": "code",
   "execution_count": 7,
   "id": "f053b8fa-a115-45c4-8a19-b1eac07cdc11",
   "metadata": {
    "execution": {
     "iopub.execute_input": "2024-07-02T12:03:00.532949Z",
     "iopub.status.busy": "2024-07-02T12:03:00.532486Z",
     "iopub.status.idle": "2024-07-02T12:03:02.166873Z",
     "shell.execute_reply": "2024-07-02T12:03:02.166200Z",
     "shell.execute_reply.started": "2024-07-02T12:03:00.532919Z"
    },
    "tags": []
   },
   "outputs": [
    {
     "data": {
      "text/plain": [
       "Dataset({\n",
       "    features: ['input_ids', 'attention_mask', 'labels'],\n",
       "    num_rows: 1000\n",
       "})"
      ]
     },
     "execution_count": 7,
     "metadata": {},
     "output_type": "execute_result"
    }
   ],
   "source": [
    "# 类似DataFrame的用法，并行处理数据\n",
    "train_dataset = ds.map(process_func, remove_columns=ds.column_names)  # 去掉原始的列\n",
    "train_dataset"
   ]
  },
  {
   "cell_type": "code",
   "execution_count": 8,
   "id": "d80ce787-d092-4747-bbd9-66bf6fedb1a0",
   "metadata": {
    "execution": {
     "iopub.execute_input": "2024-07-02T12:03:02.168385Z",
     "iopub.status.busy": "2024-07-02T12:03:02.167825Z",
     "iopub.status.idle": "2024-07-02T12:03:02.174308Z",
     "shell.execute_reply": "2024-07-02T12:03:02.173613Z",
     "shell.execute_reply.started": "2024-07-02T12:03:02.168353Z"
    },
    "tags": []
   },
   "outputs": [
    {
     "data": {
      "text/plain": [
       "'<|im_start|>system\\n你是一个医学助手，需要回答用户关于医学的问题：<|im_end|>\\n<|im_start|>user\\n帕金森叠加综合征的辅助治疗有些什么？<|im_end|>\\n<|im_start|>assistant\\n综合治疗；康复训练；生活护理指导；低频重复经颅磁刺激治疗<|im_end|>\\n<|endoftext|>'"
      ]
     },
     "execution_count": 8,
     "metadata": {},
     "output_type": "execute_result"
    }
   ],
   "source": [
    "tokenizer.decode(train_dataset[1]['input_ids'])"
   ]
  },
  {
   "cell_type": "code",
   "execution_count": 9,
   "id": "f24af3f8-ce97-4bad-9542-e60c9f5691ef",
   "metadata": {
    "execution": {
     "iopub.execute_input": "2024-07-02T12:03:02.175615Z",
     "iopub.status.busy": "2024-07-02T12:03:02.175198Z",
     "iopub.status.idle": "2024-07-02T12:03:02.180630Z",
     "shell.execute_reply": "2024-07-02T12:03:02.180066Z",
     "shell.execute_reply.started": "2024-07-02T12:03:02.175586Z"
    },
    "tags": []
   },
   "outputs": [
    {
     "data": {
      "text/plain": [
       "'<|im_start|>assistant\\n综合治疗；康复训练；生活护理指导；低频重复经颅磁刺激治疗<|im_end|>\\n<|endoftext|>'"
      ]
     },
     "execution_count": 9,
     "metadata": {},
     "output_type": "execute_result"
    }
   ],
   "source": [
    "tokenizer.decode(list(filter(lambda x: x != -100, train_dataset[1][\"labels\"])))"
   ]
  },
  {
   "cell_type": "code",
   "execution_count": 10,
   "id": "d34a4079-5348-4a11-ae16-2fe716605aa2",
   "metadata": {
    "ExecutionIndicator": {
     "show": true
    },
    "execution": {
     "iopub.execute_input": "2024-07-02T12:03:02.181860Z",
     "iopub.status.busy": "2024-07-02T12:03:02.181491Z",
     "iopub.status.idle": "2024-07-02T12:03:23.117282Z",
     "shell.execute_reply": "2024-07-02T12:03:23.116783Z",
     "shell.execute_reply.started": "2024-07-02T12:03:02.181836Z"
    },
    "scrolled": true,
    "tags": []
   },
   "outputs": [
    {
     "data": {
      "application/vnd.jupyter.widget-view+json": {
       "model_id": "d069d8b3cd484870af419452758e2e97",
       "version_major": 2,
       "version_minor": 0
      },
      "text/plain": [
       "Loading checkpoint shards:   0%|          | 0/2 [00:00<?, ?it/s]"
      ]
     },
     "metadata": {},
     "output_type": "display_data"
    },
    {
     "data": {
      "text/plain": [
       "QWenLMHeadModel(\n",
       "  (transformer): QWenModel(\n",
       "    (wte): Embedding(151936, 2048)\n",
       "    (drop): Dropout(p=0.0, inplace=False)\n",
       "    (rotary_emb): RotaryEmbedding()\n",
       "    (h): ModuleList(\n",
       "      (0-23): 24 x QWenBlock(\n",
       "        (ln_1): RMSNorm()\n",
       "        (attn): QWenAttention(\n",
       "          (c_attn): Linear(in_features=2048, out_features=6144, bias=True)\n",
       "          (c_proj): Linear(in_features=2048, out_features=2048, bias=False)\n",
       "          (attn_dropout): Dropout(p=0.0, inplace=False)\n",
       "        )\n",
       "        (ln_2): RMSNorm()\n",
       "        (mlp): QWenMLP(\n",
       "          (w1): Linear(in_features=2048, out_features=5504, bias=False)\n",
       "          (w2): Linear(in_features=2048, out_features=5504, bias=False)\n",
       "          (c_proj): Linear(in_features=5504, out_features=2048, bias=False)\n",
       "        )\n",
       "      )\n",
       "    )\n",
       "    (ln_f): RMSNorm()\n",
       "  )\n",
       "  (lm_head): Linear(in_features=2048, out_features=151936, bias=False)\n",
       ")"
      ]
     },
     "execution_count": 10,
     "metadata": {},
     "output_type": "execute_result"
    }
   ],
   "source": [
    "model = AutoModelForCausalLM.from_pretrained(CKPT_PATH, trust_remote_code=True,\n",
    "                                             bf16=True,\n",
    "                                             torch_dtype=torch.bfloat16,\n",
    "                                             use_flash_attn = False,\n",
    "                                             # load_in_8bit=True\n",
    "                                            )\n",
    "model"
   ]
  },
  {
   "cell_type": "code",
   "execution_count": 11,
   "id": "42aea761-09ba-4f42-9126-812f2dfe3ae5",
   "metadata": {
    "execution": {
     "iopub.execute_input": "2024-07-02T12:03:23.118236Z",
     "iopub.status.busy": "2024-07-02T12:03:23.117982Z",
     "iopub.status.idle": "2024-07-02T12:03:23.121726Z",
     "shell.execute_reply": "2024-07-02T12:03:23.121212Z",
     "shell.execute_reply.started": "2024-07-02T12:03:23.118217Z"
    },
    "tags": []
   },
   "outputs": [
    {
     "data": {
      "text/plain": [
       "torch.bfloat16"
      ]
     },
     "execution_count": 11,
     "metadata": {},
     "output_type": "execute_result"
    }
   ],
   "source": [
    "model.dtype"
   ]
  },
  {
   "cell_type": "code",
   "execution_count": 12,
   "id": "cc8bf88a-32f4-498d-a2ac-9c7518d651c5",
   "metadata": {
    "ExecutionIndicator": {
     "show": true
    },
    "execution": {
     "iopub.execute_input": "2024-07-02T12:03:23.122675Z",
     "iopub.status.busy": "2024-07-02T12:03:23.122355Z",
     "iopub.status.idle": "2024-07-02T12:03:23.125029Z",
     "shell.execute_reply": "2024-07-02T12:03:23.124469Z",
     "shell.execute_reply.started": "2024-07-02T12:03:23.122656Z"
    },
    "tags": []
   },
   "outputs": [],
   "source": [
    "# 使用gradient_checkpointing+peft需要加这句补丁\n",
    "model.enable_input_require_grads()"
   ]
  },
  {
   "cell_type": "code",
   "execution_count": 13,
   "id": "8c3349f2-35d4-4c9c-ae9d-cea91a3aac11",
   "metadata": {
    "ExecutionIndicator": {
     "show": true
    },
    "execution": {
     "iopub.execute_input": "2024-07-02T12:03:23.127713Z",
     "iopub.status.busy": "2024-07-02T12:03:23.127367Z",
     "iopub.status.idle": "2024-07-02T12:03:23.130379Z",
     "shell.execute_reply": "2024-07-02T12:03:23.129910Z",
     "shell.execute_reply.started": "2024-07-02T12:03:23.127694Z"
    },
    "tags": []
   },
   "outputs": [],
   "source": [
    "config = LoraConfig(\n",
    "    # task_type=TaskType.CAUSAL_LM, # 可以不写\n",
    "    target_modules=[\"c_attn\", \"c_proj\", \"w1\", \"w2\"],  # 必须指定，Qwen官方的微调脚本也是写这几个\n",
    "    # 原文说这三个参数比较通用，先留着\n",
    "    r=8,\n",
    "    lora_alpha=32,\n",
    "    lora_dropout=0.1\n",
    ")\n",
    "# config"
   ]
  },
  {
   "cell_type": "code",
   "execution_count": 14,
   "id": "48caca04-3836-4df0-9632-f8917c56b0f0",
   "metadata": {
    "ExecutionIndicator": {
     "show": true
    },
    "execution": {
     "iopub.execute_input": "2024-07-02T12:03:23.131382Z",
     "iopub.status.busy": "2024-07-02T12:03:23.131043Z",
     "iopub.status.idle": "2024-07-02T12:03:26.117115Z",
     "shell.execute_reply": "2024-07-02T12:03:26.116579Z",
     "shell.execute_reply.started": "2024-07-02T12:03:23.131363Z"
    },
    "scrolled": true,
    "tags": []
   },
   "outputs": [],
   "source": [
    "model = get_peft_model(model, config)\n",
    "# model"
   ]
  },
  {
   "cell_type": "code",
   "execution_count": 15,
   "id": "3d7aaa78-ddd7-4f3f-bfa8-cabb5ef7b64c",
   "metadata": {
    "execution": {
     "iopub.execute_input": "2024-07-02T12:03:26.118127Z",
     "iopub.status.busy": "2024-07-02T12:03:26.117926Z",
     "iopub.status.idle": "2024-07-02T12:03:26.123627Z",
     "shell.execute_reply": "2024-07-02T12:03:26.123158Z",
     "shell.execute_reply.started": "2024-07-02T12:03:26.118107Z"
    },
    "tags": []
   },
   "outputs": [
    {
     "name": "stdout",
     "output_type": "stream",
     "text": [
      "trainable params: 6,709,248 || all params: 1,843,537,920 || trainable%: 0.3639\n"
     ]
    }
   ],
   "source": [
    "model.print_trainable_parameters()"
   ]
  },
  {
   "cell_type": "code",
   "execution_count": 16,
   "id": "d2a2bbbc-3bc0-4d6b-8c1d-7fcb895e2da2",
   "metadata": {
    "ExecutionIndicator": {
     "show": true
    },
    "execution": {
     "iopub.execute_input": "2024-07-02T12:03:26.124527Z",
     "iopub.status.busy": "2024-07-02T12:03:26.124352Z",
     "iopub.status.idle": "2024-07-02T12:03:26.141812Z",
     "shell.execute_reply": "2024-07-02T12:03:26.141373Z",
     "shell.execute_reply.started": "2024-07-02T12:03:26.124508Z"
    },
    "tags": []
   },
   "outputs": [],
   "source": [
    "# 定义训练配置\n",
    "args = TrainingArguments(\n",
    "    output_dir=f\"./output/{CKPT_PATH}_flash_attn_v2\",\n",
    "    per_device_train_batch_size=16,\n",
    "    gradient_accumulation_steps=1,\n",
    "    logging_steps=10,\n",
    "    num_train_epochs=1,\n",
    "    gradient_checkpointing=True,  # 开启激活重计算，时间换空间\n",
    "    # save_steps=50,\n",
    "    learning_rate=1e-4\n",
    ")"
   ]
  },
  {
   "cell_type": "code",
   "execution_count": 17,
   "id": "982ae2ef-7b05-4809-97c2-be2a43a2d49d",
   "metadata": {
    "execution": {
     "iopub.execute_input": "2024-07-02T12:03:26.142526Z",
     "iopub.status.busy": "2024-07-02T12:03:26.142359Z",
     "iopub.status.idle": "2024-07-02T12:03:31.057187Z",
     "shell.execute_reply": "2024-07-02T12:03:31.056631Z",
     "shell.execute_reply.started": "2024-07-02T12:03:26.142508Z"
    },
    "tags": []
   },
   "outputs": [
    {
     "name": "stderr",
     "output_type": "stream",
     "text": [
      "Detected kernel version 4.19.24, which is below the recommended minimum of 5.5.0; this can cause the process to hang. It is recommended to upgrade the kernel to the minimum version or higher.\n"
     ]
    }
   ],
   "source": [
    "# 定义trainer\n",
    "trainer = Trainer(\n",
    "    model=model,\n",
    "    args=args,\n",
    "    train_dataset=train_dataset,\n",
    "    # 用pad填充batch的三个字段\n",
    "    data_collator=DataCollatorForSeq2Seq(tokenizer=tokenizer)  # 原文设置padding=True，是默认值，省略掉\n",
    ")"
   ]
  },
  {
   "cell_type": "code",
   "execution_count": 18,
   "id": "e26a0096-31f8-4f1c-96ab-f4e7f658542d",
   "metadata": {
    "ExecutionIndicator": {
     "show": true
    },
    "execution": {
     "iopub.execute_input": "2024-07-02T12:03:31.058128Z",
     "iopub.status.busy": "2024-07-02T12:03:31.057926Z",
     "iopub.status.idle": "2024-07-02T12:03:31.061135Z",
     "shell.execute_reply": "2024-07-02T12:03:31.060438Z",
     "shell.execute_reply.started": "2024-07-02T12:03:31.058108Z"
    },
    "tags": []
   },
   "outputs": [],
   "source": [
    "# 训练前看看效果\n",
    "# response, history = model.eval().chat(tokenizer, \"帕金森叠加综合征的辅助治疗有些什么?\", history=None,\n",
    "#                                       system=\"你是一个医学助手，需要回答用户关于医学的问题：\")\n",
    "# response, history"
   ]
  },
  {
   "cell_type": "code",
   "execution_count": 19,
   "id": "11bf40ff-3ec0-40fc-9bd0-7fed9a08e030",
   "metadata": {
    "ExecutionIndicator": {
     "show": true
    },
    "execution": {
     "iopub.execute_input": "2024-07-02T12:03:31.062109Z",
     "iopub.status.busy": "2024-07-02T12:03:31.061913Z",
     "iopub.status.idle": "2024-07-02T12:05:27.118883Z",
     "shell.execute_reply": "2024-07-02T12:05:27.118388Z",
     "shell.execute_reply.started": "2024-07-02T12:03:31.062084Z"
    },
    "tags": []
   },
   "outputs": [
    {
     "name": "stderr",
     "output_type": "stream",
     "text": [
      "You are using an old version of the checkpointing format that is deprecated (We will also silently ignore `gradient_checkpointing_kwargs` in case you passed it).Please update to the new format on your modeling file. To use the new format, you need to completely remove the definition of the method `_set_gradient_checkpointing` in your model.\n",
      "`use_cache=True` is incompatible with gradient checkpointing. Setting `use_cache=False`...\n",
      "/home/pai/envs/qwen/lib/python3.10/site-packages/torch/utils/checkpoint.py:464: UserWarning: torch.utils.checkpoint: the use_reentrant parameter should be passed explicitly. In version 2.4 we will raise an exception if use_reentrant is not passed. use_reentrant=False is recommended, but if you need to preserve the current default behavior, you can pass use_reentrant=True. Refer to docs for more details on the differences between the two variants.\n",
      "  warnings.warn(\n"
     ]
    },
    {
     "data": {
      "text/html": [
       "\n",
       "    <div>\n",
       "      \n",
       "      <progress value='63' max='63' style='width:300px; height:20px; vertical-align: middle;'></progress>\n",
       "      [63/63 01:51, Epoch 1/1]\n",
       "    </div>\n",
       "    <table border=\"1\" class=\"dataframe\">\n",
       "  <thead>\n",
       " <tr style=\"text-align: left;\">\n",
       "      <th>Step</th>\n",
       "      <th>Training Loss</th>\n",
       "    </tr>\n",
       "  </thead>\n",
       "  <tbody>\n",
       "    <tr>\n",
       "      <td>10</td>\n",
       "      <td>2.442200</td>\n",
       "    </tr>\n",
       "    <tr>\n",
       "      <td>20</td>\n",
       "      <td>2.203100</td>\n",
       "    </tr>\n",
       "    <tr>\n",
       "      <td>30</td>\n",
       "      <td>2.151600</td>\n",
       "    </tr>\n",
       "    <tr>\n",
       "      <td>40</td>\n",
       "      <td>2.115600</td>\n",
       "    </tr>\n",
       "    <tr>\n",
       "      <td>50</td>\n",
       "      <td>2.085200</td>\n",
       "    </tr>\n",
       "    <tr>\n",
       "      <td>60</td>\n",
       "      <td>2.092200</td>\n",
       "    </tr>\n",
       "  </tbody>\n",
       "</table><p>"
      ],
      "text/plain": [
       "<IPython.core.display.HTML object>"
      ]
     },
     "metadata": {},
     "output_type": "display_data"
    },
    {
     "data": {
      "text/plain": [
       "TrainOutput(global_step=63, training_loss=2.1889880952380953, metrics={'train_runtime': 115.8858, 'train_samples_per_second': 8.629, 'train_steps_per_second': 0.544, 'total_flos': 3475127730241536.0, 'train_loss': 2.1889880952380953, 'epoch': 1.0})"
      ]
     },
     "execution_count": 19,
     "metadata": {},
     "output_type": "execute_result"
    }
   ],
   "source": [
    "result = trainer.train()\n",
    "result"
   ]
  },
  {
   "cell_type": "code",
   "execution_count": 20,
   "id": "3c0af1d0-e11b-4332-a671-acad05169ccb",
   "metadata": {
    "ExecutionIndicator": {
     "show": true
    },
    "execution": {
     "iopub.execute_input": "2024-07-02T12:05:27.119896Z",
     "iopub.status.busy": "2024-07-02T12:05:27.119613Z",
     "iopub.status.idle": "2024-07-02T12:05:27.122488Z",
     "shell.execute_reply": "2024-07-02T12:05:27.121996Z",
     "shell.execute_reply.started": "2024-07-02T12:05:27.119875Z"
    },
    "tags": []
   },
   "outputs": [],
   "source": [
    "# 训练后看看效果（用回训练集测试效果当然好）\n",
    "# response, history = model.eval().chat(tokenizer, \"帕金森叠加综合征的辅助治疗有些什么?\", history=None,\n",
    "#                                       system=\"你是一个医学助手，需要回答用户关于医学的问题：\")\n",
    "# response, history"
   ]
  },
  {
   "cell_type": "code",
   "execution_count": null,
   "id": "359314ed-c0b9-4332-9a9c-c94502da6685",
   "metadata": {},
   "outputs": [],
   "source": []
  },
  {
   "cell_type": "code",
   "execution_count": null,
   "id": "2706dfab-22a5-4ff1-9508-0c84f7651440",
   "metadata": {},
   "outputs": [],
   "source": []
  }
 ],
 "metadata": {
  "kernelspec": {
   "display_name": "qwen",
   "language": "python",
   "name": "qwen"
  },
  "language_info": {
   "codemirror_mode": {
    "name": "ipython",
    "version": 3
   },
   "file_extension": ".py",
   "mimetype": "text/x-python",
   "name": "python",
   "nbconvert_exporter": "python",
   "pygments_lexer": "ipython3",
   "version": "3.10.14"
  }
 },
 "nbformat": 4,
 "nbformat_minor": 5
}
