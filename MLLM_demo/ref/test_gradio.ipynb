{
 "cells": [
  {
   "cell_type": "markdown",
   "metadata": {},
   "source": [
    "# 环境配置"
   ]
  },
  {
   "cell_type": "code",
   "execution_count": null,
   "metadata": {},
   "outputs": [],
   "source": [
    "! pip install gradio"
   ]
  },
  {
   "cell_type": "markdown",
   "metadata": {},
   "source": [
    "## 运行代码"
   ]
  },
  {
   "cell_type": "code",
   "execution_count": null,
   "metadata": {},
   "outputs": [],
   "source": [
    "import gradio as gr\n",
    "\n",
    "def foo(name):\n",
    "    return \"Hello \" + name + \"!\"\n",
    "\n",
    "demo = gr.Interface(fn=foo, inputs=\"text\", outputs=\"text\")\n",
    "    \n",
    "if __name__ == \"__main__\":\n",
    "    demo.launch()   "
   ]
  },
  {
   "cell_type": "code",
   "execution_count": null,
   "metadata": {},
   "outputs": [],
   "source": [
    "\n",
    "# 本地无显卡可尝试在DSW-A10环境下使用如下代码 替换 demo.lauch() 运行\n",
    "# name = os.environ['JUPYTER_NAME']​\n",
    "# region = os.environ['dsw_region']​\n",
    "# ​\n",
    "# host = \"dsw-gateway-{region}.data/aliyun.com\".format(region=region)​\n",
    "# ​\n",
    "# port = 7860​\n",
    "# root_path = f'/{name}/proxy/{port}'​\n",
    "# demo.launch(root_path=root_path, server_port=port)"
   ]
  },
  {
   "cell_type": "code",
   "execution_count": null,
   "metadata": {},
   "outputs": [],
   "source": [
    "import gradio as gr\n",
    "\n",
    "def foo(name):\n",
    "    return \"Hello \" + name + \"!\", \"xiaoming\"\n",
    "\n",
    "demo = gr.Interface(fn=foo, inputs=gr.Textbox(lines=3, placeholder=\"在这输入信息\",label=\"我的输入\"), outputs=[\"text\",\"text\"])\n",
    "    \n",
    "if __name__ == \"__main__\":\n",
    "    demo.launch()   "
   ]
  },
  {
   "cell_type": "markdown",
   "metadata": {},
   "source": [
    "常见的gradio组件"
   ]
  },
  {
   "cell_type": "code",
   "execution_count": null,
   "metadata": {},
   "outputs": [],
   "source": [
    "import gradio as gr\n",
    "\n",
    "def foo(input):\n",
    "    return None\n",
    "\n",
    "demo = gr.Interface(fn=foo, inputs=gr.Image(), outputs=\"image\")\n",
    "    \n",
    "if __name__ == \"__main__\":\n",
    "    demo.launch()   "
   ]
  },
  {
   "cell_type": "code",
   "execution_count": null,
   "metadata": {},
   "outputs": [],
   "source": [
    "import gradio as gr\n",
    "\n",
    "def foo(input):\n",
    "    return None\n",
    "\n",
    "demo = gr.Interface(fn=foo, inputs=gr.ImageEditor(), outputs=\"text\")\n",
    "    \n",
    "if __name__ == \"__main__\":\n",
    "    demo.launch()   "
   ]
  },
  {
   "cell_type": "code",
   "execution_count": null,
   "metadata": {},
   "outputs": [],
   "source": [
    "import gradio as gr\n",
    "\n",
    "def foo(input):\n",
    "    return None\n",
    "\n",
    "demo = gr.Interface(fn=foo, inputs=gr.Audio(), outputs=\"text\")\n",
    "    \n",
    "if __name__ == \"__main__\":\n",
    "    demo.launch()   "
   ]
  },
  {
   "cell_type": "code",
   "execution_count": null,
   "metadata": {},
   "outputs": [],
   "source": [
    "import gradio as gr\n",
    "\n",
    "def foo(input):\n",
    "    return None\n",
    "\n",
    "demo = gr.Interface(fn=foo, inputs=gr.Slider(minimum=10,maximum=50,step=2), outputs=\"text\")\n",
    "    \n",
    "if __name__ == \"__main__\":\n",
    "    demo.launch()   "
   ]
  },
  {
   "cell_type": "code",
   "execution_count": null,
   "metadata": {},
   "outputs": [],
   "source": [
    "import gradio as gr\n",
    "\n",
    "def foo(input):\n",
    "    print(input)\n",
    "    return None\n",
    "\n",
    "demo = gr.Interface(fn=foo, inputs=gr.Checkbox(), outputs=\"text\")\n",
    "    \n",
    "if __name__ == \"__main__\":\n",
    "    demo.launch()   "
   ]
  },
  {
   "cell_type": "code",
   "execution_count": null,
   "metadata": {},
   "outputs": [],
   "source": [
    "import gradio as gr\n",
    "\n",
    "def foo(input):\n",
    "    return None\n",
    "\n",
    "demo = gr.Interface(fn=foo, inputs=gr.Button(), outputs=\"text\")\n",
    "    \n",
    "if __name__ == \"__main__\":\n",
    "    demo.launch()   "
   ]
  },
  {
   "cell_type": "code",
   "execution_count": null,
   "metadata": {},
   "outputs": [],
   "source": [
    "import gradio as gr\n",
    "\n",
    "def foo(input):\n",
    "    return None\n",
    "\n",
    "demo = gr.Interface(fn=foo, inputs=gr.Dropdown(choices=[1,2,3]), outputs=\"text\")\n",
    "    \n",
    "if __name__ == \"__main__\":\n",
    "    demo.launch()   "
   ]
  },
  {
   "cell_type": "markdown",
   "metadata": {},
   "source": [
    "更灵活的排布"
   ]
  },
  {
   "cell_type": "code",
   "execution_count": null,
   "metadata": {},
   "outputs": [],
   "source": [
    "import gradio as gr\n",
    "def foo(name):\n",
    "    return \"Hello \" + name + \"!\"\n",
    "with gr.Blocks() as demo:\n",
    "    # 布局\n",
    "    with gr.Column():\n",
    "        with gr.Row():\n",
    "            input = gr.Textbox()\n",
    "            output = gr.Textbox()\n",
    "        button = gr.Button()\n",
    "    \n",
    "    # 点击事件，点击后触发\n",
    "    button.click(fn=foo, inputs=input, outputs=output)\n",
    " \n",
    "demo.launch()"
   ]
  },
  {
   "cell_type": "code",
   "execution_count": null,
   "metadata": {},
   "outputs": [],
   "source": [
    "import gradio as gr\n",
    "def foo(name):\n",
    "    return \"Hello \" + name + \"!\"\n",
    "with gr.Blocks() as demo:\n",
    "    with gr.Tab():\n",
    "        with gr.Column():\n",
    "            with gr.Row():\n",
    "                input1 = gr.Textbox()\n",
    "                output1 = gr.Textbox()\n",
    "            button1 = gr.Button()\n",
    "    with gr.Tab():\n",
    "        with gr.Column():\n",
    "            with gr.Row():\n",
    "                input2 = gr.Textbox()\n",
    "                output2 = gr.Textbox()\n",
    "            button2 = gr.Button()\n",
    "    # 点击事件，点击后触发\n",
    "    button1.click(fn=foo, inputs=input, outputs=output)\n",
    "    button2.click(fn=foo, inputs=input, outputs=output)\n",
    "demo.launch()"
   ]
  },
  {
   "cell_type": "code",
   "execution_count": null,
   "metadata": {},
   "outputs": [],
   "source": [
    "import gradio as gr\n",
    "import random\n",
    "import time\n",
    "\n",
    "def respond(message, chat_history):\n",
    "    bot_message = random.choice([\"How are you?\", \"I love you\", \"I'm very hungry\"])\n",
    "    chat_history.append((message, bot_message))\n",
    "    time.sleep(2)\n",
    "    return \"\", chat_history\n",
    "\n",
    "with gr.Blocks() as demo:\n",
    "    chatbot = gr.Chatbot()\n",
    "    msg = gr.Textbox()\n",
    "    clear = gr.ClearButton([msg, chatbot])\n",
    "\n",
    "    msg.submit(respond, [msg, chatbot], [msg, chatbot])\n",
    "\n",
    "if __name__ == \"__main__\":\n",
    "    demo.launch()\n"
   ]
  }
 ],
 "metadata": {
  "kernelspec": {
   "display_name": "test",
   "language": "python",
   "name": "python3"
  },
  "language_info": {
   "codemirror_mode": {
    "name": "ipython",
    "version": 3
   },
   "file_extension": ".py",
   "mimetype": "text/x-python",
   "name": "python",
   "nbconvert_exporter": "python",
   "pygments_lexer": "ipython3",
   "version": "3.10.13"
  }
 },
 "nbformat": 4,
 "nbformat_minor": 2
}
