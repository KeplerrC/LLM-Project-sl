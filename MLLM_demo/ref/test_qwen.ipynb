{
 "cells": [
  {
   "cell_type": "markdown",
   "metadata": {},
   "source": [
    "# 环境配置"
   ]
  },
  {
   "cell_type": "code",
   "execution_count": null,
   "metadata": {},
   "outputs": [],
   "source": [
    "!pip install modelscope\n",
    "!pip install tiktoken\n",
    "!pip install transformers_stream_generator\n",
    "!pip install auto-gptq\n",
    "!pip install pip install optimum"
   ]
  },
  {
   "cell_type": "markdown",
   "metadata": {},
   "source": [
    "## 运行代码"
   ]
  },
  {
   "cell_type": "code",
   "execution_count": null,
   "metadata": {},
   "outputs": [],
   "source": [
    "import os\n",
    "os.environ['MODELSCOPE_CACHE'] = './cache/qwen_cache'\n",
    "\n",
    "from modelscope import AutoTokenizer, AutoModelForCausalLM\n",
    "tokenizer = AutoTokenizer.from_pretrained(\"qwen/Qwen-1_8B-Chat-Int4\", revision='master', trust_remote_code=True)\n",
    "model = AutoModelForCausalLM.from_pretrained(\n",
    "    \"qwen/Qwen-1_8B-Chat-Int4\", revision='master',\n",
    "    device_map=\"auto\",\n",
    "    trust_remote_code=True,\n",
    "    use_flash_attn=False\n",
    ").eval()\n",
    "\n",
    "response, _ = model.chat(tokenizer, \"你好呀 用二次元可爱猫咪语气和我说话\", history=None)\n",
    "\n",
    "# response, _ = model.chat(tokenizer, \"帮我写一个关于这个的故事：a cat is standing on the beach and waving\", history=None, system=\"你现在是一个故事书写大师\")\n",
    "print(response)\n",
    "# 你好啊！我是一只可爱的二次元猫咪哦，不知道你有什么问题需要我帮忙解答吗？"
   ]
  },
  {
   "cell_type": "code",
   "execution_count": null,
   "metadata": {},
   "outputs": [],
   "source": [
    "import os\n",
    "import gradio as gr\n",
    "import time\n",
    "\n",
    "os.environ['MODELSCOPE_CACHE'] = './cache/qwen_cache'\n",
    "\n",
    "from modelscope import AutoTokenizer, AutoModelForCausalLM\n",
    "tokenizer = AutoTokenizer.from_pretrained(\"qwen/Qwen-1_8B-Chat-Int4\", revision='master', trust_remote_code=True)\n",
    "model = AutoModelForCausalLM.from_pretrained(\n",
    "    \"qwen/Qwen-1_8B-Chat-Int4\", revision='master',\n",
    "    device_map=\"auto\",\n",
    "    trust_remote_code=True,\n",
    "    use_flash_attn=False\n",
    ").eval()\n",
    "\n",
    "def add_text(history, text):\n",
    "    _, history = model.chat(tokenizer, text, history=history)\n",
    "    return history, gr.Textbox(value=\"\", interactive=False)\n",
    "\n",
    "def bot(history):\n",
    "    response =  history[-1][1]\n",
    "    history[-1][1] = \"\"\n",
    "    for character in response:\n",
    "        history[-1][1] += character\n",
    "        time.sleep(0.05)\n",
    "        yield history\n",
    "\n",
    "with gr.Blocks() as demo:\n",
    "    chatbot = gr.Chatbot(\n",
    "        [], \n",
    "        elem_id=\"chatbot\",\n",
    "        bubble_full_width=False,\n",
    "        height=600\n",
    "    )\n",
    "\n",
    "    with gr.Row():\n",
    "        txt = gr.Textbox(\n",
    "            scale=4,\n",
    "            show_label=False,\n",
    "            placeholder=\"Enter text and press enter\",\n",
    "            container=False,\n",
    "        )\n",
    "\n",
    "    txt_msg = txt.submit(add_text, [chatbot, txt], [chatbot, txt], queue=False).then(\n",
    "        bot, chatbot, chatbot, api_name=\"bot_response\"\n",
    "    )\n",
    "    txt_msg.then(lambda: gr.Textbox(interactive=True), None, [txt], queue=False)\n",
    "\n",
    "demo.launch()"
   ]
  },
  {
   "cell_type": "code",
   "execution_count": null,
   "metadata": {},
   "outputs": [],
   "source": [
    "import os\n",
    "os.environ['MODELSCOPE_CACHE'] = './cache/qwen_cache'\n",
    "from modelscope import AutoModelForCausalLM, AutoTokenizer\n",
    "\n",
    "tokenizer = AutoTokenizer.from_pretrained(\"qwen/Qwen-VL-Chat-Int4\", trust_remote_code=True)\n",
    "model = AutoModelForCausalLM.from_pretrained(\"qwen/Qwen-VL-Chat-Int4\", device_map=\"cuda\", trust_remote_code=True,use_safetensors=True, use_flash_attn=False).eval()\n",
    "\n",
    "query = tokenizer.from_list_format([\n",
    "    {'image': 'https://qianwen-res.oss-cn-beijing.aliyuncs.com/Qwen-VL/assets/demo.jpeg'},\n",
    "    {'text': '这是什么'},\n",
    "])\n",
    "response, history = model.chat(tokenizer, query=query, history=None)\n",
    "print(response)"
   ]
  }
 ],
 "metadata": {
  "kernelspec": {
   "display_name": "tianchi",
   "language": "python",
   "name": "python3"
  },
  "language_info": {
   "codemirror_mode": {
    "name": "ipython",
    "version": 3
   },
   "file_extension": ".py",
   "mimetype": "text/x-python",
   "name": "python",
   "nbconvert_exporter": "python",
   "pygments_lexer": "ipython3",
   "version": "3.10.13"
  }
 },
 "nbformat": 4,
 "nbformat_minor": 2
}
