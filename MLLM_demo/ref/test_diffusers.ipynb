{
 "cells": [
  {
   "cell_type": "markdown",
   "metadata": {},
   "source": [
    "# 环境配置"
   ]
  },
  {
   "cell_type": "code",
   "execution_count": null,
   "metadata": {},
   "outputs": [],
   "source": [
    "!pip install diffusers\n",
    "!pip3 install torch torchvision torchaudio --index-url https://download.pytorch.org/whl/cu118\n",
    "!pip install transformers\n",
    "!pip install accelerate\n",
    "!pip install --upgrade huggingface_hub"
   ]
  },
  {
   "cell_type": "markdown",
   "metadata": {},
   "source": [
    "## 运行代码"
   ]
  },
  {
   "cell_type": "code",
   "execution_count": null,
   "metadata": {},
   "outputs": [],
   "source": [
    "!git clone https://github.com/huggingface/diffusers.git"
   ]
  },
  {
   "cell_type": "code",
   "execution_count": null,
   "metadata": {},
   "outputs": [],
   "source": [
    "# 设置环境变量\n",
    "import os\n",
    "os.environ['HF_HOME'] = './cache/hf_cache'\n",
    "os.environ['HF_ENDPOINT'] = 'https://hf-mirror.com'\n"
   ]
  },
  {
   "cell_type": "code",
   "execution_count": null,
   "metadata": {},
   "outputs": [],
   "source": [
    "from diffusers import DDPMPipeline\n",
    "\n",
    "ddpm = DDPMPipeline.from_pretrained(\"google/ddpm-cat-256\", use_safetensors=True).to(\"cuda\")\n",
    "image = ddpm(num_inference_steps=25).images[0]\n",
    "image"
   ]
  },
  {
   "cell_type": "code",
   "execution_count": null,
   "metadata": {},
   "outputs": [],
   "source": [
    "# 设置环境变量\n",
    "import os\n",
    "os.environ['HF_HOME'] = './cache/hf_cache'\n",
    "os.environ['HF_ENDPOINT'] = 'https://hf-mirror.com'\n",
    "\n",
    "from diffusers import DiffusionPipeline\n",
    "import torch\n",
    "\n",
    "pipeline = DiffusionPipeline.from_pretrained(\"runwayml/stable-diffusion-v1-5\", torch_dtype=torch.float16)\n",
    "\n",
    "pipeline.to(\"cuda\")\n",
    "pipeline(\"An image of a cat in Picasso style\").images[0]"
   ]
  },
  {
   "cell_type": "code",
   "execution_count": null,
   "metadata": {},
   "outputs": [],
   "source": [
    "# 设置环境变量\n",
    "import os\n",
    "os.environ['HF_HOME'] = './cache/hf_cache'\n",
    "os.environ['HF_ENDPOINT'] = 'https://hf-mirror.com'\n",
    "import torch\n",
    "from diffusers import AutoPipelineForText2Image\n",
    "\n",
    "pipeline = AutoPipelineForText2Image.from_pretrained(\n",
    "    \"runwayml/stable-diffusion-v1-5\", torch_dtype=torch.float16, variant=\"fp16\")\n",
    "pipeline.to(\"cuda\")\n",
    "\n",
    "prompt = \"cute dog, cold csolor palette, muted colors, detailed, 8k\"\n",
    "image = pipeline(prompt).images[0]\n",
    "image"
   ]
  },
  {
   "cell_type": "code",
   "execution_count": null,
   "metadata": {},
   "outputs": [],
   "source": [
    "# 设置环境变量\n",
    "import os\n",
    "os.environ['HF_HOME'] = './cache/hf_cache'\n",
    "os.environ['HF_ENDPOINT'] = 'https://hf-mirror.com'\n",
    "from PIL import Image\n",
    "import torch\n",
    "from diffusers import AutoPipelineForImage2Image\n",
    "from diffusers.utils import make_image_grid, load_image\n",
    "\n",
    "pipeline = AutoPipelineForImage2Image.from_pretrained(\n",
    "    \"runwayml/stable-diffusion-v1-5\", torch_dtype=torch.float16, variant=\"fp16\")\n",
    "pipeline.to(\"cuda\")\n",
    "\n",
    "# prepare image\n",
    "init_image = load_image(Image.open('./test.png').resize((512,512)))\n",
    "\n",
    "prompt = \"cute dog, cold color palette, muted colors, detailed, 8k\"\n",
    "\n",
    "# pass prompt and image to pipeline\n",
    "image = pipeline(prompt, image=init_image).images[0]\n",
    "make_image_grid([init_image, image], rows=1, cols=2)"
   ]
  }
 ],
 "metadata": {
  "kernelspec": {
   "display_name": "test",
   "language": "python",
   "name": "python3"
  },
  "language_info": {
   "codemirror_mode": {
    "name": "ipython",
    "version": 3
   },
   "file_extension": ".py",
   "mimetype": "text/x-python",
   "name": "python",
   "nbconvert_exporter": "python",
   "pygments_lexer": "ipython3",
   "version": "3.10.13"
  }
 },
 "nbformat": 4,
 "nbformat_minor": 2
}
