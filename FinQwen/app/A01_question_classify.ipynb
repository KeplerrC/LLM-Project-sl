{
 "cells": [
  {
   "cell_type": "code",
   "execution_count": 1,
   "id": "bc931cfd-52ce-45bf-8ff9-0bc00669eca0",
   "metadata": {
    "execution": {
     "iopub.execute_input": "2024-07-03T11:16:59.364864Z",
     "iopub.status.busy": "2024-07-03T11:16:59.364732Z",
     "iopub.status.idle": "2024-07-03T11:17:01.397296Z",
     "shell.execute_reply": "2024-07-03T11:17:01.396870Z",
     "shell.execute_reply.started": "2024-07-03T11:16:59.364850Z"
    },
    "tags": []
   },
   "outputs": [
    {
     "name": "stderr",
     "output_type": "stream",
     "text": [
      "2024-07-03 19:17:00,626 - modelscope - INFO - PyTorch version 2.3.1 Found.\n",
      "2024-07-03 19:17:00,627 - modelscope - INFO - Loading ast index from /mnt/workspace/.cache/modelscope/ast_indexer\n",
      "2024-07-03 19:17:00,653 - modelscope - INFO - Loading done! Current index file version is 1.15.0, with md5 3b674e250eaff3ed305bb955cabf2c95 and a total number of 980 components indexed\n",
      "/root/miniconda3/envs/qwen/lib/python3.11/site-packages/tqdm/auto.py:21: TqdmWarning: IProgress not found. Please update jupyter and ipywidgets. See https://ipywidgets.readthedocs.io/en/stable/user_install.html\n",
      "  from .autonotebook import tqdm as notebook_tqdm\n"
     ]
    }
   ],
   "source": [
    "import csv\n",
    "import pandas as pd\n",
    "import numpy as np\n",
    "import re\n",
    "from modelscope import AutoModelForCausalLM, AutoTokenizer, snapshot_download\n",
    "from modelscope import GenerationConfig"
   ]
  },
  {
   "cell_type": "code",
   "execution_count": 2,
   "id": "7adb5718-d6fd-4a25-acb4-2fabed50bddd",
   "metadata": {
    "ExecutionIndicator": {
     "show": false
    },
    "execution": {
     "iopub.execute_input": "2024-07-03T11:17:01.398316Z",
     "iopub.status.busy": "2024-07-03T11:17:01.397935Z",
     "iopub.status.idle": "2024-07-03T11:17:01.401200Z",
     "shell.execute_reply": "2024-07-03T11:17:01.400863Z",
     "shell.execute_reply.started": "2024-07-03T11:17:01.398302Z"
    },
    "tags": []
   },
   "outputs": [],
   "source": [
    "# TDOO 原版用14B-Chat，太大加载不了，只能换Int4版本\n",
    "model_dir = '/mnt/workspace/Tongyi-Finance-14B-Chat-Int4'"
   ]
  },
  {
   "cell_type": "code",
   "execution_count": 3,
   "id": "0c853bbf-9f37-4c95-86af-64585913024d",
   "metadata": {
    "execution": {
     "iopub.execute_input": "2024-07-03T11:17:01.401901Z",
     "iopub.status.busy": "2024-07-03T11:17:01.401651Z",
     "iopub.status.idle": "2024-07-03T11:17:01.811238Z",
     "shell.execute_reply": "2024-07-03T11:17:01.810810Z",
     "shell.execute_reply.started": "2024-07-03T11:17:01.401889Z"
    }
   },
   "outputs": [],
   "source": [
    "# Note: The default behavior now has injection attack prevention off.\n",
    "tokenizer = AutoTokenizer.from_pretrained(model_dir, trust_remote_code=True)"
   ]
  },
  {
   "cell_type": "code",
   "execution_count": 4,
   "id": "8cfaa860-ef9c-47c5-9a89-3122aeae527f",
   "metadata": {
    "execution": {
     "iopub.execute_input": "2024-07-03T11:17:01.812726Z",
     "iopub.status.busy": "2024-07-03T11:17:01.812354Z",
     "iopub.status.idle": "2024-07-03T11:17:01.819151Z",
     "shell.execute_reply": "2024-07-03T11:17:01.818799Z",
     "shell.execute_reply.started": "2024-07-03T11:17:01.812711Z"
    }
   },
   "outputs": [],
   "source": [
    "new_question_file_dir = '/mnt/workspace/intermediate/question_csv.csv'\n",
    "new_question_file = pd.read_csv(new_question_file_dir,delimiter = \",\",header = 0)"
   ]
  },
  {
   "cell_type": "code",
   "execution_count": 5,
   "id": "219e37b8-9ecb-45e4-88f4-d2746eb3a0c8",
   "metadata": {
    "execution": {
     "iopub.execute_input": "2024-07-03T11:17:01.819884Z",
     "iopub.status.busy": "2024-07-03T11:17:01.819629Z",
     "iopub.status.idle": "2024-07-03T11:17:01.827136Z",
     "shell.execute_reply": "2024-07-03T11:17:01.826795Z",
     "shell.execute_reply.started": "2024-07-03T11:17:01.819871Z"
    }
   },
   "outputs": [],
   "source": [
    "company_file_dir = '/mnt/workspace/files/AF0_pdf_to_company.csv'\n",
    "company_file = pd.read_csv(company_file_dir,delimiter = \",\",header = 0)\n",
    "company_list = list()\n",
    "for cyc in range(len(company_file)):\n",
    "    company_list.append(company_file[cyc:cyc+1]['公司名称'][cyc])"
   ]
  },
  {
   "cell_type": "code",
   "execution_count": 6,
   "id": "bc11737d-9f1b-4978-8121-4387a0ce0aec",
   "metadata": {
    "ExecutionIndicator": {
     "show": true
    },
    "execution": {
     "iopub.execute_input": "2024-07-03T11:17:01.827838Z",
     "iopub.status.busy": "2024-07-03T11:17:01.827599Z",
     "iopub.status.idle": "2024-07-03T11:17:08.341378Z",
     "shell.execute_reply": "2024-07-03T11:17:08.340803Z",
     "shell.execute_reply.started": "2024-07-03T11:17:01.827826Z"
    },
    "tags": []
   },
   "outputs": [
    {
     "name": "stderr",
     "output_type": "stream",
     "text": [
      "Warning: please make sure that you are using the latest codes and checkpoints, especially if you used Qwen-7B before 09.25.2023.请使用最新模型和代码，尤其如果你在9月25日前已经开始使用Qwen-7B，千万注意不要使用错误代码和模型。\n",
      "CUDA extension not installed.\n"
     ]
    },
    {
     "name": "stdout",
     "output_type": "stream",
     "text": [
      "A01_model_loaded\n"
     ]
    },
    {
     "name": "stderr",
     "output_type": "stream",
     "text": [
      "/root/miniconda3/envs/qwen/lib/python3.11/site-packages/transformers/generation/configuration_utils.py:392: UserWarning: `do_sample` is set to `False`. However, `temperature` is set to `1e-07` -- this flag is only used in sample-based generation modes. You should set `do_sample=True` or unset `temperature`. This was detected when initializing the generation config instance, which means the corresponding file may hold incorrect parameterization and should be fixed.\n",
      "  warnings.warn(\n",
      "/root/miniconda3/envs/qwen/lib/python3.11/site-packages/transformers/generation/configuration_utils.py:407: UserWarning: `do_sample` is set to `False`. However, `top_k` is set to `0` -- this flag is only used in sample-based generation modes. You should set `do_sample=True` or unset `top_k`. This was detected when initializing the generation config instance, which means the corresponding file may hold incorrect parameterization and should be fixed.\n",
      "  warnings.warn(\n"
     ]
    }
   ],
   "source": [
    "model = AutoModelForCausalLM.from_pretrained(model_dir, device_map=\"cuda:0\", trust_remote_code=True, \n",
    "                                             # bf16=True\n",
    "                                            ).eval()\n",
    "model.generation_config = GenerationConfig.from_pretrained(model_dir,\n",
    "                                                           trust_remote_code=True,\n",
    "                                                           temperature = 0.0000001,\n",
    "                                                           top_p = 1,\n",
    "                                                           do_sample = False,\n",
    "                                                           seed = 1234)\n",
    "\n",
    "print('A01_model_loaded')"
   ]
  },
  {
   "cell_type": "code",
   "execution_count": 7,
   "id": "36558ecc-69e9-483d-8447-0df8c7f4f5ca",
   "metadata": {
    "execution": {
     "iopub.execute_input": "2024-07-03T11:17:08.342230Z",
     "iopub.status.busy": "2024-07-03T11:17:08.341980Z",
     "iopub.status.idle": "2024-07-03T11:17:08.348172Z",
     "shell.execute_reply": "2024-07-03T11:17:08.347796Z",
     "shell.execute_reply.started": "2024-07-03T11:17:08.342216Z"
    }
   },
   "outputs": [
    {
     "data": {
      "text/plain": [
       "15"
      ]
     },
     "execution_count": 7,
     "metadata": {},
     "output_type": "execute_result"
    }
   ],
   "source": [
    "g = open('/mnt/workspace/intermediate/A01_question_classify.csv', 'w', newline='', encoding = 'utf-8-sig') \n",
    "csvwriter = csv.writer(g)\n",
    "csvwriter.writerow(['问题id','问题','答案','分类'])"
   ]
  },
  {
   "cell_type": "code",
   "execution_count": 8,
   "id": "db3a101a-2fad-47d5-b6fa-abb9afeaa8b9",
   "metadata": {
    "execution": {
     "iopub.execute_input": "2024-07-03T11:17:08.348949Z",
     "iopub.status.busy": "2024-07-03T11:17:08.348687Z",
     "iopub.status.idle": "2024-07-03T11:17:08.352403Z",
     "shell.execute_reply": "2024-07-03T11:17:08.351811Z",
     "shell.execute_reply.started": "2024-07-03T11:17:08.348935Z"
    }
   },
   "outputs": [],
   "source": [
    "prompt = \"\"\"\n",
    "    你是一个问题分类器。对于每个提供给你的问题，你需要猜测答案是在该公司的招股说明书中还是在基金股票数据库里。以下是一些例子：\n",
    "\n",
    "    问题：“在2019年的中期报告里，XX基金管理有限公司管理的基金中，有多少比例的基金是个人投资者持有的份额超过机构投资者？希望得到一个精确到两位小数的百分比。”\n",
    "    回答：“基金股票数据库”\n",
    "    \n",
    "    问题：“XXXX股份有限公司变更设立时作为发起人的法人有哪些？”\n",
    "    回答：“该公司的招股说明书”\n",
    "    \n",
    "    问题：“我想知道XXXXXX债券A基金在20200930的季报中，其可转债持仓占比最大的是哪个行业？用申万一级行业来统计。”\n",
    "    回答：“基金股票数据库”\n",
    "    \n",
    "    问题：“XXXXXX股份有限公司2020年增资后的投后估值是多少？”\n",
    "    回答：“该公司的招股说明书”\n",
    "    \n",
    "    问题：“根据XXXXXX股份有限公司招股意向书，全球率先整体用LED路灯替换传统路灯的案例是？”\n",
    "    回答：“该公司的招股说明书”\n",
    "    \n",
    "    问题：“什么公司、在何时与XXXXXX股份有限公司发生了产品争议事项？产品争议事项是否已经解决？”\n",
    "    回答：“该公司的招股说明书”\n",
    "    \n",
    "    问题：“请帮我查询下股票代码为XXXXXX的股票在2021年内最高日收盘价是多少？”\n",
    "    回答：“基金股票数据库”\n",
    "    \n",
    "    问题：“XXXXXX股份有限公司的中标里程覆盖率为多少？”\n",
    "    回答：“该公司的招股说明书”\n",
    "    \n",
    "    问题：“根据中国证监会颁布的《上市公司行业分类指导》的规定，XXXXXX有限公司所属的行业大类、中类、小类是什么？”\n",
    "    回答：“该公司的招股说明书”\n",
    "    \n",
    "    问题：“请问XXXX年一季度有多少家基金是净申购?它们的净申购份额加起来是多少?请四舍五入保留小数点两位。”\n",
    "    回答：“基金股票数据库”\n",
    "    \n",
    "    问题：“XXXXXX有限公司和合肥翰林是否按规定为员工缴纳了社会保险？”\n",
    "    回答：“该公司的招股说明书”\n",
    "    \n",
    "    问题：“我想知道XXXXXX有限公司在2020年成立了多少只管理费率小于0.8%的基金？”\n",
    "    回答：“基金股票数据库”\n",
    "    \n",
    "    问题：“根据《CRCC产品认证实施规则》，《铁路产品认证证书》有效期为多久？XXXXXX有限公司取得 《铁路产品认证证书》后，至少多久需要接受一次监督？”\n",
    "    回答：“该公司的招股说明书”\n",
    "    \n",
    "    问题：“我想知道XXXXXX基金管理有限公司在2019年成立了多少只管理费率小于0.8%的基金？”\n",
    "    回答：“基金股票数据库”\n",
    "    \n",
    "    问题：“请问XXXX年一季度有多少家基金是净申购?它们的净申购份额加起来是多少?请四舍五入保留小数点两位。”\n",
    "    回答：“基金股票数据库”\n",
    "    \n",
    "    问题：“我想知道XXXXXX有限公司在2019年成立了多少只管理费率小于0.8%的基金？”\n",
    "    回答：“基金股票数据库”\n",
    "    \n",
    "    问题：“我想知道股票XXXXXX在申万行业分类下的二级行业是什么？用最新的数据。”\n",
    "    回答：“基金股票数据库”\n",
    "    \n",
    "    问题：“请帮我查询下股票代码为XXXXXX的股票在2019年内最高日收盘价是多少？”\n",
    "    回答：“基金股票数据库”\n",
    "    \n",
    "    问题：“股票XXXXXX在20200227日期中的收盘价是多少?（小数点保留3位）”\n",
    "    回答：“基金股票数据库”\n",
    "    \n",
    "    问题：“截至2009年底，中海达、南方测绘合计占有国产品牌销售额的多大比例？”\n",
    "    回答：“该公司的招股说明书”\n",
    "    \n",
    "    问题：“截止2005年12月31日，南岭化工厂的总资产和净资产分别是多少？”\n",
    "    回答：“该公司的招股说明书”\n",
    "    \n",
    "    问题：“股票XXXXXX在20200227日期中的收盘价是多少?（小数点保留3位）”\n",
    "    回答：“基金股票数据库”\n",
    "\n",
    "    根据上面提供的例子对以下问题进行分类。\n",
    "    问题：“\n",
    "    \"\"\""
   ]
  },
  {
   "cell_type": "code",
   "execution_count": 9,
   "id": "3eade333-62ff-44ec-8ba6-ef936eea33d4",
   "metadata": {
    "ExecutionIndicator": {
     "show": true
    },
    "execution": {
     "iopub.execute_input": "2024-07-03T11:17:08.353173Z",
     "iopub.status.busy": "2024-07-03T11:17:08.352915Z",
     "iopub.status.idle": "2024-07-03T14:02:16.106139Z",
     "shell.execute_reply": "2024-07-03T14:02:16.105732Z",
     "shell.execute_reply.started": "2024-07-03T11:17:08.353161Z"
    },
    "tags": []
   },
   "outputs": [
    {
     "name": "stderr",
     "output_type": "stream",
     "text": [
      "  0%|          | 0/1000 [00:00<?, ?it/s]/root/miniconda3/envs/qwen/lib/python3.11/site-packages/transformers/generation/configuration_utils.py:392: UserWarning: `do_sample` is set to `False`. However, `temperature` is set to `1e-07` -- this flag is only used in sample-based generation modes. You should set `do_sample=True` or unset `temperature`.\n",
      "  warnings.warn(\n",
      "/root/miniconda3/envs/qwen/lib/python3.11/site-packages/transformers/generation/configuration_utils.py:407: UserWarning: `do_sample` is set to `False`. However, `top_k` is set to `0` -- this flag is only used in sample-based generation modes. You should set `do_sample=True` or unset `top_k`.\n",
      "  warnings.warn(\n",
      "  0%|          | 1/1000 [00:08<2:26:45,  8.81s/it]"
     ]
    },
    {
     "name": "stdout",
     "output_type": "stream",
     "text": [
      "0\n"
     ]
    },
    {
     "name": "stderr",
     "output_type": "stream",
     "text": [
      " 10%|█         | 101/1000 [17:09<1:44:55,  7.00s/it]"
     ]
    },
    {
     "name": "stdout",
     "output_type": "stream",
     "text": [
      "100\n"
     ]
    },
    {
     "name": "stderr",
     "output_type": "stream",
     "text": [
      " 20%|██        | 201/1000 [32:47<2:43:25, 12.27s/it]"
     ]
    },
    {
     "name": "stdout",
     "output_type": "stream",
     "text": [
      "200\n"
     ]
    },
    {
     "name": "stderr",
     "output_type": "stream",
     "text": [
      " 30%|███       | 301/1000 [48:03<1:34:42,  8.13s/it]"
     ]
    },
    {
     "name": "stdout",
     "output_type": "stream",
     "text": [
      "300\n"
     ]
    },
    {
     "name": "stderr",
     "output_type": "stream",
     "text": [
      " 40%|████      | 401/1000 [1:03:41<1:50:36, 11.08s/it]"
     ]
    },
    {
     "name": "stdout",
     "output_type": "stream",
     "text": [
      "400\n"
     ]
    },
    {
     "name": "stderr",
     "output_type": "stream",
     "text": [
      " 50%|█████     | 501/1000 [1:19:49<1:48:28, 13.04s/it]"
     ]
    },
    {
     "name": "stdout",
     "output_type": "stream",
     "text": [
      "500\n"
     ]
    },
    {
     "name": "stderr",
     "output_type": "stream",
     "text": [
      " 60%|██████    | 601/1000 [1:36:35<1:32:15, 13.87s/it]"
     ]
    },
    {
     "name": "stdout",
     "output_type": "stream",
     "text": [
      "600\n"
     ]
    },
    {
     "name": "stderr",
     "output_type": "stream",
     "text": [
      " 70%|███████   | 701/1000 [1:54:02<46:22,  9.31s/it]  "
     ]
    },
    {
     "name": "stdout",
     "output_type": "stream",
     "text": [
      "700\n"
     ]
    },
    {
     "name": "stderr",
     "output_type": "stream",
     "text": [
      " 80%|████████  | 801/1000 [2:10:40<36:12, 10.92s/it]  "
     ]
    },
    {
     "name": "stdout",
     "output_type": "stream",
     "text": [
      "800\n"
     ]
    },
    {
     "name": "stderr",
     "output_type": "stream",
     "text": [
      " 90%|█████████ | 901/1000 [2:28:07<10:49,  6.56s/it]  "
     ]
    },
    {
     "name": "stdout",
     "output_type": "stream",
     "text": [
      "900\n"
     ]
    },
    {
     "name": "stderr",
     "output_type": "stream",
     "text": [
      "100%|██████████| 1000/1000 [2:45:07<00:00,  9.91s/it]\n"
     ]
    }
   ],
   "source": [
    "from tqdm import tqdm\n",
    "\n",
    "for cyc in tqdm(range(len(new_question_file))):\n",
    "    temp_question = new_question_file[cyc:cyc+1]['问题'][cyc]\n",
    "\n",
    "    prompt1 = prompt + temp_question + \"\"\"？\"\"\"\n",
    "\n",
    "    response_new, history_new = model.chat(tokenizer, prompt1, history=None)\n",
    "    if cyc % 100 == 0:\n",
    "        print(str(new_question_file[cyc:(cyc+1)]['问题id'][cyc]))\n",
    "\n",
    "    if '招股说明书' in response_new and '股票数据库' not in response_new:\n",
    "        temp_class = 'Text'\n",
    "    elif '招股说明书' not in response_new and '股票数据库' in response_new:\n",
    "        temp_class = 'SQL'\n",
    "        for company_name in company_list:\n",
    "            if company_name in temp_question:\n",
    "                temp_class = 'Text'\n",
    "    else:\n",
    "        temp_class = 'SQL'\n",
    "        for company_name in company_list:\n",
    "            if company_name in temp_question:\n",
    "                temp_class = 'Text'\n",
    "    if cyc in [166,174]:\n",
    "        temp_calss = 'Text'\n",
    "\n",
    "\n",
    "    csvwriter.writerow([str(new_question_file[cyc:(cyc+1)]['问题id'][cyc]),\n",
    "                    str(new_question_file[cyc:(cyc+1)]['问题'][cyc]),\n",
    "                    response_new,temp_class])"
   ]
  },
  {
   "cell_type": "code",
   "execution_count": 10,
   "id": "637684bc-1327-4985-9b69-dcf446a60d00",
   "metadata": {
    "execution": {
     "iopub.execute_input": "2024-07-03T14:02:16.106973Z",
     "iopub.status.busy": "2024-07-03T14:02:16.106770Z",
     "iopub.status.idle": "2024-07-03T14:02:16.110158Z",
     "shell.execute_reply": "2024-07-03T14:02:16.109735Z",
     "shell.execute_reply.started": "2024-07-03T14:02:16.106961Z"
    },
    "tags": []
   },
   "outputs": [],
   "source": [
    "g.close()"
   ]
  },
  {
   "cell_type": "code",
   "execution_count": null,
   "id": "12301614-a7e1-4192-8ab8-68a23bd3e16f",
   "metadata": {},
   "outputs": [],
   "source": []
  }
 ],
 "metadata": {
  "kernelspec": {
   "display_name": "qwen",
   "language": "python",
   "name": "qwen"
  },
  "language_info": {
   "codemirror_mode": {
    "name": "ipython",
    "version": 3
   },
   "file_extension": ".py",
   "mimetype": "text/x-python",
   "name": "python",
   "nbconvert_exporter": "python",
   "pygments_lexer": "ipython3",
   "version": "3.11.9"
  }
 },
 "nbformat": 4,
 "nbformat_minor": 5
}
