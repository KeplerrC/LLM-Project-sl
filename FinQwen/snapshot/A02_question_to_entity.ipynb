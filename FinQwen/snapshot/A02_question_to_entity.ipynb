{
 "cells": [
  {
   "cell_type": "code",
   "execution_count": 1,
   "id": "f18b438e-7ee6-4061-a372-89f17ee6473e",
   "metadata": {
    "execution": {
     "iopub.execute_input": "2024-07-03T15:09:39.654718Z",
     "iopub.status.busy": "2024-07-03T15:09:39.654586Z",
     "iopub.status.idle": "2024-07-03T15:09:41.707972Z",
     "shell.execute_reply": "2024-07-03T15:09:41.707557Z",
     "shell.execute_reply.started": "2024-07-03T15:09:39.654704Z"
    }
   },
   "outputs": [
    {
     "name": "stderr",
     "output_type": "stream",
     "text": [
      "2024-07-03 23:09:40,936 - modelscope - INFO - PyTorch version 2.3.1 Found.\n",
      "2024-07-03 23:09:40,937 - modelscope - INFO - Loading ast index from /mnt/workspace/.cache/modelscope/ast_indexer\n",
      "2024-07-03 23:09:40,963 - modelscope - INFO - Loading done! Current index file version is 1.15.0, with md5 3b674e250eaff3ed305bb955cabf2c95 and a total number of 980 components indexed\n",
      "/root/miniconda3/envs/qwen/lib/python3.11/site-packages/tqdm/auto.py:21: TqdmWarning: IProgress not found. Please update jupyter and ipywidgets. See https://ipywidgets.readthedocs.io/en/stable/user_install.html\n",
      "  from .autonotebook import tqdm as notebook_tqdm\n"
     ]
    }
   ],
   "source": [
    "import csv\n",
    "import pandas as pd\n",
    "import numpy as np\n",
    "import re\n",
    "import copy\n",
    "from modelscope import AutoModelForCausalLM, AutoTokenizer, snapshot_download\n",
    "from modelscope import GenerationConfig"
   ]
  },
  {
   "cell_type": "code",
   "execution_count": 2,
   "id": "33d22f5d-b521-47ee-9dad-24a0e3e9fa27",
   "metadata": {
    "execution": {
     "iopub.execute_input": "2024-07-03T15:09:41.708909Z",
     "iopub.status.busy": "2024-07-03T15:09:41.708522Z",
     "iopub.status.idle": "2024-07-03T15:09:41.711895Z",
     "shell.execute_reply": "2024-07-03T15:09:41.711553Z",
     "shell.execute_reply.started": "2024-07-03T15:09:41.708893Z"
    }
   },
   "outputs": [],
   "source": [
    "# TDOO 原版用14B-Chat，太大加载不了，只能换Int4版本\n",
    "model_dir = '/mnt/workspace/Tongyi-Finance-14B-Chat-Int4'"
   ]
  },
  {
   "cell_type": "code",
   "execution_count": 3,
   "id": "b6567510-476a-4abf-906a-6960629fc630",
   "metadata": {
    "execution": {
     "iopub.execute_input": "2024-07-03T15:09:41.712645Z",
     "iopub.status.busy": "2024-07-03T15:09:41.712458Z",
     "iopub.status.idle": "2024-07-03T15:09:42.118933Z",
     "shell.execute_reply": "2024-07-03T15:09:42.118495Z",
     "shell.execute_reply.started": "2024-07-03T15:09:41.712633Z"
    }
   },
   "outputs": [],
   "source": [
    "# Note: The default behavior now has injection attack prevention off.\n",
    "tokenizer = AutoTokenizer.from_pretrained(model_dir, trust_remote_code=True)"
   ]
  },
  {
   "cell_type": "code",
   "execution_count": 4,
   "id": "1ca3c552-01dc-4fb7-a553-0872bb4cc382",
   "metadata": {
    "execution": {
     "iopub.execute_input": "2024-07-03T15:09:42.120239Z",
     "iopub.status.busy": "2024-07-03T15:09:42.120028Z",
     "iopub.status.idle": "2024-07-03T15:09:42.126836Z",
     "shell.execute_reply": "2024-07-03T15:09:42.126482Z",
     "shell.execute_reply.started": "2024-07-03T15:09:42.120224Z"
    }
   },
   "outputs": [],
   "source": [
    "new_question_file_dir = '/mnt/workspace/intermediate/A01_question_classify.csv'\n",
    "new_question_file = pd.read_csv(new_question_file_dir,delimiter = \",\",header = 0)"
   ]
  },
  {
   "cell_type": "code",
   "execution_count": 5,
   "id": "63041029-ff0c-494e-a597-c6a7535db707",
   "metadata": {
    "execution": {
     "iopub.execute_input": "2024-07-03T15:09:42.127603Z",
     "iopub.status.busy": "2024-07-03T15:09:42.127312Z",
     "iopub.status.idle": "2024-07-03T15:09:42.130835Z",
     "shell.execute_reply": "2024-07-03T15:09:42.130488Z",
     "shell.execute_reply.started": "2024-07-03T15:09:42.127589Z"
    }
   },
   "outputs": [],
   "source": [
    "company_file_dir = '/mnt/workspace/files/AF0_pdf_to_company.csv'\n",
    "company_file = pd.read_csv(company_file_dir,delimiter = \",\",header = 0)"
   ]
  },
  {
   "cell_type": "code",
   "execution_count": 6,
   "id": "90815581-89f8-4812-bb8c-698292efcd6a",
   "metadata": {
    "execution": {
     "iopub.execute_input": "2024-07-03T15:09:42.131529Z",
     "iopub.status.busy": "2024-07-03T15:09:42.131330Z",
     "iopub.status.idle": "2024-07-03T15:09:42.147824Z",
     "shell.execute_reply": "2024-07-03T15:09:42.147479Z",
     "shell.execute_reply.started": "2024-07-03T15:09:42.131516Z"
    }
   },
   "outputs": [],
   "source": [
    "company_data_csv_list = list()\n",
    "company_index_list = list()\n",
    "company_name_list = list()\n",
    "for cyc in range(len(company_file)):\n",
    "    company_name_list.append(company_file[cyc:cyc+1]['公司名称'][cyc])\n",
    "    company_data_csv_list.append(company_file[cyc:cyc+1]['csv文件名'][cyc])\n",
    "    temp_index_cp = tokenizer(company_file[cyc:cyc+1]['公司名称'][cyc])\n",
    "    temp_index_cp = temp_index_cp['input_ids']\n",
    "    company_index_list.append(temp_index_cp)"
   ]
  },
  {
   "cell_type": "code",
   "execution_count": 7,
   "id": "25af4d78-6565-4baf-8135-a03fa0170acb",
   "metadata": {
    "execution": {
     "iopub.execute_input": "2024-07-03T15:09:42.148531Z",
     "iopub.status.busy": "2024-07-03T15:09:42.148264Z",
     "iopub.status.idle": "2024-07-03T15:09:42.153804Z",
     "shell.execute_reply": "2024-07-03T15:09:42.153474Z",
     "shell.execute_reply.started": "2024-07-03T15:09:42.148519Z"
    }
   },
   "outputs": [
    {
     "data": {
      "text/plain": [
       "24"
      ]
     },
     "execution_count": 7,
     "metadata": {},
     "output_type": "execute_result"
    }
   ],
   "source": [
    "g = open('/mnt/workspace/intermediate/A02_question_classify_entity.csv', 'w', newline='', encoding = 'utf-8-sig') \n",
    "csvwriter = csv.writer(g)\n",
    "csvwriter.writerow(['问题id','问题','分类','对应实体','csv文件名'])"
   ]
  },
  {
   "cell_type": "code",
   "execution_count": 8,
   "id": "6f22e83d-1fe4-414d-8774-8979a4326e1c",
   "metadata": {
    "execution": {
     "iopub.execute_input": "2024-07-03T15:09:42.154556Z",
     "iopub.status.busy": "2024-07-03T15:09:42.154251Z",
     "iopub.status.idle": "2024-07-03T15:09:42.423828Z",
     "shell.execute_reply": "2024-07-03T15:09:42.423441Z",
     "shell.execute_reply.started": "2024-07-03T15:09:42.154544Z"
    }
   },
   "outputs": [],
   "source": [
    "for cyc in range(len(new_question_file)):\n",
    "    \n",
    "    tempw_id = new_question_file[cyc:cyc+1]['问题id'][cyc]\n",
    "    tempw_q = new_question_file[cyc:cyc+1]['问题'][cyc]\n",
    "    tempw_q_class = new_question_file[cyc:cyc+1]['分类'][cyc]\n",
    "    tempw_entity = 'N_A'\n",
    "    tempw_csv_name = 'N_A'\n",
    "    \n",
    "    \n",
    "    if new_question_file[cyc:cyc+1]['分类'][cyc] == 'Text':\n",
    "        temp_index_q = tokenizer(new_question_file[cyc:cyc+1]['问题'][cyc])\n",
    "        temp_index_q = temp_index_q['input_ids']\n",
    "        q_cp_similarity_list = list()\n",
    "        for cyc2 in range(len(company_file)):\n",
    "            temp_index_cp = company_index_list[cyc2]\n",
    "            temp_simi = len(set(temp_index_cp) &set(temp_index_q))/ (len(set(temp_index_cp))+len(set(temp_index_q)))\n",
    "            q_cp_similarity_list.append(temp_simi)\n",
    "            \n",
    "            \n",
    "        t = copy.deepcopy(q_cp_similarity_list) \n",
    "        max_number = []\n",
    "        max_index = []\n",
    "        \n",
    "        for _ in range(1):\n",
    "            number = max(t)\n",
    "            index = t.index(number)\n",
    "            t[index] = 0\n",
    "            max_number.append(number)\n",
    "            max_index.append(index)\n",
    "        t = []\n",
    "        tempw_entity = company_name_list[max_index[0]]\n",
    "        tempw_csv_name = company_data_csv_list[max_index[0]]\n",
    "       \n",
    "        csvwriter.writerow([str(tempw_id),str(tempw_q),tempw_q_class,tempw_entity,tempw_csv_name])\n",
    "    elif new_question_file[cyc:cyc+1]['分类'][cyc] == 'SQL':\n",
    "        csvwriter.writerow([str(tempw_id),str(tempw_q),tempw_q_class,tempw_entity,tempw_csv_name])\n",
    "    else:\n",
    "        find_its_name_flag = 0\n",
    "        for cyc_name in range(len(company_name_list)):\n",
    "            if company_name_list[cyc_name] in tempw_q:\n",
    "                tempw_entity = company_name_list[cyc_name]\n",
    "                tempw_csv_name = company_data_csv_list[cyc_name]\n",
    "                csvwriter.writerow([str(tempw_id),str(tempw_q),tempw_q_class,tempw_entity,tempw_csv_name])\n",
    "                find_its_name_flag = 1\n",
    "                break\n",
    "        if find_its_name_flag == 0:\n",
    "            csvwriter.writerow([str(tempw_id),str(tempw_q),tempw_q_class,tempw_entity,tempw_csv_name])\n"
   ]
  },
  {
   "cell_type": "code",
   "execution_count": 9,
   "id": "f94f4db5-da96-414c-aeba-f315970a559a",
   "metadata": {
    "execution": {
     "iopub.execute_input": "2024-07-03T15:09:42.424523Z",
     "iopub.status.busy": "2024-07-03T15:09:42.424372Z",
     "iopub.status.idle": "2024-07-03T15:09:42.427788Z",
     "shell.execute_reply": "2024-07-03T15:09:42.427437Z",
     "shell.execute_reply.started": "2024-07-03T15:09:42.424510Z"
    }
   },
   "outputs": [
    {
     "name": "stdout",
     "output_type": "stream",
     "text": [
      "A02_finished\n"
     ]
    }
   ],
   "source": [
    "g.close()\n",
    "print('A02_finished')"
   ]
  },
  {
   "cell_type": "code",
   "execution_count": null,
   "id": "9f5f55ac-a7d8-492c-b67a-a85ce6352468",
   "metadata": {},
   "outputs": [],
   "source": []
  },
  {
   "cell_type": "code",
   "execution_count": null,
   "id": "1237e63b-fdd2-4fc3-8ab5-5ed9e90f68fc",
   "metadata": {},
   "outputs": [],
   "source": []
  },
  {
   "cell_type": "code",
   "execution_count": null,
   "id": "22c0a9cd-f8d1-4b7b-8129-cb5a4d56b7c3",
   "metadata": {},
   "outputs": [],
   "source": []
  }
 ],
 "metadata": {
  "kernelspec": {
   "display_name": "qwen",
   "language": "python",
   "name": "qwen"
  },
  "language_info": {
   "codemirror_mode": {
    "name": "ipython",
    "version": 3
   },
   "file_extension": ".py",
   "mimetype": "text/x-python",
   "name": "python",
   "nbconvert_exporter": "python",
   "pygments_lexer": "ipython3",
   "version": "3.11.9"
  }
 },
 "nbformat": 4,
 "nbformat_minor": 5
}
