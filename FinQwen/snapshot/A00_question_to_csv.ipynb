{
 "cells": [
  {
   "cell_type": "code",
   "execution_count": 1,
   "id": "ce9e7225-c623-44b4-9e62-26415215708a",
   "metadata": {
    "execution": {
     "iopub.execute_input": "2024-07-03T09:44:20.555794Z",
     "iopub.status.busy": "2024-07-03T09:44:20.555585Z",
     "iopub.status.idle": "2024-07-03T09:44:20.913011Z",
     "shell.execute_reply": "2024-07-03T09:44:20.912512Z",
     "shell.execute_reply.started": "2024-07-03T09:44:20.555777Z"
    },
    "tags": []
   },
   "outputs": [],
   "source": [
    "import jsonlines\n",
    "import pandas as pd\n",
    "import csv\n",
    "import json"
   ]
  },
  {
   "cell_type": "code",
   "execution_count": 2,
   "id": "c4ff3bb4-2593-45f4-a450-e9d25eec02e0",
   "metadata": {
    "execution": {
     "iopub.execute_input": "2024-07-03T09:44:20.914036Z",
     "iopub.status.busy": "2024-07-03T09:44:20.913780Z",
     "iopub.status.idle": "2024-07-03T09:44:20.917601Z",
     "shell.execute_reply": "2024-07-03T09:44:20.917032Z",
     "shell.execute_reply.started": "2024-07-03T09:44:20.914018Z"
    },
    "tags": []
   },
   "outputs": [],
   "source": [
    "def read_jsonl(path):\n",
    "    content = []\n",
    "    with jsonlines.open(path, \"r\") as json_file:\n",
    "        for obj in json_file.iter(type=dict, skip_invalid=True):\n",
    "            content.append(obj)\n",
    "    return content"
   ]
  },
  {
   "cell_type": "code",
   "execution_count": 3,
   "id": "09c93765-ba3e-4476-b4b8-94b08ed5192c",
   "metadata": {
    "execution": {
     "iopub.execute_input": "2024-07-03T09:44:20.918907Z",
     "iopub.status.busy": "2024-07-03T09:44:20.918609Z",
     "iopub.status.idle": "2024-07-03T09:44:20.922130Z",
     "shell.execute_reply": "2024-07-03T09:44:20.921659Z",
     "shell.execute_reply.started": "2024-07-03T09:44:20.918880Z"
    },
    "tags": []
   },
   "outputs": [],
   "source": [
    "def write_jsonl(path, content):\n",
    "    with jsonlines.open(path, \"w\") as json_file:\n",
    "        json_file.write_all(content)"
   ]
  },
  {
   "cell_type": "code",
   "execution_count": 4,
   "id": "8beb0e0d-597a-4019-a3cc-6e56039e8c5e",
   "metadata": {
    "execution": {
     "iopub.execute_input": "2024-07-03T09:44:20.923670Z",
     "iopub.status.busy": "2024-07-03T09:44:20.923431Z",
     "iopub.status.idle": "2024-07-03T09:44:20.929307Z",
     "shell.execute_reply": "2024-07-03T09:44:20.928698Z",
     "shell.execute_reply.started": "2024-07-03T09:44:20.923652Z"
    },
    "tags": []
   },
   "outputs": [],
   "source": [
    "cont = read_jsonl('/mnt/workspace/bs_challenge_financial_14b_dataset/question.json')"
   ]
  },
  {
   "cell_type": "code",
   "execution_count": 5,
   "id": "798084dd-3b1e-4f4b-a775-547fe5241b99",
   "metadata": {
    "ExecutionIndicator": {
     "show": true
    },
    "execution": {
     "iopub.execute_input": "2024-07-03T09:44:20.930141Z",
     "iopub.status.busy": "2024-07-03T09:44:20.929981Z",
     "iopub.status.idle": "2024-07-03T09:44:20.936269Z",
     "shell.execute_reply": "2024-07-03T09:44:20.935732Z",
     "shell.execute_reply.started": "2024-07-03T09:44:20.930126Z"
    },
    "tags": []
   },
   "outputs": [
    {
     "data": {
      "text/plain": [
       "9"
      ]
     },
     "execution_count": 5,
     "metadata": {},
     "output_type": "execute_result"
    }
   ],
   "source": [
    "g = open('/mnt/workspace/intermediate/question_csv.csv', 'w', newline='', encoding = 'utf-8-sig')\n",
    "csvwriter = csv.writer(g)\n",
    "csvwriter.writerow(['问题id','问题'])"
   ]
  },
  {
   "cell_type": "code",
   "execution_count": 6,
   "id": "80281275-3e3f-40ab-8478-5819911fd2df",
   "metadata": {
    "execution": {
     "iopub.execute_input": "2024-07-03T09:44:20.936988Z",
     "iopub.status.busy": "2024-07-03T09:44:20.936824Z",
     "iopub.status.idle": "2024-07-03T09:44:20.942941Z",
     "shell.execute_reply": "2024-07-03T09:44:20.942252Z",
     "shell.execute_reply.started": "2024-07-03T09:44:20.936972Z"
    }
   },
   "outputs": [],
   "source": [
    "for cyc in range(1000):\n",
    "    temp_question = cont[cyc]['question']\n",
    "    temp_question = temp_question .replace(' ','')\n",
    "    csvwriter.writerow([str(cont[cyc]['id']),cont[cyc]['question']])"
   ]
  },
  {
   "cell_type": "code",
   "execution_count": 7,
   "id": "c66f35c9-8115-446b-a7d1-4b5e59c51e67",
   "metadata": {
    "execution": {
     "iopub.execute_input": "2024-07-03T09:44:20.943851Z",
     "iopub.status.busy": "2024-07-03T09:44:20.943562Z",
     "iopub.status.idle": "2024-07-03T09:44:20.946735Z",
     "shell.execute_reply": "2024-07-03T09:44:20.946033Z",
     "shell.execute_reply.started": "2024-07-03T09:44:20.943834Z"
    }
   },
   "outputs": [],
   "source": [
    "g.close()"
   ]
  },
  {
   "cell_type": "code",
   "execution_count": null,
   "id": "75084721-7069-458a-ab7d-3ee773933908",
   "metadata": {},
   "outputs": [],
   "source": []
  },
  {
   "cell_type": "code",
   "execution_count": null,
   "id": "6cdaee58-2ccc-4dc3-baf2-724eeda1d07d",
   "metadata": {},
   "outputs": [],
   "source": []
  },
  {
   "cell_type": "code",
   "execution_count": null,
   "id": "e08c8dbc-56ff-42f5-a44a-4b29dab58943",
   "metadata": {},
   "outputs": [],
   "source": []
  },
  {
   "cell_type": "code",
   "execution_count": null,
   "id": "5c19d533-674a-403d-97a1-8f36dcc51463",
   "metadata": {},
   "outputs": [],
   "source": []
  }
 ],
 "metadata": {
  "kernelspec": {
   "display_name": "qwen",
   "language": "python",
   "name": "qwen"
  },
  "language_info": {
   "codemirror_mode": {
    "name": "ipython",
    "version": 3
   },
   "file_extension": ".py",
   "mimetype": "text/x-python",
   "name": "python",
   "nbconvert_exporter": "python",
   "pygments_lexer": "ipython3",
   "version": "3.11.9"
  }
 },
 "nbformat": 4,
 "nbformat_minor": 5
}
