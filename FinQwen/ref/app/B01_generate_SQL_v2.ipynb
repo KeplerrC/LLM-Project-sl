{
 "cells": [
  {
   "cell_type": "code",
   "execution_count": 1,
   "id": "25295366-8cf0-4e04-8cd8-bf0789879c50",
   "metadata": {
    "execution": {
     "iopub.execute_input": "2024-07-03T15:28:19.886094Z",
     "iopub.status.busy": "2024-07-03T15:28:19.885912Z",
     "iopub.status.idle": "2024-07-03T15:28:19.892029Z",
     "shell.execute_reply": "2024-07-03T15:28:19.891590Z",
     "shell.execute_reply.started": "2024-07-03T15:28:19.886080Z"
    }
   },
   "outputs": [],
   "source": [
    "table_name_list = ['基金基本信息','基金股票持仓明细','基金债券持仓明细','基金可转债持仓明细','基金日行情表','A股票日行情表','港股票日行情表','A股公司行业划分表','基金规模变动表','基金份额持有人结构']\n",
    "table_info_dict = {}\n",
    "n = 5\n",
    "deny_list = ['0','1','2','3','4','5','6','7','8','9','，','？','。',\n",
    "             '一','二','三','四','五','六','七','八','九','零','十',\n",
    "            '的','小','请','.','?','有多少','帮我','我想','知道',\n",
    "             '是多少','保留','是什么','-','(',')','（','）','：',\n",
    "              '哪个','统计','且','和','来','请问','记得','有','它们']"
   ]
  },
  {
   "cell_type": "code",
   "execution_count": 2,
   "id": "2c6926b9-3a22-4f58-a69e-b6cd302cc4da",
   "metadata": {
    "execution": {
     "iopub.execute_input": "2024-07-03T15:28:19.892814Z",
     "iopub.status.busy": "2024-07-03T15:28:19.892584Z",
     "iopub.status.idle": "2024-07-03T15:28:22.155668Z",
     "shell.execute_reply": "2024-07-03T15:28:22.155255Z",
     "shell.execute_reply.started": "2024-07-03T15:28:19.892802Z"
    }
   },
   "outputs": [
    {
     "name": "stderr",
     "output_type": "stream",
     "text": [
      "2024-07-03 23:28:21,290 - modelscope - INFO - PyTorch version 2.3.1 Found.\n",
      "2024-07-03 23:28:21,292 - modelscope - INFO - Loading ast index from /mnt/workspace/.cache/modelscope/ast_indexer\n",
      "2024-07-03 23:28:21,317 - modelscope - INFO - Loading done! Current index file version is 1.15.0, with md5 3b674e250eaff3ed305bb955cabf2c95 and a total number of 980 components indexed\n",
      "/root/miniconda3/envs/qwen/lib/python3.11/site-packages/tqdm/auto.py:21: TqdmWarning: IProgress not found. Please update jupyter and ipywidgets. See https://ipywidgets.readthedocs.io/en/stable/user_install.html\n",
      "  from .autonotebook import tqdm as notebook_tqdm\n"
     ]
    }
   ],
   "source": [
    "import csv\n",
    "import pandas as pd \n",
    "import numpy as np\n",
    "import sqlite3\n",
    "import re\n",
    "import copy \n",
    "from langchain.utilities import SQLDatabase\n",
    "from modelscope import AutoModelForCausalLM, AutoTokenizer, snapshot_download\n",
    "from modelscope import GenerationConfig"
   ]
  },
  {
   "cell_type": "code",
   "execution_count": 3,
   "id": "bf65675c-f106-45f3-87a3-f2f3c83b1194",
   "metadata": {
    "execution": {
     "iopub.execute_input": "2024-07-03T15:28:22.156668Z",
     "iopub.status.busy": "2024-07-03T15:28:22.156215Z",
     "iopub.status.idle": "2024-07-03T15:28:22.178626Z",
     "shell.execute_reply": "2024-07-03T15:28:22.178259Z",
     "shell.execute_reply.started": "2024-07-03T15:28:22.156653Z"
    }
   },
   "outputs": [],
   "source": [
    "db0 = SQLDatabase.from_uri(\"sqlite:////mnt/workspace/bs_challenge_financial_14b_dataset/dataset/博金杯比赛数据.db\", sample_rows_in_table_info=0)\n",
    "dbd0 = db0.table_info"
   ]
  },
  {
   "cell_type": "code",
   "execution_count": 4,
   "id": "b6608cbf-a9d4-407b-9556-3bec555ddcaf",
   "metadata": {
    "execution": {
     "iopub.execute_input": "2024-07-03T15:28:22.179837Z",
     "iopub.status.busy": "2024-07-03T15:28:22.179637Z",
     "iopub.status.idle": "2024-07-03T15:28:22.210600Z",
     "shell.execute_reply": "2024-07-03T15:28:22.210239Z",
     "shell.execute_reply.started": "2024-07-03T15:28:22.179825Z"
    }
   },
   "outputs": [],
   "source": [
    "db2 = SQLDatabase.from_uri(\"sqlite:////mnt/workspace/bs_challenge_financial_14b_dataset/dataset/博金杯比赛数据.db\", sample_rows_in_table_info=2)\n",
    "dbd2 = db2.table_info"
   ]
  },
  {
   "cell_type": "code",
   "execution_count": 5,
   "id": "9f8e53e1-a200-4aa6-88a2-04c653cb6817",
   "metadata": {
    "execution": {
     "iopub.execute_input": "2024-07-03T15:28:22.211267Z",
     "iopub.status.busy": "2024-07-03T15:28:22.211070Z",
     "iopub.status.idle": "2024-07-03T15:28:22.214590Z",
     "shell.execute_reply": "2024-07-03T15:28:22.214238Z",
     "shell.execute_reply.started": "2024-07-03T15:28:22.211255Z"
    }
   },
   "outputs": [],
   "source": [
    "list1 = dbd2.split('CREATE TABLE')\n",
    "for cyc_piece in range(len(list1)):\n",
    "    list1[cyc_piece] = 'CREATE TABLE' + list1[cyc_piece]\n",
    "for piece in list1:\n",
    "    for word in table_name_list:\n",
    "        if word in piece:\n",
    "            table_info_dict[word] = piece"
   ]
  },
  {
   "cell_type": "code",
   "execution_count": 6,
   "id": "27def33e-a659-4a1e-953f-ad1d1a959160",
   "metadata": {
    "execution": {
     "iopub.execute_input": "2024-07-03T15:28:22.215201Z",
     "iopub.status.busy": "2024-07-03T15:28:22.215026Z",
     "iopub.status.idle": "2024-07-03T15:28:22.222581Z",
     "shell.execute_reply": "2024-07-03T15:28:22.222238Z",
     "shell.execute_reply.started": "2024-07-03T15:28:22.215189Z"
    }
   },
   "outputs": [],
   "source": [
    "question_csv_file_dir = \"/mnt/workspace/intermediate/A01_question_classify.csv\"\n",
    "question_csv_file = pd.read_csv(question_csv_file_dir,delimiter = \",\",header = 0)"
   ]
  },
  {
   "cell_type": "code",
   "execution_count": 7,
   "id": "57c897fc-d6c8-4999-8bdd-ad66108a05ca",
   "metadata": {
    "execution": {
     "iopub.execute_input": "2024-07-03T15:28:22.223197Z",
     "iopub.status.busy": "2024-07-03T15:28:22.223073Z",
     "iopub.status.idle": "2024-07-03T15:28:28.752691Z",
     "shell.execute_reply": "2024-07-03T15:28:28.752252Z",
     "shell.execute_reply.started": "2024-07-03T15:28:22.223186Z"
    }
   },
   "outputs": [
    {
     "name": "stderr",
     "output_type": "stream",
     "text": [
      "Warning: please make sure that you are using the latest codes and checkpoints, especially if you used Qwen-7B before 09.25.2023.请使用最新模型和代码，尤其如果你在9月25日前已经开始使用Qwen-7B，千万注意不要使用错误代码和模型。\n",
      "CUDA extension not installed.\n"
     ]
    },
    {
     "name": "stdout",
     "output_type": "stream",
     "text": [
      "B01_model_loaded\n"
     ]
    },
    {
     "name": "stderr",
     "output_type": "stream",
     "text": [
      "/root/miniconda3/envs/qwen/lib/python3.11/site-packages/transformers/generation/configuration_utils.py:392: UserWarning: `do_sample` is set to `False`. However, `temperature` is set to `0.0001` -- this flag is only used in sample-based generation modes. You should set `do_sample=True` or unset `temperature`. This was detected when initializing the generation config instance, which means the corresponding file may hold incorrect parameterization and should be fixed.\n",
      "  warnings.warn(\n",
      "/root/miniconda3/envs/qwen/lib/python3.11/site-packages/transformers/generation/configuration_utils.py:407: UserWarning: `do_sample` is set to `False`. However, `top_k` is set to `0` -- this flag is only used in sample-based generation modes. You should set `do_sample=True` or unset `top_k`. This was detected when initializing the generation config instance, which means the corresponding file may hold incorrect parameterization and should be fixed.\n",
      "  warnings.warn(\n"
     ]
    }
   ],
   "source": [
    "# TDOO 原版用14B-Chat，太大加载不了，只能换Int4版本\n",
    "model_dir = '/mnt/workspace/Tongyi-Finance-14B-Chat-Int4'\n",
    "# Note: The default behavior now has injection attack prevention off.\n",
    "tokenizer = AutoTokenizer.from_pretrained(model_dir, trust_remote_code=True)\n",
    "model = AutoModelForCausalLM.from_pretrained(model_dir, device_map=\"cuda:0\", trust_remote_code=True, \n",
    "                                             # bf16=True\n",
    "                                            ).eval()    \n",
    "model.generation_config = GenerationConfig.from_pretrained(model_dir,\n",
    "                                                           trust_remote_code=True,\n",
    "                                                           temperature = 0.0001,\n",
    "                                                           top_p = 1,\n",
    "                                                           do_sample = False,\n",
    "                                                           seed = 1234)\n",
    "\n",
    "print('B01_model_loaded')"
   ]
  },
  {
   "cell_type": "code",
   "execution_count": 8,
   "id": "4ab10f24-d90a-4e91-b7cc-8c40077a781e",
   "metadata": {
    "execution": {
     "iopub.execute_input": "2024-07-03T15:28:28.753559Z",
     "iopub.status.busy": "2024-07-03T15:28:28.753276Z",
     "iopub.status.idle": "2024-07-03T15:28:28.758576Z",
     "shell.execute_reply": "2024-07-03T15:28:28.758243Z",
     "shell.execute_reply.started": "2024-07-03T15:28:28.753538Z"
    }
   },
   "outputs": [],
   "source": [
    "deny_token_list = list()\n",
    "for word in deny_list:\n",
    "    temp_tokens = tokenizer(word)\n",
    "    temp_tokens = temp_tokens['input_ids']\n",
    "    deny_token_list = deny_token_list + temp_tokens"
   ]
  },
  {
   "cell_type": "code",
   "execution_count": 9,
   "id": "2d7c0584-942f-4b88-ac17-1631ef796a8f",
   "metadata": {
    "execution": {
     "iopub.execute_input": "2024-07-03T15:28:28.759142Z",
     "iopub.status.busy": "2024-07-03T15:28:28.759017Z",
     "iopub.status.idle": "2024-07-03T15:28:28.762597Z",
     "shell.execute_reply": "2024-07-03T15:28:28.762244Z",
     "shell.execute_reply.started": "2024-07-03T15:28:28.759131Z"
    }
   },
   "outputs": [],
   "source": [
    "def get_prompt_v33(question,index_list):\n",
    "    \n",
    "    Examples = '以下是一些例子：'\n",
    "    for index in index_list:\n",
    "        Examples = Examples + \"问题：\" + example_question_list[index] + '\\n'\n",
    "        Examples = Examples + \"SQL：\" + example_sql_list[index] + '\\n'\n",
    "    \n",
    "    impt2 = \"\"\"\n",
    "        你是一个精通SQL语句的程序员。\n",
    "        我会给你一个问题，请按照问题描述，仿照以下例子写出正确的SQL代码。\n",
    "    \"\"\"\n",
    "    \n",
    "                \n",
    "    impt2 = impt2 + Examples\n",
    "\n",
    "    impt2 = impt2 +  \"问题：\" + question + '\\n'\n",
    "    impt2 = impt2 +  \"SQL：\" \n",
    "    return impt2"
   ]
  },
  {
   "cell_type": "code",
   "execution_count": 10,
   "id": "1cd4ee4d-afda-4383-a6d5-acfdfa99df6a",
   "metadata": {
    "execution": {
     "iopub.execute_input": "2024-07-03T15:28:28.763192Z",
     "iopub.status.busy": "2024-07-03T15:28:28.763033Z",
     "iopub.status.idle": "2024-07-03T15:28:28.768578Z",
     "shell.execute_reply": "2024-07-03T15:28:28.768238Z",
     "shell.execute_reply.started": "2024-07-03T15:28:28.763180Z"
    }
   },
   "outputs": [],
   "source": [
    "SQL_examples_file_dir = \"/mnt/workspace/files/ICL_EXP.csv\"\n",
    "SQL_examples_file = pd.read_csv(SQL_examples_file_dir,delimiter = \",\",header = 0)"
   ]
  },
  {
   "cell_type": "code",
   "execution_count": 11,
   "id": "1432074a-55d9-4047-a942-238f2c264c6f",
   "metadata": {
    "execution": {
     "iopub.execute_input": "2024-07-03T15:28:28.769259Z",
     "iopub.status.busy": "2024-07-03T15:28:28.769127Z",
     "iopub.status.idle": "2024-07-03T15:28:28.771589Z",
     "shell.execute_reply": "2024-07-03T15:28:28.771246Z",
     "shell.execute_reply.started": "2024-07-03T15:28:28.769249Z"
    }
   },
   "outputs": [],
   "source": [
    "example_employ_list = list()\n",
    "for cyc in range(len(SQL_examples_file)):\n",
    "    example_employ_list.append(0)"
   ]
  },
  {
   "cell_type": "code",
   "execution_count": 12,
   "id": "1d7c432c-beeb-4ee7-b6c8-3e36504333c8",
   "metadata": {
    "execution": {
     "iopub.execute_input": "2024-07-03T15:28:28.772157Z",
     "iopub.status.busy": "2024-07-03T15:28:28.772003Z",
     "iopub.status.idle": "2024-07-03T15:28:28.774594Z",
     "shell.execute_reply": "2024-07-03T15:28:28.774245Z",
     "shell.execute_reply.started": "2024-07-03T15:28:28.772146Z"
    }
   },
   "outputs": [],
   "source": [
    "example_question_list = list()\n",
    "example_table_list = list()\n",
    "example_sql_list = list()\n",
    "example_token_list = list()"
   ]
  },
  {
   "cell_type": "code",
   "execution_count": 13,
   "id": "b6a0bc65-b929-43e6-933a-84d502e32923",
   "metadata": {
    "execution": {
     "iopub.execute_input": "2024-07-03T15:28:28.775904Z",
     "iopub.status.busy": "2024-07-03T15:28:28.775744Z",
     "iopub.status.idle": "2024-07-03T15:28:28.816582Z",
     "shell.execute_reply": "2024-07-03T15:28:28.816231Z",
     "shell.execute_reply.started": "2024-07-03T15:28:28.775892Z"
    }
   },
   "outputs": [],
   "source": [
    "for cyc in range(len(SQL_examples_file)):\n",
    "    example_question_list.append(SQL_examples_file[cyc:cyc+1]['问题'][cyc])\n",
    "    example_sql_list.append(SQL_examples_file[cyc:cyc+1]['SQL'][cyc])\n",
    "    temp_tokens = tokenizer(SQL_examples_file[cyc:cyc+1]['问题'][cyc])\n",
    "    temp_tokens = temp_tokens['input_ids']\n",
    "    temp_tokens2 = [x for x in temp_tokens if x not in deny_token_list]\n",
    "    example_token_list.append(temp_tokens2)"
   ]
  },
  {
   "cell_type": "code",
   "execution_count": 14,
   "id": "974aabdf-7ff5-47ce-9516-ba7bdeecb165",
   "metadata": {
    "execution": {
     "iopub.execute_input": "2024-07-03T15:28:28.817177Z",
     "iopub.status.busy": "2024-07-03T15:28:28.817016Z",
     "iopub.status.idle": "2024-07-03T15:28:28.822559Z",
     "shell.execute_reply": "2024-07-03T15:28:28.822231Z",
     "shell.execute_reply.started": "2024-07-03T15:28:28.817165Z"
    }
   },
   "outputs": [
    {
     "data": {
      "text/plain": [
       "22"
      ]
     },
     "execution_count": 14,
     "metadata": {},
     "output_type": "execute_result"
    }
   ],
   "source": [
    "g = open('/mnt/workspace/intermediate/question_SQL_V6.csv', 'w', newline='', encoding = 'utf-8-sig') \n",
    "csvwriter = csv.writer(g)\n",
    "csvwriter.writerow(['问题id','问题','SQL语句','prompt'])"
   ]
  },
  {
   "cell_type": "code",
   "execution_count": 15,
   "id": "72a19d23-e918-41c8-a2e7-4f0a201bf979",
   "metadata": {
    "execution": {
     "iopub.execute_input": "2024-07-03T15:28:28.823138Z",
     "iopub.status.busy": "2024-07-03T15:28:28.822981Z",
     "iopub.status.idle": "2024-07-03T15:28:28.825578Z",
     "shell.execute_reply": "2024-07-03T15:28:28.825240Z",
     "shell.execute_reply.started": "2024-07-03T15:28:28.823127Z"
    }
   },
   "outputs": [],
   "source": [
    "pattern1 = r'\\d{8}'"
   ]
  },
  {
   "cell_type": "code",
   "execution_count": null,
   "id": "47ec906f-fb9c-4f35-aca1-e702f8f8bf3e",
   "metadata": {
    "execution": {
     "iopub.execute_input": "2024-07-03T15:28:28.826258Z",
     "iopub.status.busy": "2024-07-03T15:28:28.826003Z"
    }
   },
   "outputs": [
    {
     "name": "stderr",
     "output_type": "stream",
     "text": [
      "  0%|          | 0/1000 [00:00<?, ?it/s]/root/miniconda3/envs/qwen/lib/python3.11/site-packages/transformers/generation/configuration_utils.py:392: UserWarning: `do_sample` is set to `False`. However, `temperature` is set to `0.0001` -- this flag is only used in sample-based generation modes. You should set `do_sample=True` or unset `temperature`.\n",
      "  warnings.warn(\n",
      "/root/miniconda3/envs/qwen/lib/python3.11/site-packages/transformers/generation/configuration_utils.py:407: UserWarning: `do_sample` is set to `False`. However, `top_k` is set to `0` -- this flag is only used in sample-based generation modes. You should set `do_sample=True` or unset `top_k`.\n",
      "  warnings.warn(\n"
     ]
    },
    {
     "name": "stdout",
     "output_type": "stream",
     "text": [
      "0\n"
     ]
    },
    {
     "name": "stderr",
     "output_type": "stream",
     "text": [
      "  5%|▍         | 49/1000 [41:34<8:01:45, 30.39s/it] "
     ]
    },
    {
     "name": "stdout",
     "output_type": "stream",
     "text": [
      "50\n"
     ]
    },
    {
     "name": "stderr",
     "output_type": "stream",
     "text": [
      " 10%|█         | 100/1000 [1:15:26<9:13:55, 36.93s/it]"
     ]
    },
    {
     "name": "stdout",
     "output_type": "stream",
     "text": [
      "100\n"
     ]
    },
    {
     "name": "stderr",
     "output_type": "stream",
     "text": [
      " 15%|█▍        | 148/1000 [1:47:19<8:32:32, 36.09s/it] "
     ]
    },
    {
     "name": "stdout",
     "output_type": "stream",
     "text": [
      "150\n"
     ]
    },
    {
     "name": "stderr",
     "output_type": "stream",
     "text": [
      " 20%|█▉        | 199/1000 [2:23:39<11:42:00, 52.58s/it] "
     ]
    },
    {
     "name": "stdout",
     "output_type": "stream",
     "text": [
      "200\n"
     ]
    },
    {
     "name": "stderr",
     "output_type": "stream",
     "text": [
      " 25%|██▍       | 249/1000 [3:01:24<8:19:55, 39.94s/it] "
     ]
    },
    {
     "name": "stdout",
     "output_type": "stream",
     "text": [
      "250\n"
     ]
    },
    {
     "name": "stderr",
     "output_type": "stream",
     "text": [
      " 30%|███       | 300/1000 [3:45:06<14:49:59, 76.28s/it] "
     ]
    },
    {
     "name": "stdout",
     "output_type": "stream",
     "text": [
      "300\n"
     ]
    },
    {
     "name": "stderr",
     "output_type": "stream",
     "text": [
      " 35%|███▌      | 350/1000 [4:17:24<5:35:43, 30.99s/it] "
     ]
    },
    {
     "name": "stdout",
     "output_type": "stream",
     "text": [
      "350\n"
     ]
    },
    {
     "name": "stderr",
     "output_type": "stream",
     "text": [
      " 40%|███▉      | 398/1000 [5:00:07<17:02:54, 101.95s/it]"
     ]
    },
    {
     "name": "stdout",
     "output_type": "stream",
     "text": [
      "400\n"
     ]
    },
    {
     "name": "stderr",
     "output_type": "stream",
     "text": [
      " 45%|████▍     | 449/1000 [5:32:14<7:32:28, 49.27s/it]  "
     ]
    },
    {
     "name": "stdout",
     "output_type": "stream",
     "text": [
      "450\n"
     ]
    },
    {
     "name": "stderr",
     "output_type": "stream",
     "text": [
      " 50%|█████     | 500/1000 [6:11:42<6:51:05, 49.33s/it] "
     ]
    },
    {
     "name": "stdout",
     "output_type": "stream",
     "text": [
      "500\n"
     ]
    },
    {
     "name": "stderr",
     "output_type": "stream",
     "text": [
      " 55%|█████▌    | 550/1000 [6:49:52<4:27:19, 35.64s/it] "
     ]
    },
    {
     "name": "stdout",
     "output_type": "stream",
     "text": [
      "550\n"
     ]
    },
    {
     "name": "stderr",
     "output_type": "stream",
     "text": [
      " 60%|██████    | 600/1000 [7:31:07<6:13:18, 56.00s/it]  "
     ]
    },
    {
     "name": "stdout",
     "output_type": "stream",
     "text": [
      "600\n"
     ]
    },
    {
     "name": "stderr",
     "output_type": "stream",
     "text": [
      " 65%|██████▍   | 649/1000 [8:11:22<3:30:11, 35.93s/it]  "
     ]
    },
    {
     "name": "stdout",
     "output_type": "stream",
     "text": [
      "650\n"
     ]
    },
    {
     "name": "stderr",
     "output_type": "stream",
     "text": [
      " 70%|██████▉   | 699/1000 [8:39:47<1:45:25, 21.01s/it]"
     ]
    },
    {
     "name": "stdout",
     "output_type": "stream",
     "text": [
      "700\n"
     ]
    },
    {
     "name": "stderr",
     "output_type": "stream",
     "text": [
      " 75%|███████▌  | 750/1000 [9:10:11<4:04:49, 58.76s/it]"
     ]
    },
    {
     "name": "stdout",
     "output_type": "stream",
     "text": [
      "750\n"
     ]
    },
    {
     "name": "stderr",
     "output_type": "stream",
     "text": [
      " 80%|███████▉  | 799/1000 [9:37:05<58:19, 17.41s/it]  "
     ]
    },
    {
     "name": "stdout",
     "output_type": "stream",
     "text": [
      "800\n"
     ]
    },
    {
     "name": "stderr",
     "output_type": "stream",
     "text": [
      " 82%|████████▏ | 821/1000 [9:51:13<1:51:14, 37.29s/it]"
     ]
    }
   ],
   "source": [
    "from tqdm import tqdm\n",
    "\n",
    "for cyc in tqdm(range(len(question_csv_file))):\n",
    "    if cyc % 50 == 0:\n",
    "        print(cyc)\n",
    "    response2 = 'N_A'\n",
    "    prompt2 = 'N_A'\n",
    "\n",
    "    if question_csv_file['分类'][cyc] == 'SQL' and cyc not in [174]:\n",
    "        temp_question = question_csv_file[cyc:cyc+1]['问题'][cyc]\n",
    "        date_list =  re.findall(pattern1,temp_question)\n",
    "        temp_question2_for_search = temp_question\n",
    "        for t_date in date_list:\n",
    "            temp_question2_for_search.replace(t_date,' ')\n",
    "        temp_tokens = tokenizer(temp_question2_for_search)\n",
    "        temp_tokens = temp_tokens['input_ids']\n",
    "        temp_tokens2 = [x for x in temp_tokens if x not in deny_token_list]\n",
    "        temp_tokens = temp_tokens2\n",
    "        #计算与已有问题的相似度\n",
    "        similarity_list = list()\n",
    "        for cyc2 in range(len(SQL_examples_file)):\n",
    "            similarity_list.append(len(set(temp_tokens) &set(example_token_list[cyc2]))/ (len(set(temp_tokens))+len(set(example_token_list[cyc2])) ))\n",
    "\n",
    "        #求与第X个问题相似的问题\n",
    "\n",
    "        t = copy.deepcopy(similarity_list)\n",
    "        # 求m个最大的数值及其索引\n",
    "        max_number = []\n",
    "        max_index = []\n",
    "        for _ in range(n):\n",
    "            number = max(t)\n",
    "            index = t.index(number)\n",
    "            t[index] = 0\n",
    "            max_number.append(number)\n",
    "            max_index.append(index)\n",
    "        t = []\n",
    "        \n",
    "        temp_length_test = \"\"\n",
    "        short_index_list = list()\n",
    "        for index in max_index:\n",
    "            temp_length_test_1 = temp_length_test\n",
    "            temp_length_test = temp_length_test + example_question_list[index]\n",
    "            temp_length_test = temp_length_test + example_sql_list[index]\n",
    "            if len(temp_length_test) > 2300:\n",
    "                break\n",
    "            short_index_list.append(index)\n",
    "        \n",
    "        prompt2 = get_prompt_v33(question_csv_file['问题'][cyc],short_index_list)\n",
    "        response2, history = model.chat(tokenizer, prompt2, history=None)\n",
    "    else:\n",
    "        pass\n",
    "    csvwriter.writerow([str(question_csv_file[cyc:(cyc+1)]['问题id'][cyc]),\n",
    "                str(question_csv_file[cyc:(cyc+1)]['问题'][cyc]),\n",
    "                response2,prompt2])"
   ]
  },
  {
   "cell_type": "code",
   "execution_count": null,
   "id": "066fb75d-7a3f-4751-8782-2e49f8b7b88e",
   "metadata": {
    "tags": []
   },
   "outputs": [],
   "source": [
    "g.close()"
   ]
  },
  {
   "cell_type": "code",
   "execution_count": null,
   "id": "aebc2701-0890-40f6-ba27-98664ce2339f",
   "metadata": {},
   "outputs": [],
   "source": []
  },
  {
   "cell_type": "code",
   "execution_count": null,
   "id": "1e10c57d-40cc-4276-8a55-da15441e45d3",
   "metadata": {},
   "outputs": [],
   "source": []
  },
  {
   "cell_type": "code",
   "execution_count": null,
   "id": "f88fb160-028d-469a-a5ae-a428e24f5e8d",
   "metadata": {},
   "outputs": [],
   "source": []
  },
  {
   "cell_type": "code",
   "execution_count": null,
   "id": "9fe2e623-8192-4fe5-9a68-a57d4f5d8fa6",
   "metadata": {},
   "outputs": [],
   "source": []
  },
  {
   "cell_type": "code",
   "execution_count": null,
   "id": "8799f142-afef-4fe9-a29e-864ad6f2ebef",
   "metadata": {},
   "outputs": [],
   "source": []
  },
  {
   "cell_type": "code",
   "execution_count": null,
   "id": "8b2d5e6b-ee0e-4131-a988-13b4fde7ab20",
   "metadata": {},
   "outputs": [],
   "source": []
  },
  {
   "cell_type": "code",
   "execution_count": null,
   "id": "2a3dfa59-80ac-4373-849a-b1e99a416206",
   "metadata": {},
   "outputs": [],
   "source": []
  },
  {
   "cell_type": "code",
   "execution_count": null,
   "id": "f7da54a0-9e41-4002-a2fa-4fbc98de3a18",
   "metadata": {},
   "outputs": [],
   "source": []
  }
 ],
 "metadata": {
  "kernelspec": {
   "display_name": "qwen",
   "language": "python",
   "name": "qwen"
  },
  "language_info": {
   "codemirror_mode": {
    "name": "ipython",
    "version": 3
   },
   "file_extension": ".py",
   "mimetype": "text/x-python",
   "name": "python",
   "nbconvert_exporter": "python",
   "pygments_lexer": "ipython3",
   "version": "3.11.9"
  }
 },
 "nbformat": 4,
 "nbformat_minor": 5
}
