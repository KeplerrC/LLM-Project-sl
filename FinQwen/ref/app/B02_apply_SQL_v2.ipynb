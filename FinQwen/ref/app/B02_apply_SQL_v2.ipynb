{
 "cells": [
  {
   "cell_type": "code",
   "execution_count": 1,
   "id": "9d2efa97-9ded-4225-91c2-e5fb42b65572",
   "metadata": {
    "execution": {
     "iopub.execute_input": "2024-07-04T09:46:00.956586Z",
     "iopub.status.busy": "2024-07-04T09:46:00.956436Z",
     "iopub.status.idle": "2024-07-04T09:46:01.219431Z",
     "shell.execute_reply": "2024-07-04T09:46:01.218978Z",
     "shell.execute_reply.started": "2024-07-04T09:46:00.956571Z"
    }
   },
   "outputs": [],
   "source": [
    "import sqlite3\n",
    "import re\n",
    "import csv\n",
    "import pandas as pd\n",
    "import faulthandler"
   ]
  },
  {
   "cell_type": "code",
   "execution_count": 2,
   "id": "55b3e6af-9eaa-4e82-b510-9f8abb5e9974",
   "metadata": {
    "execution": {
     "iopub.execute_input": "2024-07-04T09:46:01.220860Z",
     "iopub.status.busy": "2024-07-04T09:46:01.220594Z",
     "iopub.status.idle": "2024-07-04T09:46:01.223463Z",
     "shell.execute_reply": "2024-07-04T09:46:01.223008Z",
     "shell.execute_reply.started": "2024-07-04T09:46:01.220842Z"
    }
   },
   "outputs": [],
   "source": [
    "faulthandler.enable()\n",
    "term_list_1 = ['基金股票持仓明细','基金债券持仓明细','基金可转债持仓明细']"
   ]
  },
  {
   "cell_type": "code",
   "execution_count": 3,
   "id": "4d40121e-8d1e-48e2-8419-be86a3ff3483",
   "metadata": {
    "execution": {
     "iopub.execute_input": "2024-07-04T09:46:01.224419Z",
     "iopub.status.busy": "2024-07-04T09:46:01.223997Z",
     "iopub.status.idle": "2024-07-04T09:46:01.226627Z",
     "shell.execute_reply": "2024-07-04T09:46:01.226172Z",
     "shell.execute_reply.started": "2024-07-04T09:46:01.224403Z"
    }
   },
   "outputs": [],
   "source": [
    "conn = sqlite3.connect('/mnt/workspace/bs_challenge_financial_14b_dataset/dataset/博金杯比赛数据.db')\n",
    "cs = conn.cursor()"
   ]
  },
  {
   "cell_type": "code",
   "execution_count": 4,
   "id": "b1bc27c0-01f4-4229-9587-253911a4228a",
   "metadata": {
    "execution": {
     "iopub.execute_input": "2024-07-04T09:46:01.227572Z",
     "iopub.status.busy": "2024-07-04T09:46:01.227150Z",
     "iopub.status.idle": "2024-07-04T09:46:01.250652Z",
     "shell.execute_reply": "2024-07-04T09:46:01.250258Z",
     "shell.execute_reply.started": "2024-07-04T09:46:01.227548Z"
    }
   },
   "outputs": [],
   "source": [
    "new_question_file_dir = '/mnt/workspace/intermediate/question_SQL_V6.csv'\n",
    "new_question_file = pd.read_csv(new_question_file_dir,delimiter = \",\",header = 0)"
   ]
  },
  {
   "cell_type": "code",
   "execution_count": 5,
   "id": "25d95578-69a0-403b-a593-58563bb6290f",
   "metadata": {
    "execution": {
     "iopub.execute_input": "2024-07-04T09:46:01.251349Z",
     "iopub.status.busy": "2024-07-04T09:46:01.251166Z",
     "iopub.status.idle": "2024-07-04T09:46:01.254600Z",
     "shell.execute_reply": "2024-07-04T09:46:01.254216Z",
     "shell.execute_reply.started": "2024-07-04T09:46:01.251334Z"
    }
   },
   "outputs": [
    {
     "name": "stdout",
     "output_type": "stream",
     "text": [
      "B02_started\n"
     ]
    }
   ],
   "source": [
    "g = open('/mnt/workspace/intermediate/question_SQL_V6_exed.csv', 'w', newline='', encoding = 'utf-8-sig') \n",
    "csvwriter = csv.writer(g)\n",
    "csvwriter.writerow(['问题id','问题','SQL语句','能否成功执行','执行结果','List'])\n",
    "print('B02_started')"
   ]
  },
  {
   "cell_type": "code",
   "execution_count": 6,
   "id": "7028861a-7ce2-4500-9bd9-ccda7434131c",
   "metadata": {
    "execution": {
     "iopub.execute_input": "2024-07-04T09:46:01.255306Z",
     "iopub.status.busy": "2024-07-04T09:46:01.255123Z",
     "iopub.status.idle": "2024-07-04T10:54:01.508071Z",
     "shell.execute_reply": "2024-07-04T10:54:01.507605Z",
     "shell.execute_reply.started": "2024-07-04T09:46:01.255291Z"
    }
   },
   "outputs": [
    {
     "name": "stderr",
     "output_type": "stream",
     "text": [
      "  0%|          | 0/1000 [00:00<?, ?it/s]"
     ]
    },
    {
     "name": "stdout",
     "output_type": "stream",
     "text": [
      "0\n"
     ]
    },
    {
     "name": "stderr",
     "output_type": "stream",
     "text": [
      "  5%|▍         | 49/1000 [06:15<2:01:37,  7.67s/it]"
     ]
    },
    {
     "name": "stdout",
     "output_type": "stream",
     "text": [
      "50\n"
     ]
    },
    {
     "name": "stderr",
     "output_type": "stream",
     "text": [
      " 10%|▉         | 99/1000 [08:13<1:29:46,  5.98s/it]"
     ]
    },
    {
     "name": "stdout",
     "output_type": "stream",
     "text": [
      "100\n"
     ]
    },
    {
     "name": "stderr",
     "output_type": "stream",
     "text": [
      " 15%|█▍        | 146/1000 [08:52<04:37,  3.08it/s]  "
     ]
    },
    {
     "name": "stdout",
     "output_type": "stream",
     "text": [
      "150\n"
     ]
    },
    {
     "name": "stderr",
     "output_type": "stream",
     "text": [
      " 20%|██        | 204/1000 [12:36<1:33:24,  7.04s/it]"
     ]
    },
    {
     "name": "stdout",
     "output_type": "stream",
     "text": [
      "200\n"
     ]
    },
    {
     "name": "stderr",
     "output_type": "stream",
     "text": [
      " 25%|██▍       | 249/1000 [16:30<1:36:25,  7.70s/it]"
     ]
    },
    {
     "name": "stdout",
     "output_type": "stream",
     "text": [
      "250\n"
     ]
    },
    {
     "name": "stderr",
     "output_type": "stream",
     "text": [
      " 30%|███       | 300/1000 [22:07<2:12:58, 11.40s/it]"
     ]
    },
    {
     "name": "stdout",
     "output_type": "stream",
     "text": [
      "300\n"
     ]
    },
    {
     "name": "stderr",
     "output_type": "stream",
     "text": [
      " 35%|███▌      | 350/1000 [27:22<1:15:12,  6.94s/it]"
     ]
    },
    {
     "name": "stdout",
     "output_type": "stream",
     "text": [
      "350\n"
     ]
    },
    {
     "name": "stderr",
     "output_type": "stream",
     "text": [
      " 40%|███▉      | 397/1000 [32:55<3:43:09, 22.20s/it]"
     ]
    },
    {
     "name": "stdout",
     "output_type": "stream",
     "text": [
      "400\n"
     ]
    },
    {
     "name": "stderr",
     "output_type": "stream",
     "text": [
      " 45%|████▌     | 451/1000 [35:32<43:03,  4.71s/it]  "
     ]
    },
    {
     "name": "stdout",
     "output_type": "stream",
     "text": [
      "450\n"
     ]
    },
    {
     "name": "stderr",
     "output_type": "stream",
     "text": [
      " 50%|█████     | 504/1000 [39:23<02:21,  3.51it/s]  "
     ]
    },
    {
     "name": "stdout",
     "output_type": "stream",
     "text": [
      "500\n"
     ]
    },
    {
     "name": "stderr",
     "output_type": "stream",
     "text": [
      " 55%|█████▌    | 553/1000 [43:15<10:14,  1.38s/it]  "
     ]
    },
    {
     "name": "stdout",
     "output_type": "stream",
     "text": [
      "550\n"
     ]
    },
    {
     "name": "stderr",
     "output_type": "stream",
     "text": [
      " 60%|██████    | 603/1000 [48:36<27:43,  4.19s/it]  "
     ]
    },
    {
     "name": "stdout",
     "output_type": "stream",
     "text": [
      "600\n"
     ]
    },
    {
     "name": "stderr",
     "output_type": "stream",
     "text": [
      " 65%|██████▍   | 649/1000 [57:21<32:47,  5.60s/it]  "
     ]
    },
    {
     "name": "stdout",
     "output_type": "stream",
     "text": [
      "650\n"
     ]
    },
    {
     "name": "stderr",
     "output_type": "stream",
     "text": [
      " 70%|██████▉   | 699/1000 [59:16<01:12,  4.16it/s]  "
     ]
    },
    {
     "name": "stdout",
     "output_type": "stream",
     "text": [
      "700\n"
     ]
    },
    {
     "name": "stderr",
     "output_type": "stream",
     "text": [
      " 75%|███████▌  | 754/1000 [1:01:13<20:28,  4.99s/it]"
     ]
    },
    {
     "name": "stdout",
     "output_type": "stream",
     "text": [
      "750\n"
     ]
    },
    {
     "name": "stderr",
     "output_type": "stream",
     "text": [
      " 79%|███████▊  | 786/1000 [1:01:24<01:17,  2.77it/s]"
     ]
    },
    {
     "name": "stdout",
     "output_type": "stream",
     "text": [
      "800\n"
     ]
    },
    {
     "name": "stderr",
     "output_type": "stream",
     "text": [
      " 85%|████████▌ | 850/1000 [1:03:21<13:00,  5.20s/it]"
     ]
    },
    {
     "name": "stdout",
     "output_type": "stream",
     "text": [
      "850\n"
     ]
    },
    {
     "name": "stderr",
     "output_type": "stream",
     "text": [
      " 90%|█████████ | 901/1000 [1:05:13<01:56,  1.17s/it]"
     ]
    },
    {
     "name": "stdout",
     "output_type": "stream",
     "text": [
      "900\n"
     ]
    },
    {
     "name": "stderr",
     "output_type": "stream",
     "text": [
      " 95%|█████████▌| 950/1000 [1:06:09<00:40,  1.23it/s]"
     ]
    },
    {
     "name": "stdout",
     "output_type": "stream",
     "text": [
      "950\n"
     ]
    },
    {
     "name": "stderr",
     "output_type": "stream",
     "text": [
      "100%|██████████| 1000/1000 [1:08:00<00:00,  4.08s/it]\n"
     ]
    }
   ],
   "source": [
    "from tqdm import tqdm\n",
    "\n",
    "for cyc in tqdm(range(1000)):\n",
    "    if cyc % 50 == 0:\n",
    "        print(cyc)\n",
    "    SQL_list = list()\n",
    "    SQL_exe_flag = 0\n",
    "    Use_similar_table_flag = 0\n",
    "    SQL_exe_result = 'N_A'\n",
    "    temp_sql = new_question_file[cyc:cyc+1]['SQL语句'][cyc]\n",
    "    temp_sql = temp_sql.replace(\"B股票日行情表\",'A股票日行情表')   \n",
    "    temp_sql = temp_sql.replace(\"创业板日行情表\",'A股票日行情表')   \n",
    "    if \" 股票日行情表\" in temp_sql:\n",
    "        temp_sql = temp_sql.replace(\" 股票日行情表\",' A股票日行情表')  \n",
    "    if \" 港股日行情表\" in temp_sql:\n",
    "        temp_sql = temp_sql.replace(\" 港股日行情表\",' 港股票日行情表')  \n",
    "    temp_sql = temp_sql.replace(\"”\",'').replace(\"“\",'')                                    \n",
    "    \n",
    "    origin_success_flag = 0\n",
    "    try:\n",
    "        cs.execute(temp_sql)\n",
    "        cols = cs.fetchall()\n",
    "        SQL_exe_result = str(cols)\n",
    "        origin_success_flag = 1\n",
    "    except:\n",
    "        for item in term_list_1:\n",
    "            if item in temp_sql:\n",
    "                Use_similar_table_flag = 1\n",
    "                original_item = item\n",
    "                break\n",
    "        if Use_similar_table_flag == 1:\n",
    "            for item in temp_sql:\n",
    "                try:\n",
    "                    cs.execute(temp_sql.replace(original_item,item))\n",
    "                    cols = cs.fetchall()\n",
    "                    SQL_exe_result = str(cols)\n",
    "                    SQL_exe_flag = 2\n",
    "                    break\n",
    "                except:\n",
    "                    pass\n",
    "\n",
    "    csvwriter.writerow([str(new_question_file[cyc:(cyc+1)]['问题id'][cyc]),\n",
    "                    str(new_question_file[cyc:(cyc+1)]['问题'][cyc]),\n",
    "                    temp_sql,\n",
    "                    origin_success_flag,\n",
    "                    SQL_exe_result])"
   ]
  },
  {
   "cell_type": "code",
   "execution_count": 7,
   "id": "4f01c651-770a-4209-a2e1-5ee5397d2d9d",
   "metadata": {
    "execution": {
     "iopub.execute_input": "2024-07-04T10:54:01.509543Z",
     "iopub.status.busy": "2024-07-04T10:54:01.509315Z",
     "iopub.status.idle": "2024-07-04T10:54:01.512008Z",
     "shell.execute_reply": "2024-07-04T10:54:01.511579Z",
     "shell.execute_reply.started": "2024-07-04T10:54:01.509527Z"
    }
   },
   "outputs": [],
   "source": [
    "g.close()"
   ]
  },
  {
   "cell_type": "code",
   "execution_count": null,
   "id": "5780d7b8-1a1e-4b58-b791-9cf1ccf45cfe",
   "metadata": {},
   "outputs": [],
   "source": []
  },
  {
   "cell_type": "code",
   "execution_count": null,
   "id": "f2ee6190-f51b-40f6-bfb4-97fff7deee30",
   "metadata": {},
   "outputs": [],
   "source": []
  },
  {
   "cell_type": "code",
   "execution_count": null,
   "id": "c6c7a5c3-9024-425d-bf37-567242c64c59",
   "metadata": {},
   "outputs": [],
   "source": []
  },
  {
   "cell_type": "code",
   "execution_count": null,
   "id": "8e2151bd-4df0-4630-9090-313dbb037651",
   "metadata": {},
   "outputs": [],
   "source": []
  },
  {
   "cell_type": "code",
   "execution_count": null,
   "id": "1186c1bf-a3ab-4e1d-8f29-ee0f74d2fbf9",
   "metadata": {},
   "outputs": [],
   "source": []
  }
 ],
 "metadata": {
  "kernelspec": {
   "display_name": "qwen",
   "language": "python",
   "name": "qwen"
  },
  "language_info": {
   "codemirror_mode": {
    "name": "ipython",
    "version": 3
   },
   "file_extension": ".py",
   "mimetype": "text/x-python",
   "name": "python",
   "nbconvert_exporter": "python",
   "pygments_lexer": "ipython3",
   "version": "3.11.9"
  }
 },
 "nbformat": 4,
 "nbformat_minor": 5
}
